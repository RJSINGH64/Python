{
 "cells": [
  {
   "cell_type": "code",
   "execution_count": 5,
   "id": "8e6e8783",
   "metadata": {},
   "outputs": [],
   "source": [
    "def test(a,b):\n",
    "    \"\"\"This is a fuction for addition \"\"\"\n",
    "    return a+b\n",
    "    "
   ]
  },
  {
   "cell_type": "code",
   "execution_count": 2,
   "id": "3907ad9c",
   "metadata": {},
   "outputs": [
    {
     "data": {
      "text/plain": [
       "5"
      ]
     },
     "execution_count": 2,
     "metadata": {},
     "output_type": "execute_result"
    }
   ],
   "source": [
    "test(1,4)"
   ]
  },
  {
   "cell_type": "code",
   "execution_count": 3,
   "id": "a2ece2de",
   "metadata": {},
   "outputs": [
    {
     "data": {
      "text/plain": [
       "51"
      ]
     },
     "execution_count": 3,
     "metadata": {},
     "output_type": "execute_result"
    }
   ],
   "source": [
    "test(b=45,a=6)"
   ]
  },
  {
   "cell_type": "code",
   "execution_count": 4,
   "id": "90940c8d",
   "metadata": {},
   "outputs": [
    {
     "data": {
      "text/plain": [
       "'sudhkumar'"
      ]
     },
     "execution_count": 4,
     "metadata": {},
     "output_type": "execute_result"
    }
   ],
   "source": [
    "test(\"sudh\",\"kumar\")"
   ]
  },
  {
   "cell_type": "code",
   "execution_count": 8,
   "id": "d9e47a55",
   "metadata": {},
   "outputs": [],
   "source": [
    "def test1(a,b,c,d,e):\n",
    "    return a,b,c,d,e\n",
    "    "
   ]
  },
  {
   "cell_type": "code",
   "execution_count": 10,
   "id": "6fd72eac",
   "metadata": {},
   "outputs": [
    {
     "data": {
      "text/plain": [
       "(1, 2, 3, 45, 6)"
      ]
     },
     "execution_count": 10,
     "metadata": {},
     "output_type": "execute_result"
    }
   ],
   "source": [
    "test1(1,2,3,45,6)"
   ]
  },
  {
   "cell_type": "code",
   "execution_count": 23,
   "id": "353eea96",
   "metadata": {},
   "outputs": [],
   "source": [
    "def test3(*a):\n",
    "    \n",
    "    return list(a)"
   ]
  },
  {
   "cell_type": "code",
   "execution_count": 24,
   "id": "92f9a0f4",
   "metadata": {},
   "outputs": [
    {
     "data": {
      "text/plain": [
       "[12, 3, 4, 4, 5, {2, 3, 4, 5}]"
      ]
     },
     "execution_count": 24,
     "metadata": {},
     "output_type": "execute_result"
    }
   ],
   "source": [
    "test3(12,3,4,4,5,{2,3,4,5})"
   ]
  },
  {
   "cell_type": "code",
   "execution_count": 25,
   "id": "b987362b",
   "metadata": {},
   "outputs": [],
   "source": [
    "def test4(*args):\n",
    "    return args"
   ]
  },
  {
   "cell_type": "code",
   "execution_count": 27,
   "id": "cc8122be",
   "metadata": {},
   "outputs": [],
   "source": [
    "a,b,c,d,e,f=test4(12,3,3,4,5,6)"
   ]
  },
  {
   "cell_type": "code",
   "execution_count": 28,
   "id": "eccef604",
   "metadata": {},
   "outputs": [
    {
     "data": {
      "text/plain": [
       "6"
      ]
     },
     "execution_count": 28,
     "metadata": {},
     "output_type": "execute_result"
    }
   ],
   "source": [
    "f"
   ]
  },
  {
   "cell_type": "code",
   "execution_count": 33,
   "id": "4ff05db3",
   "metadata": {},
   "outputs": [],
   "source": [
    "def test5(a,b,c,d,*m):\n",
    "    return a,b,c,d,set(m)"
   ]
  },
  {
   "cell_type": "code",
   "execution_count": 34,
   "id": "bb742978",
   "metadata": {},
   "outputs": [
    {
     "data": {
      "text/plain": [
       "(1, 2, 3, 4, {5, 6, 65, 78})"
      ]
     },
     "execution_count": 34,
     "metadata": {},
     "output_type": "execute_result"
    }
   ],
   "source": [
    "test5(1,2,3,4,65,5,6,78,)"
   ]
  },
  {
   "cell_type": "code",
   "execution_count": 36,
   "id": "340072a7",
   "metadata": {},
   "outputs": [],
   "source": [
    "def test6(*m,a,b,c,d,e):\n",
    "    return m,a,b,c,d,e"
   ]
  },
  {
   "cell_type": "code",
   "execution_count": 40,
   "id": "f24da876",
   "metadata": {},
   "outputs": [
    {
     "data": {
      "text/plain": [
       "((12, 3, 4, 5, 6, 7, 6, 7), 5, 3, 4, 4, 10)"
      ]
     },
     "execution_count": 40,
     "metadata": {},
     "output_type": "execute_result"
    }
   ],
   "source": [
    "test6(12,3,4,5,6,7,6,7,a=5,b=3,c=4,d=4,e=10)"
   ]
  },
  {
   "cell_type": "code",
   "execution_count": 41,
   "id": "c574101b",
   "metadata": {},
   "outputs": [],
   "source": [
    "def test7(**sudh):\n",
    "    return sudh"
   ]
  },
  {
   "cell_type": "code",
   "execution_count": 46,
   "id": "4b42e69e",
   "metadata": {},
   "outputs": [
    {
     "data": {
      "text/plain": [
       "{'a': 4, 'b': 3, 'c': 6, 'd': 'sudh'}"
      ]
     },
     "execution_count": 46,
     "metadata": {},
     "output_type": "execute_result"
    }
   ],
   "source": [
    "test7(a=4,b=3,c=6,d=\"sudh\")"
   ]
  },
  {
   "cell_type": "code",
   "execution_count": 47,
   "id": "2a3e3d6b",
   "metadata": {},
   "outputs": [],
   "source": [
    "def test8(*m,**sudh):\n",
    "    return m , sudh"
   ]
  },
  {
   "cell_type": "code",
   "execution_count": 52,
   "id": "7655ed7d",
   "metadata": {},
   "outputs": [
    {
     "data": {
      "text/plain": [
       "((12, 3, 4, 4), {'a': 4, 'b': 4, 'c': 4, 'd': 'sudh'})"
      ]
     },
     "execution_count": 52,
     "metadata": {},
     "output_type": "execute_result"
    }
   ],
   "source": [
    "test8(12,3,4,4,a=4,b=4,c=4,d=\"sudh\")"
   ]
  },
  {
   "cell_type": "code",
   "execution_count": 63,
   "id": "987b4701",
   "metadata": {},
   "outputs": [],
   "source": [
    "def test9(*m):\n",
    "    n=1\n",
    "    for i in m:\n",
    "        if type(i)==int:\n",
    "            n=n*i\n",
    "    return n        "
   ]
  },
  {
   "cell_type": "code",
   "execution_count": 64,
   "id": "d36d9f77",
   "metadata": {},
   "outputs": [
    {
     "data": {
      "text/plain": [
       "17280"
      ]
     },
     "execution_count": 64,
     "metadata": {},
     "output_type": "execute_result"
    }
   ],
   "source": [
    "test9(12,3,4,4,5,6)"
   ]
  },
  {
   "cell_type": "code",
   "execution_count": 65,
   "id": "72e49788",
   "metadata": {},
   "outputs": [],
   "source": [
    "n=lambda a,b:a+b"
   ]
  },
  {
   "cell_type": "code",
   "execution_count": 67,
   "id": "ed70a9d5",
   "metadata": {},
   "outputs": [
    {
     "data": {
      "text/plain": [
       "9"
      ]
     },
     "execution_count": 67,
     "metadata": {},
     "output_type": "execute_result"
    }
   ],
   "source": [
    "n(4,5)"
   ]
  },
  {
   "cell_type": "code",
   "execution_count": 70,
   "id": "a647694b",
   "metadata": {},
   "outputs": [
    {
     "data": {
      "text/plain": [
       "<function __main__.<lambda>(a, b)>"
      ]
     },
     "execution_count": 70,
     "metadata": {},
     "output_type": "execute_result"
    }
   ],
   "source": [
    "a,b=30,30\n",
    "lambda a,b:a+b"
   ]
  },
  {
   "cell_type": "code",
   "execution_count": 71,
   "id": "1d03dfbe",
   "metadata": {},
   "outputs": [
    {
     "data": {
      "text/plain": [
       "30"
      ]
     },
     "execution_count": 71,
     "metadata": {},
     "output_type": "execute_result"
    }
   ],
   "source": [
    "a"
   ]
  },
  {
   "cell_type": "code",
   "execution_count": 72,
   "id": "4d07e105",
   "metadata": {},
   "outputs": [],
   "source": [
    "t=(3,4,5,6,7,6,7,77,777)\n",
    "l=[]\n",
    "for i in t:\n",
    "    l.append(i)"
   ]
  },
  {
   "cell_type": "code",
   "execution_count": 73,
   "id": "07faaaaa",
   "metadata": {},
   "outputs": [
    {
     "data": {
      "text/plain": [
       "[3, 4, 5, 6, 7, 6, 7, 77, 777]"
      ]
     },
     "execution_count": 73,
     "metadata": {},
     "output_type": "execute_result"
    }
   ],
   "source": [
    "l"
   ]
  },
  {
   "cell_type": "code",
   "execution_count": 75,
   "id": "193a7795",
   "metadata": {},
   "outputs": [
    {
     "data": {
      "text/plain": [
       "[3, 4, 5, 6, 7, 6, 7, 77, 777]"
      ]
     },
     "execution_count": 75,
     "metadata": {},
     "output_type": "execute_result"
    }
   ],
   "source": [
    "[i for i in t]"
   ]
  },
  {
   "cell_type": "code",
   "execution_count": 76,
   "id": "de5b6df9",
   "metadata": {},
   "outputs": [],
   "source": [
    "s=\"sudh\""
   ]
  },
  {
   "cell_type": "code",
   "execution_count": 77,
   "id": "52dff40f",
   "metadata": {},
   "outputs": [
    {
     "data": {
      "text/plain": [
       "['s', 'u', 'd', 'h']"
      ]
     },
     "execution_count": 77,
     "metadata": {},
     "output_type": "execute_result"
    }
   ],
   "source": [
    "[i for i in s ]"
   ]
  },
  {
   "cell_type": "code",
   "execution_count": 78,
   "id": "74e13029",
   "metadata": {},
   "outputs": [
    {
     "data": {
      "text/plain": [
       "['sudh']"
      ]
     },
     "execution_count": 78,
     "metadata": {},
     "output_type": "execute_result"
    }
   ],
   "source": [
    "[s]"
   ]
  },
  {
   "cell_type": "code",
   "execution_count": 85,
   "id": "8442d0b8",
   "metadata": {},
   "outputs": [],
   "source": [
    "l=[i*i for i  in  range(11)]"
   ]
  },
  {
   "cell_type": "code",
   "execution_count": 86,
   "id": "9116d8e1",
   "metadata": {},
   "outputs": [
    {
     "data": {
      "text/plain": [
       "[0, 1, 4, 9, 16, 25, 36, 49, 64, 81, 100]"
      ]
     },
     "execution_count": 86,
     "metadata": {},
     "output_type": "execute_result"
    }
   ],
   "source": [
    "l"
   ]
  },
  {
   "cell_type": "code",
   "execution_count": 97,
   "id": "2e6376b8",
   "metadata": {},
   "outputs": [],
   "source": [
    "l=lambda *x :[ i**2 for i in x]"
   ]
  },
  {
   "cell_type": "code",
   "execution_count": 98,
   "id": "1de0a851",
   "metadata": {},
   "outputs": [
    {
     "data": {
      "text/plain": [
       "[1, 4, 9, 16, 36, 36]"
      ]
     },
     "execution_count": 98,
     "metadata": {},
     "output_type": "execute_result"
    }
   ],
   "source": [
    "l(1,2,3,4,6,6)"
   ]
  },
  {
   "cell_type": "code",
   "execution_count": 122,
   "id": "ffc3a1d8",
   "metadata": {},
   "outputs": [],
   "source": [
    "l=lambda **x :[ list(i) for i in x.items()]"
   ]
  },
  {
   "cell_type": "code",
   "execution_count": 150,
   "id": "bb3d3838",
   "metadata": {},
   "outputs": [],
   "source": [
    "def test10(**kwerg):\n",
    "    l=0\n",
    "    for i in kwerg.values():\n",
    "        \n",
    "        if type(i)==str or type(i)==list:\n",
    "            l+=1\n",
    "            print(i)\n",
    "    return l"
   ]
  },
  {
   "cell_type": "code",
   "execution_count": 151,
   "id": "f361cd51",
   "metadata": {},
   "outputs": [
    {
     "name": "stdout",
     "output_type": "stream",
     "text": [
      "sudh\n",
      "sudh\n",
      "[2, 3, 4, 55, 'sudh']\n"
     ]
    },
    {
     "data": {
      "text/plain": [
       "3"
      ]
     },
     "execution_count": 151,
     "metadata": {},
     "output_type": "execute_result"
    }
   ],
   "source": [
    "test10([2,3,4,55,\"sudh\"]a=7,b=\"sudh\",c=345,d=\"sudh\",l=)"
   ]
  },
  {
   "cell_type": "code",
   "execution_count": 157,
   "id": "14e29262",
   "metadata": {},
   "outputs": [],
   "source": [
    "def test11(**kwerg):\n",
    "    return list(kwerg.values())"
   ]
  },
  {
   "cell_type": "code",
   "execution_count": 158,
   "id": "0c8a2161",
   "metadata": {},
   "outputs": [
    {
     "data": {
      "text/plain": [
       "[[2, 3, 4, 55, 'sudh'], 7, 'sudh', 345, 'sudh']"
      ]
     },
     "execution_count": 158,
     "metadata": {},
     "output_type": "execute_result"
    }
   ],
   "source": [
    "test11(e=[2,3,4,55,\"sudh\"],a=7,b=\"sudh\",c=345,d=\"sudh\")"
   ]
  },
  {
   "cell_type": "code",
   "execution_count": null,
   "id": "1145b7fc",
   "metadata": {},
   "outputs": [],
   "source": []
  }
 ],
 "metadata": {
  "kernelspec": {
   "display_name": "Python 3 (ipykernel)",
   "language": "python",
   "name": "python3"
  },
  "language_info": {
   "codemirror_mode": {
    "name": "ipython",
    "version": 3
   },
   "file_extension": ".py",
   "mimetype": "text/x-python",
   "name": "python",
   "nbconvert_exporter": "python",
   "pygments_lexer": "ipython3",
   "version": "3.11.4"
  }
 },
 "nbformat": 4,
 "nbformat_minor": 5
}
