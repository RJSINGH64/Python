{
 "cells": [
  {
   "cell_type": "code",
   "execution_count": 1,
   "id": "54dbfbe8",
   "metadata": {},
   "outputs": [],
   "source": [
    "s=\"this is my first Python Programming class and i am learNING python string and its function\""
   ]
  },
  {
   "cell_type": "code",
   "execution_count": 2,
   "id": "35fc1252",
   "metadata": {},
   "outputs": [
    {
     "data": {
      "text/plain": [
       "'this is my first Python Programming class and i am learNING python string and its function'"
      ]
     },
     "execution_count": 2,
     "metadata": {},
     "output_type": "execute_result"
    }
   ],
   "source": [
    "s"
   ]
  },
  {
   "cell_type": "code",
   "execution_count": 3,
   "id": "73116b24",
   "metadata": {},
   "outputs": [
    {
     "data": {
      "text/plain": [
       "'h   r tnrrmglsnimeNGyosi dtfco'"
      ]
     },
     "execution_count": 3,
     "metadata": {},
     "output_type": "execute_result"
    }
   ],
   "source": [
    "s[1:300:3]"
   ]
  },
  {
   "cell_type": "code",
   "execution_count": 4,
   "id": "5cb022cb",
   "metadata": {},
   "outputs": [
    {
     "data": {
      "text/plain": [
       "'noitcnuf sti dna gnirts nohtyp GNINrael ma i dna ssalc gnimmargorP nohtyP tsrif ym si siht'"
      ]
     },
     "execution_count": 4,
     "metadata": {},
     "output_type": "execute_result"
    }
   ],
   "source": [
    "s[::-1]"
   ]
  },
  {
   "cell_type": "code",
   "execution_count": 6,
   "id": "22735be7",
   "metadata": {},
   "outputs": [
    {
     "data": {
      "text/plain": [
       "'noitcnuf sti dna gnirts nohtyp GNINrael ma i dna ssalc gnimmargorP nohtyP tsrif ym si siht'"
      ]
     },
     "execution_count": 6,
     "metadata": {},
     "output_type": "execute_result"
    }
   ],
   "source": [
    "\"\".join(reversed(s))"
   ]
  },
  {
   "cell_type": "code",
   "execution_count": 7,
   "id": "ff0df3c0",
   "metadata": {},
   "outputs": [
    {
     "data": {
      "text/plain": [
       "'THIS IS MY FIRST PYTHON PROGRAMMING CLASS AND I AM LEARNING PYTHON STRING AND ITS FUNCTION'"
      ]
     },
     "execution_count": 7,
     "metadata": {},
     "output_type": "execute_result"
    }
   ],
   "source": [
    "s.upper()"
   ]
  },
  {
   "cell_type": "code",
   "execution_count": 9,
   "id": "39918405",
   "metadata": {},
   "outputs": [
    {
     "data": {
      "text/plain": [
       "['this',\n",
       " 'is',\n",
       " 'my',\n",
       " 'first',\n",
       " 'Python',\n",
       " 'Programming',\n",
       " 'class',\n",
       " 'and',\n",
       " 'i',\n",
       " 'am',\n",
       " 'learNING',\n",
       " 'python',\n",
       " 'string',\n",
       " 'and',\n",
       " 'its',\n",
       " 'function']"
      ]
     },
     "execution_count": 9,
     "metadata": {},
     "output_type": "execute_result"
    }
   ],
   "source": [
    "s.split()"
   ]
  },
  {
   "cell_type": "code",
   "execution_count": 10,
   "id": "584b0b64",
   "metadata": {},
   "outputs": [
    {
     "data": {
      "text/plain": [
       "'this is my first python programming class and i am learning python string and its function'"
      ]
     },
     "execution_count": 10,
     "metadata": {},
     "output_type": "execute_result"
    }
   ],
   "source": [
    "s.lower()"
   ]
  },
  {
   "cell_type": "code",
   "execution_count": 11,
   "id": "c2c19ec6",
   "metadata": {},
   "outputs": [
    {
     "data": {
      "text/plain": [
       "'This is my first python programming class and i am learning python string and its function'"
      ]
     },
     "execution_count": 11,
     "metadata": {},
     "output_type": "execute_result"
    }
   ],
   "source": [
    "s.capitalize()"
   ]
  },
  {
   "cell_type": "markdown",
   "id": "4235db33",
   "metadata": {},
   "source": [
    "'***isalpha***' :-*it is used to identify alphabet in a entire string with boolean value* \n",
    "***isalnum***:- *it is used to identify numericals available i string with boolean value.*"
   ]
  },
  {
   "cell_type": "code",
   "execution_count": 18,
   "id": "1c6efe71",
   "metadata": {},
   "outputs": [
    {
     "data": {
      "text/plain": [
       "'rajat   singh   is      rj      '"
      ]
     },
     "execution_count": 18,
     "metadata": {},
     "output_type": "execute_result"
    }
   ],
   "source": [
    "#expand tab:-\n",
    "s1=\"rajat\\tsingh\\tis\\trj\\t\"\n",
    "s1.expandtabs()"
   ]
  },
  {
   "cell_type": "code",
   "execution_count": 19,
   "id": "13db3164",
   "metadata": {},
   "outputs": [],
   "source": [
    "s2=\"  raj  singh  \""
   ]
  },
  {
   "cell_type": "code",
   "execution_count": 20,
   "id": "a89b571a",
   "metadata": {},
   "outputs": [
    {
     "data": {
      "text/plain": [
       "'  raj  singh  '"
      ]
     },
     "execution_count": 20,
     "metadata": {},
     "output_type": "execute_result"
    }
   ],
   "source": [
    "s2"
   ]
  },
  {
   "cell_type": "code",
   "execution_count": 25,
   "id": "85f9b684",
   "metadata": {},
   "outputs": [
    {
     "data": {
      "text/plain": [
       "'raj  singh'"
      ]
     },
     "execution_count": 25,
     "metadata": {},
     "output_type": "execute_result"
    }
   ],
   "source": [
    "#examples of:-\n",
    "\n",
    "#strip:-\n",
    "s2.strip()      #removed both after and before space"
   ]
  },
  {
   "cell_type": "code",
   "execution_count": 27,
   "id": "14c930b9",
   "metadata": {},
   "outputs": [
    {
     "data": {
      "text/plain": [
       "'raj  singh  '"
      ]
     },
     "execution_count": 27,
     "metadata": {},
     "output_type": "execute_result"
    }
   ],
   "source": [
    "s2.lstrip()  #removed left space"
   ]
  },
  {
   "cell_type": "code",
   "execution_count": 29,
   "id": "830bcba4",
   "metadata": {},
   "outputs": [
    {
     "data": {
      "text/plain": [
       "'  raj  singh'"
      ]
     },
     "execution_count": 29,
     "metadata": {},
     "output_type": "execute_result"
    }
   ],
   "source": [
    "s2.rstrip()  #removed right space"
   ]
  },
  {
   "cell_type": "code",
   "execution_count": 30,
   "id": "be791d91",
   "metadata": {},
   "outputs": [
    {
     "data": {
      "text/plain": [
       "'this is my first Python Programming class and i am learNING python string and its function'"
      ]
     },
     "execution_count": 30,
     "metadata": {},
     "output_type": "execute_result"
    }
   ],
   "source": [
    "s"
   ]
  },
  {
   "cell_type": "code",
   "execution_count": 31,
   "id": "92b5a6f7",
   "metadata": {},
   "outputs": [
    {
     "data": {
      "text/plain": [
       "'THIS IS MY FIRST PYTHON PROGRAMMING CLASS AND I AM LEARNING PYTHON STRING AND ITS FUNCTION'"
      ]
     },
     "execution_count": 31,
     "metadata": {},
     "output_type": "execute_result"
    }
   ],
   "source": [
    "s.upper()"
   ]
  },
  {
   "cell_type": "code",
   "execution_count": 32,
   "id": "cab2f3b3",
   "metadata": {},
   "outputs": [],
   "source": [
    "s=s.upper()"
   ]
  },
  {
   "cell_type": "code",
   "execution_count": 33,
   "id": "54d42a88",
   "metadata": {},
   "outputs": [
    {
     "data": {
      "text/plain": [
       "'THIS IS MY FIRST PYTHON PROGRAMMING CLASS AND I AM LEARNING PYTHON STRING AND ITS FUNCTION'"
      ]
     },
     "execution_count": 33,
     "metadata": {},
     "output_type": "execute_result"
    }
   ],
   "source": [
    "s"
   ]
  },
  {
   "cell_type": "raw",
   "id": "1c0b7872",
   "metadata": {},
   "source": [
    "string center:- it is in a specified filled character(default is space) to add width length in a characters,but it can add only one word in a string."
   ]
  },
  {
   "cell_type": "code",
   "execution_count": 37,
   "id": "5a0c3127",
   "metadata": {},
   "outputs": [],
   "source": [
    "#ex:-\n",
    "s3=\"RJSINGH\""
   ]
  },
  {
   "cell_type": "code",
   "execution_count": 39,
   "id": "76701aa8",
   "metadata": {},
   "outputs": [
    {
     "data": {
      "text/plain": [
       "'RJSINGH'"
      ]
     },
     "execution_count": 39,
     "metadata": {},
     "output_type": "execute_result"
    }
   ],
   "source": [
    "s3"
   ]
  },
  {
   "cell_type": "code",
   "execution_count": 40,
   "id": "2877e2a2",
   "metadata": {},
   "outputs": [
    {
     "data": {
      "text/plain": [
       "'******RJSINGH*******'"
      ]
     },
     "execution_count": 40,
     "metadata": {},
     "output_type": "execute_result"
    }
   ],
   "source": [
    "s3.center(20,\"*\")  #exsmple of  string center funtion"
   ]
  },
  {
   "cell_type": "markdown",
   "id": "8713eb0f",
   "metadata": {},
   "source": [
    "***compiler***:- it is used to run the code during an execution in a machine programming.\n",
    "\n",
    "***interpreter***:- it is used to run code during an execution in a machine programming with line-by-line code execution."
   ]
  },
  {
   "cell_type": "markdown",
   "id": "9b69310a",
   "metadata": {},
   "source": [
    "Pthon is a programming language ,it has multiples use  like web development,sofware engineering.machine learning ,arificificial intelligence,etc.AS compare to other languages it is simple to use , it is case sensitive language."
   ]
  },
  {
   "cell_type": "markdown",
   "id": "fa3a5a71",
   "metadata": {},
   "source": [
    "PYTHON IS INTEPRETED of compiled language is because the source code of this language converted into bytecode executed by the python virtual machine.as compare to other languages like c,c++,etc is not used built linked this languages."
   ]
  },
  {
   "cell_type": "code",
   "execution_count": null,
   "id": "6158e1af",
   "metadata": {},
   "outputs": [],
   "source": []
  }
 ],
 "metadata": {
  "kernelspec": {
   "display_name": "Python 3 (ipykernel)",
   "language": "python",
   "name": "python3"
  },
  "language_info": {
   "codemirror_mode": {
    "name": "ipython",
    "version": 3
   },
   "file_extension": ".py",
   "mimetype": "text/x-python",
   "name": "python",
   "nbconvert_exporter": "python",
   "pygments_lexer": "ipython3",
   "version": "3.11.4"
  }
 },
 "nbformat": 4,
 "nbformat_minor": 5
}
