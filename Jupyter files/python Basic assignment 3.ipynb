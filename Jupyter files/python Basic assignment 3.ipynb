{
 "cells": [
  {
   "cell_type": "markdown",
   "id": "d4a21c48",
   "metadata": {},
   "source": [
    "python basic assignment 3 \n",
    "Q1.\n",
    "\n",
    "funtion is advantageous because it helps  user to acess a cose without writing a same code he has written or mention earlier we use that code as a fuction we dont have to write that another time , we can acess that code we call that funtuions for a same problem satement."
   ]
  },
  {
   "cell_type": "markdown",
   "id": "4f414df1",
   "metadata": {},
   "source": [
    "q2.\n",
    "code in a fuction run when we calls its, whatever fuction we written for a whatever problem satement .for example \n",
    "i have named a fuction test(a) whatever problem statement i have wriiten in it i have mention data inside variable name Ex:-\n",
    "a=[12,3,4,45,6]\n",
    "l1=test(a)\n",
    "print(l1)\n",
    "we get our output by this\n"
   ]
  },
  {
   "cell_type": "code",
   "execution_count": 2,
   "id": "66239958",
   "metadata": {},
   "outputs": [
    {
     "name": "stdout",
     "output_type": "stream",
     "text": [
      "8\n"
     ]
    }
   ],
   "source": [
    "#q3.for creating a fuction def is used :-\\\n",
    "#example:\n",
    "def test1(a,b): #a  and b is a variable inside a fuction\n",
    "    return a+b #return is used to return a values whenever user calls  a fuction\n",
    "s1=test1(3,5)\n",
    "print(s1)\n",
    "    "
   ]
  },
  {
   "cell_type": "code",
   "execution_count": null,
   "id": "8eaecaf7",
   "metadata": {},
   "outputs": [],
   "source": [
    "#q4\n",
    "# fuction is create by user to get a certain output without writing a code multiple times \n",
    "# fuction calls means that whenever a user wants call a fuction or want to execute a fuction for a specific prpblem satement .user use or write a funtion name to execute a fuction after defining a avriable values to it ."
   ]
  },
  {
   "cell_type": "code",
   "execution_count": null,
   "id": "d609cb08",
   "metadata": {},
   "outputs": [],
   "source": [
    "#q5.\n",
    "#global scopes inside a python are :\n",
    "#inbuilt scope such as print() ,len() and range()\n",
    "#module level scope  where top level scope in python scrypt and modules where global variables and fuction reside.\n",
    "#class level scope where class level scopes are defined \n",
    "# local scope are local variables which is not inbuilt .these variables are a variables which user defined inside a fuction.\n"
   ]
  },
  {
   "cell_type": "code",
   "execution_count": null,
   "id": "b7a35e38",
   "metadata": {},
   "outputs": [],
   "source": [
    "#q6.\n",
    "#local variable inside a fuction is destroyed or disallocated and meamory will be free up,lifetime of local variable limited till the execution of fuction."
   ]
  },
  {
   "cell_type": "code",
   "execution_count": null,
   "id": "592e6db7",
   "metadata": {},
   "outputs": [],
   "source": [
    "# q7.\n",
    "# return is used in a fuction to stora values .after using return keyword to send values to a caller and store that values or assign values to the variabl or it will diectly return a values .\n",
    "#USING \n",
    "return #keyword\n",
    "#yes it is possible to return values in an expression."
   ]
  },
  {
   "cell_type": "code",
   "execution_count": 4,
   "id": "3a85c05b",
   "metadata": {},
   "outputs": [],
   "source": [
    "#q8.\n",
    "def test2(a,b):\n",
    "    return"
   ]
  },
  {
   "cell_type": "code",
   "execution_count": 6,
   "id": "0b5fd15d",
   "metadata": {},
   "outputs": [],
   "source": [
    "test2(3,4)"
   ]
  },
  {
   "cell_type": "code",
   "execution_count": 12,
   "id": "11b96884",
   "metadata": {},
   "outputs": [
    {
     "name": "stdout",
     "output_type": "stream",
     "text": [
      "7\n"
     ]
    }
   ],
   "source": [
    "#9.\n",
    "\n",
    "\n",
    "\n",
    "def test3():\n",
    "    global x\n",
    "    x=10\n",
    "    \n",
    "print(x)    \n",
    "    "
   ]
  },
  {
   "cell_type": "code",
   "execution_count": null,
   "id": "1c1463c1",
   "metadata": {},
   "outputs": [],
   "source": [
    "#10.\n",
    "#datatype none means that values is null , variable or expression  is not a meaningful result .its not specify the value"
   ]
  },
  {
   "cell_type": "markdown",
   "id": "051ca20d",
   "metadata": {},
   "source": [
    "#q11. \n",
    "#import areallyyourpetsnamederic do not nothing beacuse its  not inbuilt scope or this module is not  inside a python script,its give error no module name areallyyourpetsnamederic \"."
   ]
  },
  {
   "cell_type": "code",
   "execution_count": 14,
   "id": "13d277a2",
   "metadata": {},
   "outputs": [
    {
     "ename": "ModuleNotFoundError",
     "evalue": "No module named 'spam'",
     "output_type": "error",
     "traceback": [
      "\u001b[1;31m---------------------------------------------------------------------------\u001b[0m",
      "\u001b[1;31mModuleNotFoundError\u001b[0m                       Traceback (most recent call last)",
      "Cell \u001b[1;32mIn[14], line 1\u001b[0m\n\u001b[1;32m----> 1\u001b[0m \u001b[38;5;28;01mimport\u001b[39;00m \u001b[38;5;21;01mspam\u001b[39;00m\n",
      "\u001b[1;31mModuleNotFoundError\u001b[0m: No module named 'spam'"
     ]
    }
   ],
   "source": [
    "#12 import spam\n",
    "bacon() its a fuction within a mudule named spam.\n",
    "import spam\n",
    "spam.bacon()"
   ]
  },
  {
   "cell_type": "code",
   "execution_count": null,
   "id": "6f699fef",
   "metadata": {},
   "outputs": [],
   "source": []
  },
  {
   "cell_type": "markdown",
   "id": "5392a2f2",
   "metadata": {},
   "source": [
    "#13.\n",
    "#if a program crash or give error during a runtime we can use exception handling to  avoid that error and go through a next code\n",
    "we use these keyword in  a exception handling:\n",
    "    try:\n",
    "    except:\n",
    "    fianlly:\n",
    "    raise:\n",
    "    else:\n",
    "    \n",
    "        "
   ]
  },
  {
   "cell_type": "code",
   "execution_count": 15,
   "id": "74fedead",
   "metadata": {},
   "outputs": [
    {
     "name": "stdout",
     "output_type": "stream",
     "text": [
      "division by zero\n"
     ]
    }
   ],
   "source": [
    "#q14:\n",
    "\n",
    "try: # in a try block we can aassign a code that might raise a exception \n",
    "    a=6\n",
    "    b=0\n",
    "    c=a/b #divion by zero \n",
    "    print(c)\n",
    "except :# in this block we use this to handle a exception.\n",
    "    print(\"division by zero\")#it handle ZeroDivsionError "
   ]
  },
  {
   "cell_type": "code",
   "execution_count": null,
   "id": "fa02c29f",
   "metadata": {},
   "outputs": [],
   "source": []
  }
 ],
 "metadata": {
  "kernelspec": {
   "display_name": "Python 3 (ipykernel)",
   "language": "python",
   "name": "python3"
  },
  "language_info": {
   "codemirror_mode": {
    "name": "ipython",
    "version": 3
   },
   "file_extension": ".py",
   "mimetype": "text/x-python",
   "name": "python",
   "nbconvert_exporter": "python",
   "pygments_lexer": "ipython3",
   "version": "3.11.4"
  }
 },
 "nbformat": 4,
 "nbformat_minor": 5
}
