{
 "cells": [
  {
   "cell_type": "markdown",
   "id": "2530b408",
   "metadata": {},
   "source": [
    "a2.q1\n",
    "#two boolean types True and False .we use True for True conditions and False for false conditions."
   ]
  },
  {
   "cell_type": "markdown",
   "id": "e3655c9b",
   "metadata": {},
   "source": [
    "q2.list of boolean tables for or operators,\n",
    "True-TRUE: 1-1=1\n",
    "True-False:1-0=1\n",
    "False-True:0-1=1\n",
    "False-False:0-0=0\n",
    "in this only false-false condition make false or 0 conditions.\n",
    "table for and operator :-\n",
    "True - False : 1-0 = 0=Flase\n",
    "True-True : 1-1 = 1= True\n",
    "False - True :0-1 = 0= False\n",
    "False - False :0-0= 0- False \n",
    "in this only True- True condition make a True arguments."
   ]
  },
  {
   "cell_type": "code",
   "execution_count": 1,
   "id": "544bc99c",
   "metadata": {},
   "outputs": [
    {
     "data": {
      "text/plain": [
       "True"
      ]
     },
     "execution_count": 1,
     "metadata": {},
     "output_type": "execute_result"
    }
   ],
   "source": [
    "#q3.\n",
    "(5<4)and (3==5) : True - False = False\n",
    "not(5>4) : not True = False\n",
    "(5>4) or (3==5) :True - False = False\n",
    "(True and True) and (True==False) : True - False = False\n",
    "(not False) or (not True) : True - False = True"
   ]
  },
  {
   "cell_type": "code",
   "execution_count": null,
   "id": "89304789",
   "metadata": {},
   "outputs": [],
   "source": [
    "#q5.\n",
    "#Comparision operators are as follows :-\n",
    "==\n",
    "<\n",
    ">\n",
    "!=\n",
    "<=\n",
    ">="
   ]
  },
  {
   "cell_type": "code",
   "execution_count": 10,
   "id": "6bfe7e96",
   "metadata": {},
   "outputs": [
    {
     "name": "stdout",
     "output_type": "stream",
     "text": [
      "hello python \n"
     ]
    }
   ],
   "source": [
    "#q6.\n",
    "#equal to :- it is a camparision operator or conditional operator .\n",
    "#assignment operator - its is used to assign values to a variable .\n",
    "#example:-\n",
    "x=7 #assignment operator.\n",
    "if x==7: #equalto(==) condional operator\n",
    "    print(\"hello python \")\n",
    "    "
   ]
  },
  {
   "cell_type": "code",
   "execution_count": 11,
   "id": "69170b72",
   "metadata": {},
   "outputs": [
    {
     "name": "stdout",
     "output_type": "stream",
     "text": [
      "ham\n",
      "spam\n",
      "spam\n"
     ]
    }
   ],
   "source": [
    "#q7-\n",
    "\n",
    "spam=0\n",
    "if spam==10:\n",
    "    print(\"eggs\")\n",
    "if spam>5:\n",
    "    print(\"bcon\")\n",
    "else:   #because spam condition is not satisfied spam= 0 ,it  will print else statement instead of if statement .\n",
    "    print(\"ham\")\n",
    "    print(\"spam\")\n",
    "    print(\"spam\")"
   ]
  },
  {
   "cell_type": "code",
   "execution_count": 14,
   "id": "fb604150",
   "metadata": {},
   "outputs": [
    {
     "name": "stdout",
     "output_type": "stream",
     "text": [
      " 2\n",
      "Howdy\n"
     ]
    }
   ],
   "source": [
    "#q8-\n",
    "\n",
    "spam=int(input(\" \"))\n",
    "if spam==1:\n",
    "    print(\"hello\")\n",
    "elif spam==2 :\n",
    "    print(\"Howdy\")\n",
    "    \n",
    "else :\n",
    "    print(\"Greetings\")"
   ]
  },
  {
   "cell_type": "markdown",
   "id": "7c151e82",
   "metadata": {},
   "source": [
    "#q9:-\n",
    "\n",
    "if  our program stuck in a endlessloop we interupt  a program or we use reserved key break to break that particular loop ."
   ]
  },
  {
   "cell_type": "markdown",
   "id": "779c3fba",
   "metadata": {},
   "source": [
    "#q10-\n",
    "break - it is a reserevd keyword which is  used to break the entire loop during a runtime.\n",
    "continue- it is used to skip rest of the code inside a loop for current iteration and move to next iteration .\n"
   ]
  },
  {
   "cell_type": "markdown",
   "id": "4a7654f2",
   "metadata": {},
   "source": [
    "#q11-\n",
    "In a loop range(10),range(0,10) and range(0,10,1) this all are same range(10) include  number 0 to 9 exclude upperbound 10 ,range(0,10) also include number from 0 to 9 exclude 10 and range(0,10,1) is also inlude number 0 to 9 exlude 10 ,1 is stepsize all sequences are same .there is no difference ."
   ]
  },
  {
   "cell_type": "code",
   "execution_count": 17,
   "id": "f559d1d8",
   "metadata": {},
   "outputs": [
    {
     "name": "stdout",
     "output_type": "stream",
     "text": [
      "number  from 1 to 10 using for loop is :  0\n",
      "number  from 1 to 10 using for loop is :  1\n",
      "number  from 1 to 10 using for loop is :  2\n",
      "number  from 1 to 10 using for loop is :  3\n",
      "number  from 1 to 10 using for loop is :  4\n",
      "number  from 1 to 10 using for loop is :  5\n",
      "number  from 1 to 10 using for loop is :  6\n",
      "number  from 1 to 10 using for loop is :  7\n",
      "number  from 1 to 10 using for loop is :  8\n",
      "number  from 1 to 10 using for loop is :  9\n",
      "1\n",
      "2\n",
      "3\n",
      "4\n",
      "5\n",
      "6\n",
      "7\n",
      "8\n",
      "9\n",
      "10\n",
      " numbers using while loop \n"
     ]
    }
   ],
   "source": [
    "#q12:-\n",
    "num=10\n",
    "for i in range(10):\n",
    "    print(\"number  from 1 to 10 using for loop is : \",i)\n",
    "    \n",
    "a=1\n",
    "\n",
    "while a<=10:\n",
    "    \n",
    "    print(a)\n",
    "    a+=1\n",
    "print(\" numbers using while loop \")    "
   ]
  },
  {
   "cell_type": "code",
   "execution_count": null,
   "id": "f76c9507",
   "metadata": {},
   "outputs": [],
   "source": [
    "#q13:-\n",
    "#if i have funtion named bacon() and a module name spam , i want to call fuction bacon() after importing spam this way\n",
    "\n",
    "\n",
    "import spam \n",
    "bacon()\n",
    "or \n",
    "\n",
    "from spam import bacon"
   ]
  },
  {
   "cell_type": "code",
   "execution_count": null,
   "id": "9bba2695",
   "metadata": {},
   "outputs": [],
   "source": []
  },
  {
   "cell_type": "code",
   "execution_count": null,
   "id": "0f50aeb0",
   "metadata": {},
   "outputs": [],
   "source": []
  }
 ],
 "metadata": {
  "kernelspec": {
   "display_name": "Python 3 (ipykernel)",
   "language": "python",
   "name": "python3"
  },
  "language_info": {
   "codemirror_mode": {
    "name": "ipython",
    "version": 3
   },
   "file_extension": ".py",
   "mimetype": "text/x-python",
   "name": "python",
   "nbconvert_exporter": "python",
   "pygments_lexer": "ipython3",
   "version": "3.11.4"
  }
 },
 "nbformat": 4,
 "nbformat_minor": 5
}
