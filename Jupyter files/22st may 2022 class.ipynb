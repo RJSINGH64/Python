{
 "cells": [
  {
   "cell_type": "code",
   "execution_count": 1,
   "id": "f8db2c89",
   "metadata": {},
   "outputs": [
    {
     "name": "stdout",
     "output_type": "stream",
     "text": [
      "it is equal to 10\n"
     ]
    }
   ],
   "source": [
    "a=10\n",
    "if a<=10:\n",
    "    print(\"it is equal to 10\")\n",
    "else:\n",
    "    print(\"not equal to 10\")"
   ]
  },
  {
   "cell_type": "code",
   "execution_count": 2,
   "id": "7f796af3",
   "metadata": {},
   "outputs": [],
   "source": [
    "a=10\n",
    "if a>10:\n",
    "    pass"
   ]
  },
  {
   "cell_type": "code",
   "execution_count": 3,
   "id": "a0087ab4",
   "metadata": {},
   "outputs": [],
   "source": [
    "a=10\n",
    "if a<10:\n",
    "    print(\"print condition is true\")"
   ]
  },
  {
   "cell_type": "code",
   "execution_count": 4,
   "id": "06d60f96",
   "metadata": {},
   "outputs": [
    {
     "name": "stdout",
     "output_type": "stream",
     "text": [
      "my condition is true\n"
     ]
    }
   ],
   "source": [
    "a=10\n",
    "if a!=10:\n",
    "    print(\"my condition is false\")\n",
    "else:\n",
    "    print(\"my condition is true\")"
   ]
  },
  {
   "cell_type": "code",
   "execution_count": 5,
   "id": "4dc7b16f",
   "metadata": {},
   "outputs": [
    {
     "name": "stdout",
     "output_type": "stream",
     "text": [
      "we are trying to compare 10 with a\n"
     ]
    }
   ],
   "source": [
    "a=10\n",
    "if a==12:\n",
    "    print(\"we are trying to check comapare 10 with 12\")\n",
    "elif a==11:\n",
    "    print(\"we are trying to compare 10 with 11\")\n",
    "elif a<=10:\n",
    "    print(\"we are trying to compare 10 with a\")\n",
    "else:\n",
    "    print(\"if all blocks will fail to do this\")"
   ]
  },
  {
   "cell_type": "code",
   "execution_count": 6,
   "id": "01d164fc",
   "metadata": {},
   "outputs": [
    {
     "name": "stdout",
     "output_type": "stream",
     "text": [
      "i don'nt know\n"
     ]
    }
   ],
   "source": [
    "price=500\n",
    "if price> 500:\n",
    "    print(\"i will not able to buy jacket\")\n",
    "\n",
    "elif price <500 :\n",
    "    print(\"i will able to buy a jacket\")\n",
    "\n",
    "else:\n",
    "    print(\"i don'nt know\")\n",
    "\n",
    "\n",
    "\n"
   ]
  },
  {
   "cell_type": "code",
   "execution_count": 7,
   "id": "6174f85f",
   "metadata": {},
   "outputs": [
    {
     "data": {
      "text/plain": [
       "True"
      ]
     },
     "execution_count": 7,
     "metadata": {},
     "output_type": "execute_result"
    }
   ],
   "source": [
    "price<=500"
   ]
  },
  {
   "cell_type": "code",
   "execution_count": 8,
   "id": "f3ad96da",
   "metadata": {},
   "outputs": [
    {
     "data": {
      "text/plain": [
       "True"
      ]
     },
     "execution_count": 8,
     "metadata": {},
     "output_type": "execute_result"
    }
   ],
   "source": [
    "l1=[1,2,3,4,5,6]\n",
    "2 in l1 "
   ]
  },
  {
   "cell_type": "code",
   "execution_count": 9,
   "id": "8fd9e0e3",
   "metadata": {},
   "outputs": [
    {
     "name": "stdout",
     "output_type": "stream",
     "text": [
      "do not perform this task\n"
     ]
    }
   ],
   "source": [
    "if 60 in l1:\n",
    "    print(\"try to perform  a task\")\n",
    "else:\n",
    "    print(\"do not perform this task\")"
   ]
  },
  {
   "cell_type": "code",
   "execution_count": 10,
   "id": "368cd369",
   "metadata": {},
   "outputs": [
    {
     "data": {
      "text/plain": [
       "[1, 2, 3, 4, 5, 6]"
      ]
     },
     "execution_count": 10,
     "metadata": {},
     "output_type": "execute_result"
    }
   ],
   "source": [
    "l1\n"
   ]
  },
  {
   "cell_type": "code",
   "execution_count": 11,
   "id": "7ef9a862",
   "metadata": {},
   "outputs": [
    {
     "name": "stdout",
     "output_type": "stream",
     "text": [
      "not in a list\n",
      "this is a new task\n"
     ]
    }
   ],
   "source": [
    "if 10 in l1:\n",
    "    print(\"try to addition\")\n",
    "elif 20 in l1:\n",
    "    print(\"try to subtraction\")\n",
    "elif 30 in l1:\n",
    "    print(\"try to multiply\")\n",
    "else:\n",
    "    print(\"not in a list\")\n",
    "if 2 in l1:\n",
    "    print(\"this is a new task\")"
   ]
  },
  {
   "cell_type": "code",
   "execution_count": 12,
   "id": "67d631d3",
   "metadata": {},
   "outputs": [],
   "source": [
    "a=400"
   ]
  },
  {
   "cell_type": "code",
   "execution_count": 13,
   "id": "adafbc31",
   "metadata": {},
   "outputs": [
    {
     "name": "stdout",
     "output_type": "stream",
     "text": [
      "enter your number 400\n"
     ]
    }
   ],
   "source": [
    "b=int(input(\"enter your number \"))"
   ]
  },
  {
   "cell_type": "code",
   "execution_count": 14,
   "id": "d5ff85e6",
   "metadata": {},
   "outputs": [
    {
     "data": {
      "text/plain": [
       "400"
      ]
     },
     "execution_count": 14,
     "metadata": {},
     "output_type": "execute_result"
    }
   ],
   "source": [
    "b"
   ]
  },
  {
   "cell_type": "code",
   "execution_count": 15,
   "id": "984b464b",
   "metadata": {},
   "outputs": [
    {
     "data": {
      "text/plain": [
       "int"
      ]
     },
     "execution_count": 15,
     "metadata": {},
     "output_type": "execute_result"
    }
   ],
   "source": [
    "type(b)"
   ]
  },
  {
   "cell_type": "code",
   "execution_count": 17,
   "id": "887a9647",
   "metadata": {},
   "outputs": [
    {
     "name": "stdout",
     "output_type": "stream",
     "text": [
      "Enter your number 600\n",
      " i wont able to buy anything with this price tag\n"
     ]
    }
   ],
   "source": [
    "price=int(input(\"Enter your number \"))\n",
    "if price<500:\n",
    "    print(\"i will able to buy something\")\n",
    "    if price >=400:\n",
    "        print(\" i will be able buy a jacket\")\n",
    "    elif  price <=300:\n",
    "        print(\"i will be able buy  shirt\")\n",
    "    else :\n",
    "        print(\" i wont be able buy anything\")\n",
    "else :\n",
    "    print(\" i wont able to buy anything with this price tag\")"
   ]
  },
  {
   "cell_type": "code",
   "execution_count": 99,
   "id": "8a60db9a",
   "metadata": {},
   "outputs": [
    {
     "name": "stdout",
     "output_type": "stream",
     "text": [
      "Your Marks 100\n",
      "SORRY!YOU WILL NOT get admission in GRE\n",
      " and TOFEL\n",
      "TRy something else\n"
     ]
    }
   ],
   "source": [
    "marks=int(input(\"Your Marks \"))\n",
    "if marks<600:\n",
    "    print(\"SORRY!YOU WILL NOT get admission in GRE\")\n",
    "    if marks>400:\n",
    "        print(\"CONGRATS! you get admission in TOPEL\")\n",
    "    if marks<400:\n",
    "        print(\" and TOFEL\")\n",
    "        print(\"TRy something else\")\n",
    "    \n",
    "else:\n",
    "    print(\"CONGRATS YOU GET ADMISSION IN GRE\")"
   ]
  },
  {
   "cell_type": "code",
   "execution_count": 104,
   "id": "0daee054",
   "metadata": {},
   "outputs": [
    {
     "name": "stdout",
     "output_type": "stream",
     "text": [
      "Enter Floating number23\n",
      "Entered number is POSITIVE NUMBER\n"
     ]
    }
   ],
   "source": [
    "val=float(input(\"Enter Floating number\"))\n",
    "if val>=0:\n",
    "    if val==0:\n",
    "        print(\"Entered no.is ZERO\")\n",
    "    else:\n",
    "        print(\"Entered number is POSITIVE NUMBER\")\n",
    "else:\n",
    "    print(\"Entered NO.is NEGATIVE NUMBER\")"
   ]
  },
  {
   "cell_type": "code",
   "execution_count": 113,
   "id": "349acdf6",
   "metadata": {},
   "outputs": [
    {
     "name": "stdout",
     "output_type": "stream",
     "text": [
      "this is sudh\n"
     ]
    }
   ],
   "source": [
    "a=\"sudh\"\n",
    "if a==\"sudh\" or a=='Sudh' or a==\"sudh\":\n",
    "    print(\"this is sudh\")\n",
    "    "
   ]
  },
  {
   "cell_type": "code",
   "execution_count": 119,
   "id": "4681f54a",
   "metadata": {},
   "outputs": [
    {
     "name": "stdout",
     "output_type": "stream",
     "text": [
      "a10\n",
      " try to do something\n"
     ]
    }
   ],
   "source": [
    "a=int(input(\"a\"))\n",
    "b=11\n",
    "c=12\n",
    "d=13\n",
    "if a==9 and b==11 or c==12 and d==13:\n",
    "    print(\" try to do something\")"
   ]
  },
  {
   "cell_type": "code",
   "execution_count": 120,
   "id": "6dca818d",
   "metadata": {},
   "outputs": [],
   "source": [
    "d={\"key1\":\"value\",\"key2\":\"sudh\",\"key3\":\"ineuron\"}"
   ]
  },
  {
   "cell_type": "code",
   "execution_count": 121,
   "id": "a30eb9fd",
   "metadata": {},
   "outputs": [
    {
     "data": {
      "text/plain": [
       "{'key1': 'value', 'key2': 'sudh', 'key3': 'ineuron'}"
      ]
     },
     "execution_count": 121,
     "metadata": {},
     "output_type": "execute_result"
    }
   ],
   "source": [
    "d"
   ]
  },
  {
   "cell_type": "code",
   "execution_count": 129,
   "id": "5888da2b",
   "metadata": {},
   "outputs": [
    {
     "name": "stdout",
     "output_type": "stream",
     "text": [
      "all values are not verified\n"
     ]
    }
   ],
   "source": [
    "if d[\"key1\"]==\"value\" and d[\"key2\"]==\"Sudh\" and d[\"key3\"]==\"ineuron\":\n",
    "     print(\"all values are verified\")\n",
    "     print(d.values())\n",
    "else:\n",
    "    print(\"all values are not verified\")"
   ]
  },
  {
   "cell_type": "code",
   "execution_count": 131,
   "id": "4c815f7e",
   "metadata": {},
   "outputs": [],
   "source": [
    "l=[1,2,3,4,5,6,7,8,\"sudh\",234.45]"
   ]
  },
  {
   "cell_type": "code",
   "execution_count": 132,
   "id": "b3196caf",
   "metadata": {},
   "outputs": [
    {
     "data": {
      "text/plain": [
       "[1, 2, 3, 4, 5, 6, 7, 8, 'sudh', 234.45]"
      ]
     },
     "execution_count": 132,
     "metadata": {},
     "output_type": "execute_result"
    }
   ],
   "source": [
    "l"
   ]
  },
  {
   "cell_type": "code",
   "execution_count": 133,
   "id": "71456e91",
   "metadata": {},
   "outputs": [
    {
     "data": {
      "text/plain": [
       "[3, 4, 5]"
      ]
     },
     "execution_count": 133,
     "metadata": {},
     "output_type": "execute_result"
    }
   ],
   "source": [
    "l[2:5]"
   ]
  },
  {
   "cell_type": "code",
   "execution_count": 144,
   "id": "3871eb1d",
   "metadata": {},
   "outputs": [
    {
     "data": {
      "text/plain": [
       "[1, 2, 3, 4, 5, 6, 7, 8, 'sudh', 234.45]"
      ]
     },
     "execution_count": 144,
     "metadata": {},
     "output_type": "execute_result"
    }
   ],
   "source": [
    "l"
   ]
  },
  {
   "cell_type": "code",
   "execution_count": 178,
   "id": "cb90a94a",
   "metadata": {},
   "outputs": [
    {
     "name": "stdout",
     "output_type": "stream",
     "text": [
      "2\n",
      "3\n",
      "4\n",
      "5\n",
      "6\n",
      "7\n",
      "8\n",
      "9\n",
      "sudh 1\n",
      "235.45\n"
     ]
    }
   ],
   "source": [
    "for i in l:\n",
    "    if type(i)==int or type(i)==float:\n",
    "        print(i + 1)\n",
    "    elif type(i) ==str:\n",
    "        print(i+\" \"+str(1))\n",
    "        \n",
    "    "
   ]
  },
  {
   "cell_type": "code",
   "execution_count": 196,
   "id": "0db5a308",
   "metadata": {},
   "outputs": [
    {
     "name": "stdout",
     "output_type": "stream",
     "text": [
      "enter  temperature 19\n",
      "its coldtemp\n"
     ]
    }
   ],
   "source": [
    "temp=int(input(\"enter  temperature \"))\n",
    "if temp>30:\n",
    "    print(\"its hot temp\")\n",
    "elif temp<20:\n",
    "    print(\"its cold temp\")\n",
    "else:\n",
    "    print(\"its moderate temp\")\n",
    "    "
   ]
  },
  {
   "cell_type": "code",
   "execution_count": 198,
   "id": "70f63ee5",
   "metadata": {},
   "outputs": [
    {
     "name": "stdout",
     "output_type": "stream",
     "text": [
      "Enter your first number 1\n",
      "Enter your second number 1\n",
      "both number are equal\n"
     ]
    }
   ],
   "source": [
    "NUMBER1=int(input(\"Enter your first number \"))\n",
    "NUMBER2=int(input(\"Enter your second number \"))\n",
    "if NUMBER1>NUMBER2:\n",
    "    print(\"first number is greater than second\")\n",
    "elif NUMBER1<NUMBER2:\n",
    "    print(\"Second number is greater than first\")\n",
    "else:\n",
    "    print(\"both number are equal\")"
   ]
  },
  {
   "cell_type": "code",
   "execution_count": null,
   "id": "d31f18f0",
   "metadata": {},
   "outputs": [],
   "source": []
  },
  {
   "cell_type": "code",
   "execution_count": null,
   "id": "343f44c0",
   "metadata": {},
   "outputs": [],
   "source": []
  }
 ],
 "metadata": {
  "kernelspec": {
   "display_name": "Python 3 (ipykernel)",
   "language": "python",
   "name": "python3"
  },
  "language_info": {
   "codemirror_mode": {
    "name": "ipython",
    "version": 3
   },
   "file_extension": ".py",
   "mimetype": "text/x-python",
   "name": "python",
   "nbconvert_exporter": "python",
   "pygments_lexer": "ipython3",
   "version": "3.11.4"
  }
 },
 "nbformat": 4,
 "nbformat_minor": 5
}
