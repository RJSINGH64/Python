{
 "cells": [
  {
   "cell_type": "markdown",
   "id": "b5743183-1c7e-4f20-a735-52dc0b78d844",
   "metadata": {},
   "source": [
    "1. In the below elements which of them are values or an expression? eg:- values can be\n",
    "integer or string and expressions will be mathematical operators.\n",
    "*\n",
    "&#39;hello&#39;\n",
    "-87.8\n",
    "-\n",
    "/\n",
    "+\n",
    "6\n",
    "\n",
    "2. What is the difference between string and variable?\n",
    "\n",
    "3. Describe three different data types.\n",
    "\n",
    "4. What is an expression made up of? What do all expressions do?\n",
    "5. This assignment statements, like spam = 10. What is the difference between an\n",
    "expression and a statement?\n",
    "6. After running the following code, what does the variable bacon contain?\n",
    "bacon = 22\n",
    "bacon + 1\n",
    "\n",
    "7. What should the values of the following two terms be?\n",
    "&#39;spam&#39; + &#39;spamspam&#39;\n",
    "&#39;spam&#39; * 3\n",
    "\n",
    "8. Why is eggs a valid variable name while 100 is invalid?\n",
    "\n",
    "9. What three functions can be used to get the integer, floating-point number, or string\n",
    "version of a value?\n",
    "10. Why does this expression cause an error? How can you fix\n",
    "&#39;I have eaten &#39; + 99 + &#39; burritos.&#39;"
   ]
  },
  {
   "cell_type": "markdown",
   "id": "8b475020-5852-4328-9ebd-a599e278ee5f",
   "metadata": {},
   "source": [
    "In the below elements which of them are values or an expression? eg:- values can be integer or string and expressions will be mathematical operators.\n",
    "'hello'\n",
    "-87.8\n",
    "/ + 6\n",
    "**ans:1-**\n",
    "\n",
    "\n",
    "\"hello\" is values bescause it is string character\n",
    "-87 is an value because its an float value\n",
    "/ its an operator which is used for division for an mathematical operation \n",
    "+ its an operator which is an expression t used for addtion for an mathermatical operation\n",
    "6 is aan value its is an integer value"
   ]
  },
  {
   "cell_type": "markdown",
   "id": "b32d4993-89d5-47a5-b4e5-a671f351ed26",
   "metadata": {},
   "source": [
    "***What is the difference between string and variable?***\n",
    "ans2:_ string is an datatype in python which represent characters values and variable its an object or place where store our  datatypes collection or values for further use"
   ]
  },
  {
   "cell_type": "markdown",
   "id": "fc3378ad-ca42-4340-b6f9-743edd7101f6",
   "metadata": {},
   "source": [
    "***What is an expression made up of? What do all expressions do?**\n",
    "**ans:-**\n",
    "Expression is problem statements in which we operators to get a certain output for example for mathematical operation   such as a =10 \n",
    "b= 20  \n",
    "c=a+b #its an expression for in which we used addotion\"+\"  to get output as c "
   ]
  },
  {
   "cell_type": "markdown",
   "id": "635e0ad7-e8a6-4425-ae8a-b9c856d63af1",
   "metadata": {},
   "source": [
    "**this assignment statements, like spam = 10. What is the difference between an expression and a statement?**\n",
    "***ans:_***\n",
    "\n",
    "spam=10 its an statements i which we are assigning spam as variable and 10 as value , values is an expression\n",
    "\n",
    "\n"
   ]
  },
  {
   "cell_type": "markdown",
   "id": "5b94a45f-c319-4443-809d-d89c54140d26",
   "metadata": {},
   "source": [
    "***After running the following code, what does the variable bacon contain? bacon = 22 bacon + 1***\n",
    "**ans:-**\n",
    "bacon=22 #bacon is an variable in which we are assignning a specific values 22 which is integer\n",
    "bacon + 1 # in this variable which has 22 as values wer adding 1 which give result as output 23 \n"
   ]
  },
  {
   "cell_type": "markdown",
   "id": "46e9e7b8-baef-4fbf-a33f-102fa8b3cb24",
   "metadata": {},
   "source": [
    "***What should the values of the following two terms be? 'spam' + 'spamspam' 'spam' * 3***\n",
    "**ans:-**\n",
    "\n",
    "'spam' + 'spamspam'   # its an string which which is an text character if add or concatinate it with another string value it add or place that that value after the first character ends \n",
    "output will be :- spamspamspam # but it only display \n",
    "'spam'*3 #meamns it add or spam will be display 2 time  continue after the 'spam \n",
    "output will be : spamspamspam # it disply this\n",
    "\n"
   ]
  },
  {
   "cell_type": "markdown",
   "id": "376d6d1c-1d3a-48a5-ab9d-9d6c55f682c3",
   "metadata": {},
   "source": [
    "***Why is eggs a valid variable name while 100 is invalid?***\n",
    "**ans_**\n",
    "\n",
    "eggs is a valid variable because variable can be start with underscore or character but we cannot assign variable with numerical value or @ to a variable ,, egg is text characeter thats the reason egg is valid variable"
   ]
  },
  {
   "cell_type": "markdown",
   "id": "584a739c-7d9d-436b-a033-3c69ada7234c",
   "metadata": {},
   "source": [
    "***What three functions can be used to get the integer, floating-point number, or string version of a value?***\n",
    "**ans:-**\n",
    "\n",
    "function in python are :\n",
    "we can use str() for string # we can convert datatype of any datatypes in string   \n",
    "float() for float or decimal number # we fuction only numerical values which are float or integer\n",
    "int() for integer values           #we fuction only numerical values which are float or integer\n",
    "\n"
   ]
  },
  {
   "cell_type": "markdown",
   "id": "e0ee322a-5996-48b4-9c51-b5dd975110a9",
   "metadata": {},
   "source": [
    "**10. Why does this expression cause an error? How can you fix\n",
    "&#39;I have eaten &#39; + 99 + &#39; burritos.&#39;**\n",
    "\n"
   ]
  },
  {
   "cell_type": "markdown",
   "id": "4a7d281b-5e0b-405d-a85c-fcee074c64bc",
   "metadata": {},
   "source": [
    "**ans:-**\n",
    "because :- \n",
    "\n",
    "'I have eaten' # its an string values\n",
    "99 # is an integer values\n",
    "'burritos' an is an string values\n",
    "we cannot add string values to a 99 which is an inetger values \n",
    "#for solving this error we ressign 99 to string by this \n",
    "'I have eaten' + str(99) + 'burritos'\n",
    "\n",
    "output will be:- I have eaten 99 burritos\n"
   ]
  },
  {
   "cell_type": "markdown",
   "id": "a866fb52-82d0-4de4-8d2d-086ac28a8261",
   "metadata": {},
   "source": [
    "1.What are the two values of the Boolean data type? How do you write them?\n",
    "\n",
    "2. What are the three different types of Boolean operators?\n",
    "\n",
    "3. Make a list of each Boolean operator&#39;s truth tables (i.e. every possible combination of Boolean\n",
    "values for the operator and what it evaluate ).\n",
    "\n",
    "4. What are the values of the following expressions?\n",
    "(5 &gt; 4) and (3 == 5)\n",
    "not (5 &gt; 4)\n",
    "(5 &gt; 4) or (3 == 5)\n",
    "not ((5 &gt; 4) or (3 == 5))\n",
    "(True and True) and (True == False)\n",
    "(not False) or (not True)\n",
    "\n",
    "5. What are the six comparison operators?\n",
    "\n",
    "6. How do you tell the difference between the equal to and assignment operators?Describe a\n",
    "condition and when you would use one.\n",
    "\n",
    "7. Identify the three blocks in this code:\n",
    "spam = 0\n",
    "if spam == 10:\n",
    "print(&#39;eggs&#39;)\n",
    "if spam &gt; 5:\n",
    "print(&#39;bacon&#39;)\n",
    "else:\n",
    "print(&#39;ham&#39;)\n",
    "print(&#39;spam&#39;)\n",
    "print(&#39;spam&#39;)\n",
    "\n",
    "8. Write code that prints Hello if 1 is stored in spam, prints Howdy if 2 is stored in spam, and prints\n",
    "Greetings! if anything else is stored in spam.\n",
    "\n",
    "\n",
    "9.If your programme is stuck in an endless loop, what keys you’ll press?\n",
    "\n",
    "10. How can you tell the difference between break and continue?\n",
    "\n",
    "11. In a for loop, what is the difference between range(10), range(0, 10), and range(0, 10, 1)?\n",
    "\n",
    "12. Write a short program that prints the numbers 1 to 10 using a for loop. Then write an equivalent\n",
    "program that prints the numbers 1 to 10 using a while loop.\n",
    "\n",
    "13. If you had a function named bacon() inside a"
   ]
  },
  {
   "cell_type": "markdown",
   "id": "7b308e3c-a816-494f-8b5a-62eb59ba6438",
   "metadata": {},
   "source": [
    "***.What are the two values of the Boolean data type? How do you write them?***\n",
    "**ans_**\n",
    "\n",
    "there are two types of boolean datatypes :=\n",
    "True\n",
    "False \n",
    "this are also known as Conditinal data types \n",
    "by default True = 1 #which are by default 1 as its value \n",
    "and \n",
    "False = 0 # by default as its value"
   ]
  },
  {
   "cell_type": "markdown",
   "id": "4ecefc7b-befb-417f-b013-39a32a578ade",
   "metadata": {},
   "source": [
    "***What are the three different types of Boolean operators?***\n",
    "\n",
    "**ans:_***\n",
    "tree types of boolean operators are or , and , not \n",
    "for or statement \n",
    "\n",
    "True - True =True = 1\n",
    "\n",
    "True - False = True = 1\n",
    "\n",
    "False - False= False = 0 \n",
    "\n",
    "False - True = True= 1\n",
    "\n",
    "\n",
    "for and statement \n",
    "\n",
    "True - True =True = 1\n",
    "\n",
    "True - False = False = 0\n",
    "\n",
    "False - False= False = 0\n",
    "\n",
    "False - True = False = 0 \n",
    "\n",
    "\n",
    "\n",
    "and for \"not\" statement \n",
    "\n",
    "\n",
    "if True  then False\n",
    "\n",
    "if False then True\n"
   ]
  },
  {
   "cell_type": "markdown",
   "id": "0d05cdbc-cc3d-4b95-932f-b5f68bd44052",
   "metadata": {},
   "source": [
    "***Make a list of each Boolean operator's truth tables (i.e. every possible combination of Boolean values for the operator and what it evaluate )***\n",
    "\n",
    "**ans**\n",
    "\n",
    "\n",
    "tree types of boolean operators are or , and , not \n",
    "for or statement \n",
    "\n",
    "True - True =True = 1\n",
    "\n",
    "True - False = True = 1\n",
    "\n",
    "False - False= False = 0 \n",
    "\n",
    "False - True = True= 1\n",
    "\n",
    "\n",
    "for and statement \n",
    "\n",
    "True - True =True = 1\n",
    "\n",
    "True - False = False = 0\n",
    "\n",
    "False - False= False = 0\n",
    "\n",
    "False - True = False = 0 \n",
    "\n",
    "\n",
    "\n",
    "and for \"not\" statement \n",
    "\n",
    "\n",
    "if True  then False\n",
    "\n",
    "if False then True\n",
    "\n"
   ]
  },
  {
   "cell_type": "markdown",
   "id": "e64b06a6-f0ac-479c-9ddb-35c5d8147c26",
   "metadata": {},
   "source": [
    "***What are the values of the following expressions? ***\n",
    "\n",
    "\n",
    "(5 > 4) and (3 == 5) \n",
    "\n",
    "not (5 > 4) \n",
    "\n",
    "(5 > 4) or (3 == 5) \n",
    "\n",
    "not ((5 > 4) or (3 == 5))\n",
    "\n",
    "(True and True) and (True == False)\n",
    "\n",
    "(not False) or (not True)\n",
    "\n",
    "\n",
    "\n",
    "**ans:_**\n",
    "\n",
    "\n",
    "False ---->   (5 > 4) and (3 == 5) \n",
    "\n",
    "False ----->   not (5 > 4) \n",
    "\n",
    "\n",
    "True  ----->  (5 > 4) or (3 == 5) \n",
    "\n",
    "\n",
    "False--------not ((5 > 4) or (3 == 5))\n",
    "\n",
    "\n",
    "False ------->   (True and True) and (True == False)\n",
    "\n",
    "\n",
    "True ----->   (not False) or (not True)\n",
    "\n",
    "\n",
    "\n",
    "\n"
   ]
  },
  {
   "cell_type": "markdown",
   "id": "095919cc-3e83-4181-ab74-19b7f739ddea",
   "metadata": {},
   "source": [
    "*** What are the six comparison operators?  ***\n",
    "\n",
    " **ans:_ **\n",
    "\n",
    "1:- == # its an equal equal to comparison operator used to specific values are equally matched or not\n",
    "\n",
    "\n",
    "2:- <= # geater than equal to used to see that values is geater than equal to a given value\n",
    "\n",
    "3:-  >= # lesser than equal to is used to see if a values is lesser than equal to a given value\n",
    "\n",
    "4:- < # greater than \n",
    "\n",
    "5:- > # lesser than \n",
    "\n",
    "\n",
    "6:-  != # not eqaul to \n",
    "\n",
    "\n",
    "\n",
    "every comparision operator work as True and False based conditions\n",
    "\n",
    "\n"
   ]
  },
  {
   "cell_type": "markdown",
   "id": "975194b4-f6e9-4817-9f7d-63c58f5647bb",
   "metadata": {},
   "source": [
    "***How do you tell the difference between the equal to and assignment operators?Describe a condition and when you would use one.***\n",
    "\n",
    "\n",
    "\n",
    "**ans:_**\n",
    "\n",
    " for assignment we use ' = \" equal to if we want to  assign any values to variable \n",
    " for example :- \n",
    "  a=10   # a is variable we are assigning 10 value using expression equal to a varable a \n",
    "\n",
    "  for comparing two values  we use \" == \" double equal to sign to see that given values are same or inside  a variable using conditional statement if , elif or else\n"
   ]
  },
  {
   "cell_type": "markdown",
   "id": "5ffe8ba4-67fc-4bc1-8c1d-dabf38328b28",
   "metadata": {},
   "source": [
    "***Identify the three blocks in this code: spam = 0 if spam == 10: print('eggs') if spam > 5: print('bacon') else: print('ham') print('spam') print('spam')***\n",
    "\n",
    "\n",
    "**ans:-**\n",
    "\n",
    "\n",
    "spam=0   #we are assigning 0 which is an integer value to variable spam \n",
    "\n",
    "\n",
    "if spam ==10:   # this statement checks if variable spam is equal to 10 or not \n",
    "  \n",
    "    print(\"eggs\")  # is spam is equal to 10 then it prints eggs\n",
    "\n",
    "if spam>5:     # this statement checks if spam is greater than 5 or not \n",
    "  \n",
    "    print(\"bacon\") # if spam is greater than 5 ,if this condition is true than its print bacon\n",
    " \n",
    "else:     # if both the if condion do not satisfied or false then it print else statement \n",
    "  \n",
    "    print(\"ham\")\n",
    "  \n",
    "    print(\"spam\")\n",
    "  \n",
    "    print(\"spam\")\n",
    "\n",
    "\n",
    "output :-\n",
    "\n",
    "ham \n",
    "spam \n",
    "spam\n",
    "\n",
    "   "
   ]
  },
  {
   "cell_type": "markdown",
   "id": "be67f9ec-2f4c-438b-87a0-d3e3a802d83f",
   "metadata": {},
   "source": [
    "***Write code that prints Hello if 1 is stored in spam, prints Howdy if 2 is stored in spam, and prints Greetings! if anything else is stored in spam.***\n",
    "\n",
    "**ans:_**\n",
    "\n"
   ]
  },
  {
   "cell_type": "code",
   "execution_count": 47,
   "id": "0b087cb7-9961-4b94-9149-6dc803e273bf",
   "metadata": {},
   "outputs": [
    {
     "name": "stdin",
     "output_type": "stream",
     "text": [
      "Enter any number from 1 to 10   5\n"
     ]
    },
    {
     "name": "stdout",
     "output_type": "stream",
     "text": [
      "Greeting\n"
     ]
    }
   ],
   "source": [
    "#Write code that prints Hello if 1 is stored in spam, prints Howdy if 2 is stored in spam, and prints Greetings! if anything else is stored in spam.\n",
    "\n",
    "#ans:_\n",
    "spam=int(input(\"Enter any number from 1 to 10  \"))\n",
    "if spam==1:\n",
    "    print(\"Hello\")\n",
    "elif spam==2 :\n",
    "    print(\"Howdy\")\n",
    "else:\n",
    "    print(\"Greeting\")"
   ]
  },
  {
   "cell_type": "code",
   "execution_count": null,
   "id": "d11b156f-cf2a-4054-938c-e0884aab2eb1",
   "metadata": {},
   "outputs": [],
   "source": [
    "# If your programme is stuck in an endless loop, what keys you’ll press?\n",
    "\n",
    "# if my program stuck in enless loop then by ide we can use interupt button to stop loop because stuck in endless loop can cause system crash or lag "
   ]
  },
  {
   "cell_type": "markdown",
   "id": "90b08022-b396-441e-a991-3a550148567f",
   "metadata": {},
   "source": [
    "***How can you tell the difference between break and continue?***\n",
    "\n",
    "**ans:_**\n",
    "\n",
    "\n",
    "break statement is keyword which is used to break the entire loop ( if , while ) if the given statement is satisfied \n",
    "\n",
    "continue statements is used to contninue a entire loop if given statement is satisfied \n",
    "\n",
    "\n",
    "\n",
    "for breake we use ---->     break \n",
    "\n",
    "\n",
    "for continue  we use ----> continue"
   ]
  },
  {
   "cell_type": "markdown",
   "id": "c157ca01-2d92-40fe-8a92-654b4e3919cb",
   "metadata": {},
   "source": [
    "***In a for loop, what is the difference between range(10), range(0, 10), and range(0, 10, 1)?***\n",
    "\n",
    "\n",
    "**ans:_**\n",
    "in a loop range(10) means -----> (0, 10)  ( 0, 1,2,3,4,5,6,7,8,9)  excluding upperbound 10\n",
    "range(0 , 10) ------>  (0 to 10) or ( 0, 1,2,3,4,5,6,7,8,9)   excluding upperbound 10\n",
    "range(0 , 10 , 1) ------->  range between 0 to 10  or ( 0, 1,2,3,4,5,6,7,8,9) excluding upperbound 10      0 will be starting point and 10 will be ending point   , 1 is step size in positive side\n",
    "\n",
    "all three are same"
   ]
  },
  {
   "cell_type": "markdown",
   "id": "968f89f1-8f5d-4734-853b-142d11fa6b2a",
   "metadata": {},
   "source": [
    "***Write a short program that prints the numbers 1 to 10 using a for loop. Then write an equivalent program that prints the numbers 1 to 10 using a while loop.***\n",
    "\n",
    "**ans:_**\n",
    "\n"
   ]
  },
  {
   "cell_type": "code",
   "execution_count": 5,
   "id": "b77e75a3-a92e-4b55-9e3a-36f9ec409ba0",
   "metadata": {},
   "outputs": [
    {
     "name": "stdout",
     "output_type": "stream",
     "text": [
      "\n",
      " for loop ---->\n",
      "\n",
      " 0\n",
      "\n",
      " 1\n",
      "\n",
      " 2\n",
      "\n",
      " 3\n",
      "\n",
      " 4\n",
      "\n",
      " 5\n",
      "\n",
      " 6\n",
      "\n",
      " 7\n",
      "\n",
      " 8\n",
      "\n",
      " 9\n",
      "\n",
      " 10\n",
      "\n",
      "while loop---->\n",
      "\n",
      " 0\n",
      "\n",
      " 1\n",
      "\n",
      " 2\n",
      "\n",
      " 3\n",
      "\n",
      " 4\n",
      "\n",
      " 5\n",
      "\n",
      " 6\n",
      "\n",
      " 7\n",
      "\n",
      " 8\n",
      "\n",
      " 9\n",
      "\n",
      " 10\n"
     ]
    }
   ],
   "source": [
    "#program for for loop :-\n",
    "#Write a short program that prints the numbers 1 to 10 using a for loop. Then write an equivalent program that prints the numbers 1 to 10 using a while loop.***\n",
    "print(\"\\n for loop ---->\")\n",
    "a=10\n",
    "for i in range(0, 10 +1):\n",
    "    print(\"\\n\",i)\n",
    "\n",
    "#program using while loop:\n",
    "a=0\n",
    "print(\"\\nwhile loop---->\")\n",
    "while a<=10:\n",
    "    print(\"\\n\",a)\n",
    "    a+=1\n"
   ]
  },
  {
   "cell_type": "markdown",
   "id": "b95e4297-8916-4012-b391-00c177f46169",
   "metadata": {},
   "source": [
    "***13. If you had a function named bacon() inside a module named spam, how would you call it after\n",
    "importing spam?**"
   ]
  },
  {
   "cell_type": "code",
   "execution_count": null,
   "id": "ffde9d7e-7ceb-4086-bcf5-e93a717e2a57",
   "metadata": {},
   "outputs": [],
   "source": [
    "#q13. If you had a function named bacon() inside a module named spam, how would you call it after importing spam?*\n",
    "\n",
    "#ans:_\n",
    "\n",
    "from spam import bacon    #using this we can import bacon fuction from class spam\n",
    "bacon=bacon() # creating a object for fuction bacon "
   ]
  }
 ],
 "metadata": {
  "kernelspec": {
   "display_name": "Python 3 (ipykernel)",
   "language": "python",
   "name": "python3"
  },
  "language_info": {
   "codemirror_mode": {
    "name": "ipython",
    "version": 3
   },
   "file_extension": ".py",
   "mimetype": "text/x-python",
   "name": "python",
   "nbconvert_exporter": "python",
   "pygments_lexer": "ipython3",
   "version": "3.11.7"
  }
 },
 "nbformat": 4,
 "nbformat_minor": 5
}
