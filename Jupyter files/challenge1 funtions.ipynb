{
 "cells": [
  {
   "cell_type": "code",
   "execution_count": 2,
   "id": "9f247c20",
   "metadata": {},
   "outputs": [],
   "source": [
    "def is_primitive(value):\n",
    "    if isinstance(value, int) or isinstance(value, float):\n",
    "        return True\n",
    "    return False\n",
    "\n",
    "def find_primitive_indices(input_list):\n",
    "    for i, element in enumerate(input_list):\n",
    "        if is_primitive(element):\n",
    "            return(f\"Index {i}: {element}\")\n"
   ]
  },
  {
   "cell_type": "code",
   "execution_count": 3,
   "id": "207c6b2b",
   "metadata": {},
   "outputs": [
    {
     "data": {
      "text/plain": [
       "'Index 0: 34'"
      ]
     },
     "execution_count": 3,
     "metadata": {},
     "output_type": "execute_result"
    }
   ],
   "source": [
    "find_primitive_indices([34,3,4,5])"
   ]
  },
  {
   "cell_type": "code",
   "execution_count": 26,
   "id": "ee4d2464",
   "metadata": {},
   "outputs": [],
   "source": [
    "def flatten_dict_values(input_dict):\n",
    "    flattened_values = []\n",
    "\n",
    "    def recursive_flatten(d):\n",
    "        for key, value in d.items():\n",
    "            if isinstance(value, dict):\n",
    "                recursive_flatten(value)\n",
    "            else:\n",
    "                flattened_values.append(value)\n",
    "\n",
    "    recursive_flatten(input_dict)\n",
    "    return flattened_values\n"
   ]
  },
  {
   "cell_type": "code",
   "execution_count": 28,
   "id": "f47c0e7f",
   "metadata": {},
   "outputs": [],
   "source": [
    "d=flatten_dict_values({\"a\":42526,\"b\":\"sudh\"})"
   ]
  },
  {
   "cell_type": "code",
   "execution_count": 29,
   "id": "909b3ed2",
   "metadata": {},
   "outputs": [
    {
     "data": {
      "text/plain": [
       "[42526, 'sudh']"
      ]
     },
     "execution_count": 29,
     "metadata": {},
     "output_type": "execute_result"
    }
   ],
   "source": [
    "d"
   ]
  },
  {
   "cell_type": "code",
   "execution_count": 51,
   "id": "bb6a7dea",
   "metadata": {},
   "outputs": [],
   "source": [
    "def test2(l1,l2,l3):\n",
    "    \n",
    "    l4=[l1+l2+l3]\n",
    "    return l4"
   ]
  },
  {
   "cell_type": "code",
   "execution_count": 52,
   "id": "d1ffdcf6",
   "metadata": {},
   "outputs": [],
   "source": [
    "l1=[3453.36637]\n",
    "l2=[334,\"rajat\"]\n",
    "l3=[\"sudh\",True]"
   ]
  },
  {
   "cell_type": "code",
   "execution_count": 53,
   "id": "d5bd566e",
   "metadata": {},
   "outputs": [
    {
     "data": {
      "text/plain": [
       "[[3453.36637, 334, 'rajat', 'sudh', True]]"
      ]
     },
     "execution_count": 53,
     "metadata": {},
     "output_type": "execute_result"
    }
   ],
   "source": [
    "test2(l1,l2,l3)"
   ]
  },
  {
   "cell_type": "code",
   "execution_count": 54,
   "id": "4368e8ae",
   "metadata": {},
   "outputs": [],
   "source": [
    "import os\n",
    "\n",
    "def list_files_in_directory(directory_path):\n",
    "    file_list = []\n",
    "    for filename in os.listdir(directory_path):\n",
    "        if os.path.isfile(os.path.join(directory_path, filename)):\n",
    "            file_list.append(filename)\n",
    "    return file_list\n",
    "\n"
   ]
  },
  {
   "cell_type": "code",
   "execution_count": null,
   "id": "6540b9be",
   "metadata": {},
   "outputs": [],
   "source": [
    "directory_path = \"/path/to/your/directory\"  # Replace with the actual directory path\n",
    "\n",
    "file_names = list_files_in_directory(directory_path)\n",
    "print(file_names)\n",
    "\n"
   ]
  },
  {
   "cell_type": "code",
   "execution_count": null,
   "id": "c1fab7d3",
   "metadata": {},
   "outputs": [],
   "source": [
    "import cv2\n",
    "\n",
    "def display_image(image_path):\n",
    "    # Read the image\n",
    "    image = cv2.imread(image_path)\n",
    "\n",
    "    if image is not None:\n",
    "        # Display the image in a window\n",
    "        cv2.imshow(\"Image\", image)\n",
    "        cv2.waitKey(0)  # Wait for a key press\n",
    "        cv2.destroyAllWindows()  # Close all windows\n",
    "    else:\n",
    "        print(\"Image not found or could not be loaded.\")\n",
    "\n"
   ]
  },
  {
   "cell_type": "code",
   "execution_count": null,
   "id": "ebdb68fb",
   "metadata": {},
   "outputs": [],
   "source": [
    "import PyPDF2\n",
    "\n",
    "def append_pdfs(pdf1_path, pdf2_path, output_path):\n",
    "    # Create a PDF merger object\n",
    "    pdf_merger = PyPDF2.PdfFileMerger()\n",
    "\n",
    "    # Add the first PDF\n",
    "    pdf_merger.append(pdf1_path)\n",
    "\n",
    "    # Add the second PDF\n",
    "    pdf_merger.append(pdf2_path)\n",
    "\n",
    "    # Write the merged PDF to the output file\n",
    "    with open(output_path, 'wb') as output_file:\n",
    "        pdf_merger.write(output_file)\n",
    "\n"
   ]
  },
  {
   "cell_type": "code",
   "execution_count": null,
   "id": "46840376",
   "metadata": {},
   "outputs": [],
   "source": []
  },
  {
   "cell_type": "code",
   "execution_count": 66,
   "id": "e6f16395",
   "metadata": {},
   "outputs": [],
   "source": [
    "import time\n",
    "import winsound\n",
    "\n",
    "def set_alarm(alarmtime):\n",
    "    current_time = time.strftime(\"%H:%M:%S\")\n",
    "    \n",
    "    while current_time != alarmtime:\n",
    "        time.sleep(1)  # Sleep for 1 second\n",
    "        current_time = time.strftime(\"%H:%M:%S\")\n",
    "\n",
    "    print(\"Time to wake up!\")\n",
    "    frequency = 2500  # Set the frequency (2500 Hz)\n",
    "    duration = 1000  # Set the duration (1 second)\n",
    "    winsound.Beep(frequency, duration)  # Play a beep sound\n"
   ]
  },
  {
   "cell_type": "code",
   "execution_count": null,
   "id": "0292f3a0",
   "metadata": {},
   "outputs": [],
   "source": [
    "#python\n",
    "import os\n",
    "\n",
    "def list_files_in_directory(directory_path):\n",
    "    file_list = []\n",
    "    for filename in os.listdir(directory_path):\n",
    "        if os.path.isfile(os.path.join(directory_path, filename)):\n",
    "            file_list.append(filename)\n",
    "    return file_list\n",
    "\n"
   ]
  },
  {
   "cell_type": "code",
   "execution_count": null,
   "id": "640ddbb9",
   "metadata": {},
   "outputs": [],
   "source": [
    "python\n",
    "directory_path = \"/path/to/your/directory\"  # Replace with the actual directory path\n",
    "\n",
    "file_names = list_files_in_directory(directory_path)\n",
    "print(file_names)\n",
    "\n"
   ]
  },
  {
   "cell_type": "code",
   "execution_count": null,
   "id": "da89fb3a",
   "metadata": {},
   "outputs": [],
   "source": [
    "import os\n",
    "\n",
    "def list_files_in_directory(directory_path):\n",
    "    file_list = []\n",
    "    for filename in os.listdir(directory_path):\n",
    "        if os.path.isfile(os.path.join(directory_path, filename)):\n",
    "            file_list.append(filename)\n",
    "    return file_list\n"
   ]
  },
  {
   "cell_type": "code",
   "execution_count": null,
   "id": "397ee64d",
   "metadata": {},
   "outputs": [],
   "source": [
    "#python\n",
    "directory_path = \"/path/to/your/directory\"  # Replace with the actual directory path\n",
    "\n",
    "file_names = list_files_in_directory(directory_path)\n",
    "print(file_names)\n"
   ]
  },
  {
   "cell_type": "code",
   "execution_count": null,
   "id": "6d9c20b4",
   "metadata": {},
   "outputs": [],
   "source": [
    "import imaplib\n",
    "import getpass\n",
    "\n",
    "def access_email(email_address, password):\n",
    "    try:\n",
    "        # Connect to the IMAP server\n",
    "        mail = imaplib.IMAP4_SSL(\"imap.gmail.com\")  # Use the appropriate IMAP server for your email provider\n",
    "\n",
    "        # Log in to your email account\n",
    "        mail.login(email_address, password)\n",
    "\n",
    "        # Select the mailbox you want to access (e.g., \"inbox\")\n",
    "        mail.select(\"inbox\")\n",
    "\n",
    "        # Search for emails (example: search all emails with the subject \"Test\")\n",
    "        result, data = mail.search(None, 'SUBJECT \"Test\"')\n",
    "\n",
    "        # Fetch and print email IDs\n",
    "        email_ids = data[0].split()\n",
    "        for email_id in email_ids:\n",
    "            result, email_data = mail.fetch(email_id, \"(RFC822)\")\n",
    "            print(email_data[0][1].decode(\"utf-8\"))\n",
    "\n",
    "        # Logout from the email server\n",
    "        mail.logout()\n",
    "    except Exception as e:\n",
    "        print(f\"An error occurred: {e}\")\n",
    "\n"
   ]
  },
  {
   "cell_type": "code",
   "execution_count": null,
   "id": "614d1b31",
   "metadata": {},
   "outputs": [],
   "source": [
    "import os\n",
    "\n",
    "def shutdown_system():\n",
    "    if os.name == 'posix':  # Linux or macOS\n",
    "        os.system(\"shutdown -h now\")\n",
    "    elif os.name == 'nt':  # Windows\n",
    "        os.system(\"shutdown /s /t 0\")\n",
    "    else:\n",
    "        print(\"Unsupported operating system\")\n",
    "\n"
   ]
  },
  {
   "cell_type": "code",
   "execution_count": null,
   "id": "65683962",
   "metadata": {},
   "outputs": [],
   "source": [
    "import cv2\n",
    "\n",
    "def play_video(video_path):\n",
    "    # Create a VideoCapture object to open the video file\n",
    "    cap = cv2.VideoCapture(video_path)\n",
    "\n",
    "    if not cap.isOpened():\n",
    "        print(\"Error: Could not open video file.\")\n",
    "        return\n",
    "\n",
    "    while True:\n",
    "        ret, frame = cap.read()  # Read a frame from the video\n",
    "\n",
    "        if not ret:\n",
    "            break  # Break the loop when we reach the end of the video\n",
    "\n",
    "        cv2.imshow(\"Video\", frame)  # Display the frame\n",
    "\n",
    "        # Check for user input to exit the video\n",
    "        if cv2.waitKey(1) & 0xFF == ord('q'):\n",
    "            break\n",
    "\n",
    "    cap.release()  # Release the VideoCapture object\n",
    "    cv2.destroyAllWindows()  # Close all windows\n",
    "\n",
    "# Example usage\n",
    "video_path = \"path/to/your/video.mp4\"  # Replace with the actual video file path\n",
    "play_video(video_path)\n",
    "\n",
    "\n"
   ]
  },
  {
   "cell_type": "code",
   "execution_count": null,
   "id": "f1acc373",
   "metadata": {},
   "outputs": [],
   "source": [
    "import glob\n",
    "\n",
    "def list_word_files_in_directory(directory_path):\n",
    "    word_files = glob.glob(os.path.join(directory_path, \"*.docx\")) + glob.glob(os.path.join(directory_path, \"*.DOCX\"))\n",
    "    return word_files\n",
    "\n"
   ]
  },
  {
   "cell_type": "code",
   "execution_count": null,
   "id": "697989be",
   "metadata": {},
   "outputs": [],
   "source": [
    "python\n",
    "import os\n",
    "\n",
    "def list_word_files_in_directory(directory_path):\n",
    "    word_files = []\n",
    "    for filename in os.listdir(directory_path):\n",
    "        if filename.endswith(\".docx\") or filename.endswith(\".DOCX\"):\n",
    "            word_files.append(filename)\n",
    "    return word_files\n",
    "\n",
    "# Example usage\n",
    "directory_path = \"/path/to/your/directory\"  # Replace with the actual directory path\n",
    "word_files = list_word_files_in_directory(directory_path)\n",
    "print(word_files)\n",
    "\n"
   ]
  },
  {
   "cell_type": "code",
   "execution_count": null,
   "id": "eb99c56f",
   "metadata": {},
   "outputs": [],
   "source": [
    "import os\n",
    "\n",
    "def list_word_files_in_directory(directory_path):\n",
    "    word_files = []\n",
    "    for filename in os.listdir(directory_path):\n",
    "        if filename.endswith(\".docx\") or filename.endswith(\".DOCX\"):\n",
    "            word_files.append(filename)\n",
    "    return word_files\n",
    "\n",
    "# Example usage\n",
    "directory_path = \"/path/to/your/directory\"  # Replace with the actual directory path\n",
    "word_files = list_word_files_in_directory(directory_path)\n",
    "print(word_files)\n",
    "\n",
    "\n"
   ]
  },
  {
   "cell_type": "code",
   "execution_count": null,
   "id": "8156e8e9",
   "metadata": {},
   "outputs": [],
   "source": [
    "set_alarm(\"18:29\")"
   ]
  },
  {
   "cell_type": "code",
   "execution_count": null,
   "id": "044497e2",
   "metadata": {},
   "outputs": [],
   "source": [
    "t=\"06:46:00\""
   ]
  },
  {
   "cell_type": "code",
   "execution_count": null,
   "id": "15c8bf23",
   "metadata": {},
   "outputs": [],
   "source": [
    "set_alarm(t)"
   ]
  },
  {
   "cell_type": "code",
   "execution_count": 72,
   "id": "25fde056",
   "metadata": {},
   "outputs": [],
   "source": [
    "alarmtime=\"06:46:00\""
   ]
  },
  {
   "cell_type": "code",
   "execution_count": null,
   "id": "c4bd3f34",
   "metadata": {},
   "outputs": [],
   "source": [
    "set_alarm(alarmtime)"
   ]
  },
  {
   "cell_type": "code",
   "execution_count": null,
   "id": "0627b2b6",
   "metadata": {},
   "outputs": [],
   "source": [
    "type(set_alarm(alarmtime))"
   ]
  },
  {
   "cell_type": "code",
   "execution_count": 9,
   "id": "ea6d5dce",
   "metadata": {},
   "outputs": [],
   "source": [
    "import time\n",
    "import winsound\n",
    "\n",
    "def set_alarm(alarm_time):\n",
    "    current_time = time.strftime(\"%H:%M:%S\")\n",
    "    \n",
    "    while current_time != alarm_time:\n",
    "        time.sleep(1)  # Sleep for 1 second\n",
    "        current_time = time.strftime(\"%H:%M:%S\")\n",
    "\n",
    "    print(\"Time to wake up!\")\n",
    "    "
   ]
  },
  {
   "cell_type": "code",
   "execution_count": 10,
   "id": "e4497461",
   "metadata": {},
   "outputs": [],
   "source": [
    "alarm_time=\"18:50:00\""
   ]
  },
  {
   "cell_type": "code",
   "execution_count": null,
   "id": "9016341a",
   "metadata": {},
   "outputs": [],
   "source": [
    "set_alarm(alarm_time)"
   ]
  },
  {
   "cell_type": "code",
   "execution_count": 22,
   "id": "f21b001c",
   "metadata": {},
   "outputs": [
    {
     "name": "stdout",
     "output_type": "stream",
     "text": [
      "Currentdatetime : 2023-09-23 18:58:00\n",
      "Currentdatetime : 2023-09-23 18:58:01\n",
      "Currentdatetime : 2023-09-23 18:58:02\n",
      "Currentdatetime : 2023-09-23 18:58:03\n",
      "Currentdatetime : 2023-09-23 18:58:04\n",
      "Currentdatetime : 2023-09-23 18:58:05\n",
      "Currentdatetime : 2023-09-23 18:58:06\n",
      "Currentdatetime : 2023-09-23 18:58:07\n",
      "Currentdatetime : 2023-09-23 18:58:08\n",
      "Currentdatetime : 2023-09-23 18:58:09\n",
      "Currentdatetime : 2023-09-23 18:58:10\n",
      "Currentdatetime : 2023-09-23 18:58:11\n",
      "Currentdatetime : 2023-09-23 18:58:12\n",
      "Currentdatetime : 2023-09-23 18:58:13\n",
      "Currentdatetime : 2023-09-23 18:58:14\n",
      "Currentdatetime : 2023-09-23 18:58:15\n",
      "Currentdatetime : 2023-09-23 18:58:16\n",
      "Currentdatetime : 2023-09-23 18:58:17\n",
      "Currentdatetime : 2023-09-23 18:58:18\n",
      "Currentdatetime : 2023-09-23 18:58:19\n",
      "Currentdatetime : 2023-09-23 18:58:20\n"
     ]
    },
    {
     "ename": "KeyboardInterrupt",
     "evalue": "",
     "output_type": "error",
     "traceback": [
      "\u001b[1;31m---------------------------------------------------------------------------\u001b[0m",
      "\u001b[1;31mKeyboardInterrupt\u001b[0m                         Traceback (most recent call last)",
      "Cell \u001b[1;32mIn[22], line 6\u001b[0m\n\u001b[0;32m      4\u001b[0m currenttime\u001b[38;5;241m=\u001b[39mtime\u001b[38;5;241m.\u001b[39mstrftime(\u001b[38;5;124m\"\u001b[39m\u001b[38;5;124m%\u001b[39m\u001b[38;5;124mY-\u001b[39m\u001b[38;5;124m%\u001b[39m\u001b[38;5;124mm-\u001b[39m\u001b[38;5;132;01m%d\u001b[39;00m\u001b[38;5;124m \u001b[39m\u001b[38;5;124m%\u001b[39m\u001b[38;5;124mH:\u001b[39m\u001b[38;5;124m%\u001b[39m\u001b[38;5;124mM:\u001b[39m\u001b[38;5;124m%\u001b[39m\u001b[38;5;124mS\u001b[39m\u001b[38;5;124m\"\u001b[39m,time1)\n\u001b[0;32m      5\u001b[0m \u001b[38;5;28mprint\u001b[39m(\u001b[38;5;124mf\u001b[39m\u001b[38;5;124m\"\u001b[39m\u001b[38;5;124mCurrentdatetime : \u001b[39m\u001b[38;5;132;01m{\u001b[39;00mcurrenttime\u001b[38;5;132;01m}\u001b[39;00m\u001b[38;5;124m\"\u001b[39m)\n\u001b[1;32m----> 6\u001b[0m time\u001b[38;5;241m.\u001b[39msleep(\u001b[38;5;241m1\u001b[39m)\n",
      "\u001b[1;31mKeyboardInterrupt\u001b[0m: "
     ]
    }
   ],
   "source": [
    "import time\n",
    "while True:\n",
    "        time1=time.localtime()\n",
    "        currenttime=time.strftime(\"%Y-%m-%d %H:%M:%S\",time1)\n",
    "        print(f\"Currentdatetime : {currenttime}\")\n",
    "        time.sleep(1)      "
   ]
  },
  {
   "cell_type": "code",
   "execution_count": 32,
   "id": "6d135ed5",
   "metadata": {},
   "outputs": [
    {
     "name": "stdout",
     "output_type": "stream",
     "text": [
      " current date : 2023-09-23\n"
     ]
    }
   ],
   "source": [
    "import datetime\n",
    "date_time=datetime.datetime.now()\n",
    "current_date=date_time.date()\n",
    "print(f\" current date : {current_date}\")"
   ]
  },
  {
   "cell_type": "code",
   "execution_count": 26,
   "id": "74ad73d6",
   "metadata": {},
   "outputs": [
    {
     "data": {
      "text/plain": [
       "datetime.datetime(2023, 9, 23, 19, 0, 29, 446680)"
      ]
     },
     "execution_count": 26,
     "metadata": {},
     "output_type": "execute_result"
    }
   ],
   "source": [
    "import datetime\n",
    "datetime.datetime.now()"
   ]
  },
  {
   "cell_type": "code",
   "execution_count": 35,
   "id": "c145be2b",
   "metadata": {},
   "outputs": [
    {
     "name": "stdout",
     "output_type": "stream",
     "text": [
      "DESKTOP-19D29J7 192.168.1.107\n"
     ]
    }
   ],
   "source": [
    "import socket\n",
    "host_name=socket.gethostname()\n",
    "ip_adress=socket.gethostbyname(host_name)\n",
    "\n",
    "print(host_name,ip_adress)"
   ]
  },
  {
   "cell_type": "code",
   "execution_count": 38,
   "id": "bbae2453",
   "metadata": {},
   "outputs": [
    {
     "name": "stdout",
     "output_type": "stream",
     "text": [
      " windows not install in your system \n"
     ]
    }
   ],
   "source": [
    "import os \n",
    "desire_software=\"windows\"\n",
    "if os.path.exists(desire_software):\n",
    "    print(f\" {desire_software} install in your system \")\n",
    "else:\n",
    "    print(f\" {desire_software} not install in your system \")\n"
   ]
  },
  {
   "cell_type": "code",
   "execution_count": 5,
   "id": "3238bda9",
   "metadata": {},
   "outputs": [],
   "source": [
    "import smtplib\n",
    "from email.mime.text import MIMEText\n",
    "from email.mime.multipart import MIMEMultipart\n",
    "\n",
    "def send_email(sender_email, sender_password, recipient_email, subject, message):\n",
    "    try:\n",
    "        # Set up the email server (for Gmail, use smtp.gmail.com)\n",
    "        server = smtplib.SMTP(\"smtp.gmail.com\", 587)\n",
    "        server.starttls()\n",
    "        \n",
    "        # Log in to your email account\n",
    "        server.login(sender_email, sender_password)\n",
    "\n",
    "        # Create a message\n",
    "        msg = MIMEMultipart()\n",
    "        msg[\"From\"] = sender_emaAil\n",
    "        msg[\"To\"] = recipient_email\n",
    "        msg[\"Subject\"] = subject\n",
    "\n",
    "        # Attach the message\n",
    "        msg.attach(MIMEText(message, \"plain\"))\n",
    "\n",
    "        # Send the email\n",
    "        server.sendmail(sender_email, recipient_email, msg.as_string())\n",
    "\n",
    "        # Quit the server\n",
    "        server.quit()\n",
    "        print(\"Email sent successfully!\")\n",
    "\n",
    "    except Exception as e:\n",
    "        print(f\"An error occurred: {e}\")\n"
   ]
  },
  {
   "cell_type": "code",
   "execution_count": 6,
   "id": "da9d978f",
   "metadata": {},
   "outputs": [],
   "source": [
    "import smtplib\n",
    "from email.mime.text import MIMEText\n",
    "from email.mime.multipart import MIMEMultipart\n",
    "\n",
    "def send_email(sender_email, sender_password, recipient_email, subject, message):\n",
    "    try:\n",
    "        # Set up the email server (for Gmail, use smtp.gmail.com)\n",
    "        server = smtplib.SMTP(\"smtp.gmail.com\", 587)\n",
    "        server.starttls()\n",
    "        \n",
    "        # Log in to your email account\n",
    "        server.login(sender_email, sender_password)\n",
    "\n",
    "        # Create a message\n",
    "        msg = MIMEMultipart()\n",
    "        msg[\"From\"] = sender_emaAil\n",
    "        msg[\"To\"] = recipient_email\n",
    "        msg[\"Subject\"] = subject\n",
    "\n",
    "        # Attach the message\n",
    "        msg.attach(MIMEText(message, \"plain\"))\n",
    "\n",
    "        # Send the email\n",
    "        server.sendmail(sender_email, recipient_email, msg.as_string())\n",
    "\n",
    "        # Quit the server\n",
    "        server.quit()\n",
    "        print(\"Email sent successfully!\")\n",
    "\n",
    "    except Exception as e:\n",
    "        print(f\"An error occurred: {e}\")\n"
   ]
  },
  {
   "cell_type": "code",
   "execution_count": 8,
   "id": "7804a0bd",
   "metadata": {},
   "outputs": [
    {
     "name": "stdout",
     "output_type": "stream",
     "text": [
      "An error occurred: (535, b'5.7.8 Username and Password not accepted. Learn more at\\n5.7.8  https://support.google.com/mail/?p=BadCredentials t3-20020a170902e84300b001c60c3f9508sm35117plg.230 - gsmtp')\n"
     ]
    }
   ],
   "source": []
  },
  {
   "cell_type": "code",
   "execution_count": 4,
   "id": "e90b6864",
   "metadata": {},
   "outputs": [
    {
     "data": {
      "text/plain": [
       "0"
      ]
     },
     "execution_count": 4,
     "metadata": {},
     "output_type": "execute_result"
    }
   ],
   "source": [
    "from gtts import gTTS\n",
    "import os\n",
    "text=\"my first class in python\"\n",
    "tts=gTTS(text)\n",
    "tts.save(\"output.mp3\")\n",
    "os.system(\" start output.mp3\")\n",
    "    "
   ]
  },
  {
   "cell_type": "code",
   "execution_count": null,
   "id": "b67a51a7",
   "metadata": {},
   "outputs": [],
   "source": []
  }
 ],
 "metadata": {
  "kernelspec": {
   "display_name": "Python 3 (ipykernel)",
   "language": "python",
   "name": "python3"
  },
  "language_info": {
   "codemirror_mode": {
    "name": "ipython",
    "version": 3
   },
   "file_extension": ".py",
   "mimetype": "text/x-python",
   "name": "python",
   "nbconvert_exporter": "python",
   "pygments_lexer": "ipython3",
   "version": "3.11.4"
  }
 },
 "nbformat": 4,
 "nbformat_minor": 5
}
