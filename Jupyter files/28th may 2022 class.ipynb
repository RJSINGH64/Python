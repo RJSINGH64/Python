{
 "cells": [
  {
   "cell_type": "code",
   "execution_count": 1,
   "id": "ab681068",
   "metadata": {},
   "outputs": [],
   "source": [
    "l=[1,2,3,4,5,6,7,\"sudh\",\"kumar\",45.56]"
   ]
  },
  {
   "cell_type": "code",
   "execution_count": 2,
   "id": "8a966d19",
   "metadata": {},
   "outputs": [
    {
     "data": {
      "text/plain": [
       "[1, 2, 3, 4, 5, 6, 7, 'sudh', 'kumar', 45.56]"
      ]
     },
     "execution_count": 2,
     "metadata": {},
     "output_type": "execute_result"
    }
   ],
   "source": [
    "l"
   ]
  },
  {
   "cell_type": "code",
   "execution_count": 3,
   "id": "1d551921",
   "metadata": {},
   "outputs": [
    {
     "name": "stdout",
     "output_type": "stream",
     "text": [
      "1\n",
      "2\n",
      "3\n",
      "4\n",
      "5\n",
      "6\n",
      "7\n",
      "sudh\n",
      "kumar\n",
      "45.56\n"
     ]
    }
   ],
   "source": [
    "for i in l:\n",
    "    print(i)"
   ]
  },
  {
   "cell_type": "code",
   "execution_count": 4,
   "id": "56d32b70",
   "metadata": {},
   "outputs": [
    {
     "name": "stdout",
     "output_type": "stream",
     "text": [
      "1\n",
      "2\n",
      "3\n",
      "4\n",
      "5\n",
      "6\n",
      "7\n",
      "45.56\n"
     ]
    }
   ],
   "source": [
    "for i in l:\n",
    "    if type(i)==int or type(i)==float:\n",
    "        print(i)"
   ]
  },
  {
   "cell_type": "code",
   "execution_count": 5,
   "id": "9cbdc871",
   "metadata": {},
   "outputs": [],
   "source": [
    "for i in l:\n",
    "   \n",
    "  pass"
   ]
  },
  {
   "cell_type": "code",
   "execution_count": 6,
   "id": "2dcf849c",
   "metadata": {},
   "outputs": [],
   "source": [
    "s=\"sudh\""
   ]
  },
  {
   "cell_type": "code",
   "execution_count": 7,
   "id": "e36cb564",
   "metadata": {},
   "outputs": [
    {
     "data": {
      "text/plain": [
       "'sudh'"
      ]
     },
     "execution_count": 7,
     "metadata": {},
     "output_type": "execute_result"
    }
   ],
   "source": [
    "s"
   ]
  },
  {
   "cell_type": "code",
   "execution_count": 8,
   "id": "0712b8e5",
   "metadata": {},
   "outputs": [
    {
     "name": "stdout",
     "output_type": "stream",
     "text": [
      "ss\n",
      "uu\n",
      "dd\n",
      "hh\n"
     ]
    }
   ],
   "source": [
    "for i in s:\n",
    "    print(i*2)"
   ]
  },
  {
   "cell_type": "code",
   "execution_count": 9,
   "id": "dd8e18db",
   "metadata": {},
   "outputs": [
    {
     "name": "stdout",
     "output_type": "stream",
     "text": [
      "1\n",
      "2\n",
      "3\n",
      "4\n",
      "5\n",
      "6\n",
      "7\n",
      "sudh\n",
      "kumar\n",
      "45.56\n",
      "rj\n"
     ]
    }
   ],
   "source": [
    "for i in l:\n",
    "    print(i)\n",
    "else:\n",
    "    print(\"rj\")"
   ]
  },
  {
   "cell_type": "code",
   "execution_count": 10,
   "id": "132e2709",
   "metadata": {},
   "outputs": [
    {
     "name": "stdout",
     "output_type": "stream",
     "text": [
      "1\n",
      "2\n",
      "3\n",
      "4\n",
      "5\n",
      "6\n",
      "7\n"
     ]
    }
   ],
   "source": [
    "for i in l:\n",
    "    if type(i)==str:\n",
    "        break \n",
    "    print(i) \n",
    "else:\n",
    "    print(\" i is completed\")"
   ]
  },
  {
   "cell_type": "code",
   "execution_count": 11,
   "id": "8f933267",
   "metadata": {},
   "outputs": [
    {
     "name": "stdout",
     "output_type": "stream",
     "text": [
      "s\n",
      "u\n",
      "d\n",
      "h\n",
      "a\n",
      "n\n",
      "n\n",
      "s\n",
      "h\n",
      "u\n",
      "string  sudhanshu\n"
     ]
    }
   ],
   "source": [
    "s=\"sudhanshu\"\n",
    "for i in s:\n",
    "    if i==\"n\":\n",
    "        pass\n",
    "        print(i) \n",
    "    print(i)\n",
    "else:\n",
    "    print(\"string \", s)"
   ]
  },
  {
   "cell_type": "code",
   "execution_count": 12,
   "id": "a53f6113",
   "metadata": {},
   "outputs": [],
   "source": [
    "t=(4,5,6,7,8,6,\"sudh\")"
   ]
  },
  {
   "cell_type": "code",
   "execution_count": 13,
   "id": "7b3d7ecf",
   "metadata": {},
   "outputs": [
    {
     "data": {
      "text/plain": [
       "(4, 5, 6, 7, 8, 6, 'sudh')"
      ]
     },
     "execution_count": 13,
     "metadata": {},
     "output_type": "execute_result"
    }
   ],
   "source": [
    "t"
   ]
  },
  {
   "cell_type": "code",
   "execution_count": 14,
   "id": "b9fef33b",
   "metadata": {},
   "outputs": [
    {
     "name": "stdout",
     "output_type": "stream",
     "text": [
      "4\n",
      "5\n",
      "6\n",
      "7\n",
      "8\n",
      "6\n",
      "sudh\n"
     ]
    }
   ],
   "source": [
    "for i in t:\n",
    "    print(i)"
   ]
  },
  {
   "cell_type": "code",
   "execution_count": 15,
   "id": "5a8cab43",
   "metadata": {},
   "outputs": [],
   "source": [
    "s={2,3,4,4,3,4,5,6,\"sudh\"}"
   ]
  },
  {
   "cell_type": "code",
   "execution_count": 16,
   "id": "f2672e37",
   "metadata": {},
   "outputs": [
    {
     "data": {
      "text/plain": [
       "{2, 3, 4, 5, 6, 'sudh'}"
      ]
     },
     "execution_count": 16,
     "metadata": {},
     "output_type": "execute_result"
    }
   ],
   "source": [
    "s"
   ]
  },
  {
   "cell_type": "code",
   "execution_count": 17,
   "id": "1c3304fb",
   "metadata": {},
   "outputs": [
    {
     "data": {
      "text/plain": [
       "{2, 3, 4, 5, 6, 'sudh'}"
      ]
     },
     "execution_count": 17,
     "metadata": {},
     "output_type": "execute_result"
    }
   ],
   "source": [
    "s"
   ]
  },
  {
   "cell_type": "code",
   "execution_count": 18,
   "id": "7b903f47",
   "metadata": {},
   "outputs": [
    {
     "name": "stdout",
     "output_type": "stream",
     "text": [
      "sudh\n",
      "2\n",
      "3\n",
      "4\n",
      "5\n",
      "6\n"
     ]
    }
   ],
   "source": [
    "for i in s:\n",
    "    print(i)"
   ]
  },
  {
   "cell_type": "code",
   "execution_count": 19,
   "id": "d3566b9b",
   "metadata": {},
   "outputs": [],
   "source": [
    "b={4,5,6,7,7,7,7,7,\"rajat\"}"
   ]
  },
  {
   "cell_type": "code",
   "execution_count": 20,
   "id": "36ff75bd",
   "metadata": {},
   "outputs": [
    {
     "data": {
      "text/plain": [
       "{4, 5, 6, 7, 'rajat'}"
      ]
     },
     "execution_count": 20,
     "metadata": {},
     "output_type": "execute_result"
    }
   ],
   "source": [
    "b"
   ]
  },
  {
   "cell_type": "code",
   "execution_count": 21,
   "id": "99bdc28b",
   "metadata": {},
   "outputs": [
    {
     "name": "stdout",
     "output_type": "stream",
     "text": [
      "rajat\n",
      "4\n",
      "5\n",
      "6\n",
      "7\n"
     ]
    }
   ],
   "source": [
    "for i in b:\n",
    "    print(i)"
   ]
  },
  {
   "cell_type": "code",
   "execution_count": 22,
   "id": "48ca2c4c",
   "metadata": {},
   "outputs": [],
   "source": [
    "d={\"key1\":\"sudh\",\"contact\":\"sudhanshu@ineyron.ai\",\"positive\":\"xyz\"}"
   ]
  },
  {
   "cell_type": "code",
   "execution_count": 23,
   "id": "313b275e",
   "metadata": {},
   "outputs": [
    {
     "data": {
      "text/plain": [
       "{'key1': 'sudh', 'contact': 'sudhanshu@ineyron.ai', 'positive': 'xyz'}"
      ]
     },
     "execution_count": 23,
     "metadata": {},
     "output_type": "execute_result"
    }
   ],
   "source": [
    "d"
   ]
  },
  {
   "cell_type": "code",
   "execution_count": 24,
   "id": "a1df021b",
   "metadata": {},
   "outputs": [
    {
     "name": "stdout",
     "output_type": "stream",
     "text": [
      "key1 sudh\n",
      "contact sudhanshu@ineyron.ai\n",
      "positive xyz\n"
     ]
    }
   ],
   "source": [
    "for i in d:\n",
    "    print(i,d[i])"
   ]
  },
  {
   "cell_type": "code",
   "execution_count": 25,
   "id": "f333fcc9",
   "metadata": {},
   "outputs": [],
   "source": [
    "a=5"
   ]
  },
  {
   "cell_type": "code",
   "execution_count": 26,
   "id": "832e9f8c",
   "metadata": {},
   "outputs": [
    {
     "data": {
      "text/plain": [
       "[0, 1, 2, 3, 4]"
      ]
     },
     "execution_count": 26,
     "metadata": {},
     "output_type": "execute_result"
    }
   ],
   "source": [
    "list(range(5))"
   ]
  },
  {
   "cell_type": "code",
   "execution_count": 27,
   "id": "39b6b934",
   "metadata": {},
   "outputs": [
    {
     "name": "stdout",
     "output_type": "stream",
     "text": [
      "sudh \n",
      "\n",
      "sudh sudh \n",
      "\n",
      "sudh sudh sudh \n",
      "\n",
      "sudh sudh sudh sudh \n",
      "\n"
     ]
    }
   ],
   "source": [
    "n=4\n",
    "for i in range(n):\n",
    "    for j in range(0,i+1):\n",
    "        print(\"sudh\" , end=\" \")\n",
    "    print(\"\\n\")\n",
    "    "
   ]
  },
  {
   "cell_type": "code",
   "execution_count": 28,
   "id": "ca4ea5e1",
   "metadata": {},
   "outputs": [
    {
     "name": "stdout",
     "output_type": "stream",
     "text": [
      "       sudh \n",
      "     sudh sudh \n",
      "   sudh sudh sudh \n",
      " sudh sudh sudh sudh \n"
     ]
    }
   ],
   "source": [
    "n=4\n",
    "k=4\n",
    "for i in range(n):\n",
    "    k=k-1\n",
    "    print(\"  \"*k , end=\" \")\n",
    "    for j in range(i+1):\n",
    "        print(\"sudh\" , end=\" \")\n",
    "   \n",
    "    print()    \n",
    "        "
   ]
  },
  {
   "cell_type": "code",
   "execution_count": 128,
   "id": "ec2cfe92",
   "metadata": {},
   "outputs": [
    {
     "name": "stdout",
     "output_type": "stream",
     "text": [
      "               sudh \n",
      "          sudh sudh sudh \n",
      "     sudh sudh sudh sudh sudh \n",
      "sudh sudh sudh sudh sudh sudh sudh \n",
      "     sudh sudh sudh sudh sudh \n",
      "          sudh sudh sudh \n",
      "               sudh \n"
     ]
    }
   ],
   "source": [
    "n=4\n",
    "for i in range(n):\n",
    "    for j in range(i,n-1):\n",
    "        print(\" \"*len(\"sudh\" ), end=\" \")\n",
    "    for k in range(i+1) :\n",
    "        print(\"sudh\" , end=\" \")\n",
    "    for j in range(i):\n",
    "        print(\"sudh\", end=\" \")\n",
    "        \n",
    "    print() \n",
    "for j in range(3):\n",
    "    for k in range(j+1):\n",
    "        print(\" \"*len(\"sudh\"),end=\" \")\n",
    "    for k in range(j,3):\n",
    "        print(\"sudh\",end=\" \")\n",
    "    for k in range(j,2):\n",
    "        print(\"sudh\",end=\" \")\n",
    "    print()    \n",
    "        "
   ]
  },
  {
   "cell_type": "code",
   "execution_count": 30,
   "id": "278d1d27",
   "metadata": {},
   "outputs": [],
   "source": [
    "a,b,c=10,20,30"
   ]
  },
  {
   "cell_type": "code",
   "execution_count": 31,
   "id": "fd90854d",
   "metadata": {},
   "outputs": [
    {
     "name": "stdout",
     "output_type": "stream",
     "text": [
      "4 : 5\n",
      "key1 : sudh\n",
      "key2 : kumar\n"
     ]
    }
   ],
   "source": [
    "d={4:5,\"key1\":\"sudh\",\"key2\":\"kumar\"}\n",
    "for i,j in d.items():\n",
    "    print(i,\":\",j)"
   ]
  },
  {
   "cell_type": "code",
   "execution_count": 32,
   "id": "471aea35",
   "metadata": {},
   "outputs": [
    {
     "name": "stdout",
     "output_type": "stream",
     "text": [
      "ineuron \n",
      "ineuron ineuron \n",
      "ineuron ineuron ineuron \n",
      "ineuron ineuron ineuron ineuron \n"
     ]
    }
   ],
   "source": [
    "row=4\n",
    "for i in range(row):\n",
    "    for j in range(i+1):\n",
    "        if range(i)==5:\n",
    "            break\n",
    "        print(\"ineuron\",end=\" \")\n",
    "    print()"
   ]
  },
  {
   "cell_type": "code",
   "execution_count": 33,
   "id": "a1f50ed3",
   "metadata": {},
   "outputs": [
    {
     "name": "stdout",
     "output_type": "stream",
     "text": [
      "              ineuron        \n",
      "       ineuron        ineuron        \n",
      "ineuron        ineuron        ineuron        \n",
      "      ineuron          ineuron    \n",
      "               ineuron    \n"
     ]
    }
   ],
   "source": [
    "row=3\n",
    "for i in range(row):\n",
    "    for j in range(i,row-1):\n",
    "        print(\"    \",end=\"   \")\n",
    "    for j in range(i+1) :\n",
    "        print(\"ineuron\",end=\"        \")\n",
    "    print()   \n",
    "for k in range(2):\n",
    "    for j in range(k):\n",
    "        print(\"        \",end=\" \")\n",
    "    for j in range(k,2):\n",
    "        print(\"      ineuron\",end=\"    \")\n",
    "    \n",
    "    print()    "
   ]
  },
  {
   "cell_type": "code",
   "execution_count": 34,
   "id": "6ea637d0",
   "metadata": {},
   "outputs": [],
   "source": [
    "l=[[1,2,3,4,5],(2,3,4,5,6),(3,4,5,6),set([23,4,5,45,4,4,45,45,4,5]),{\"k1\":\"sudh\",\"k2\":\"ineuron\",\"k3\":\"kumar\",3:6,7:8},[\"ineuron\",\"datscience\"]]"
   ]
  },
  {
   "cell_type": "code",
   "execution_count": 35,
   "id": "56477f3e",
   "metadata": {},
   "outputs": [
    {
     "data": {
      "text/plain": [
       "[[1, 2, 3, 4, 5],\n",
       " (2, 3, 4, 5, 6),\n",
       " (3, 4, 5, 6),\n",
       " {4, 5, 23, 45},\n",
       " {'k1': 'sudh', 'k2': 'ineuron', 'k3': 'kumar', 3: 6, 7: 8},\n",
       " ['ineuron', 'datscience']]"
      ]
     },
     "execution_count": 35,
     "metadata": {},
     "output_type": "execute_result"
    }
   ],
   "source": [
    "l"
   ]
  },
  {
   "cell_type": "code",
   "execution_count": 36,
   "id": "8b671bac",
   "metadata": {},
   "outputs": [
    {
     "name": "stdout",
     "output_type": "stream",
     "text": [
      "[1, 2, 3, 4, 5] <class 'list'>\n",
      "['ineuron', 'datscience'] <class 'list'>\n"
     ]
    }
   ],
   "source": [
    "for i in l:\n",
    "    if type(i)==list:\n",
    "        print(i,type(i))\n",
    "    "
   ]
  },
  {
   "cell_type": "code",
   "execution_count": 37,
   "id": "b4cd620a",
   "metadata": {},
   "outputs": [
    {
     "name": "stdout",
     "output_type": "stream",
     "text": [
      "{'k1': 'sudh', 'k2': 'ineuron', 'k3': 'kumar', 3: 6, 7: 8} <class 'dict'>\n"
     ]
    }
   ],
   "source": [
    "for i in l:\n",
    "    if type(i)==dict:\n",
    "        print(i,type(i))"
   ]
  },
  {
   "cell_type": "code",
   "execution_count": 38,
   "id": "dd6c1c7f",
   "metadata": {},
   "outputs": [
    {
     "name": "stdout",
     "output_type": "stream",
     "text": [
      "(2, 3, 4, 5, 6) <class 'tuple'>\n",
      "(3, 4, 5, 6) <class 'tuple'>\n"
     ]
    }
   ],
   "source": [
    "for i in l:\n",
    "    if type(i)==tuple:\n",
    "        print(i,type(i))"
   ]
  },
  {
   "cell_type": "code",
   "execution_count": 39,
   "id": "48c9022d",
   "metadata": {},
   "outputs": [
    {
     "name": "stdout",
     "output_type": "stream",
     "text": [
      "1\n",
      "2\n",
      "3\n",
      "4\n",
      "5\n",
      "2\n",
      "3\n",
      "4\n",
      "5\n",
      "6\n",
      "3\n",
      "4\n",
      "5\n",
      "6\n",
      "45\n",
      "4\n",
      "5\n",
      "23\n",
      "3\n",
      "7\n"
     ]
    }
   ],
   "source": [
    "for i  in l:\n",
    "    if type(i)==list or type(i)==dict or type(i)==tuple or type(i)==set:\n",
    "        pass\n",
    "        for j in i:\n",
    "            if type(j)==int:\n",
    "            \n",
    "                print(j)\n",
    "        \n",
    "        \n",
    "            \n",
    "            "
   ]
  },
  {
   "cell_type": "code",
   "execution_count": 46,
   "id": "558a88a7",
   "metadata": {},
   "outputs": [
    {
     "data": {
      "text/plain": [
       "[[1, 2, 3, 4, 5],\n",
       " (2, 3, 4, 5, 6),\n",
       " (3, 4, 5, 6),\n",
       " {4, 5, 23, 45},\n",
       " {'k1': 'sudh', 'k2': 'ineuron', 'k3': 'kumar', 3: 6, 7: 8},\n",
       " ['ineuron', 'datscience']]"
      ]
     },
     "execution_count": 46,
     "metadata": {},
     "output_type": "execute_result"
    }
   ],
   "source": [
    "l"
   ]
  },
  {
   "cell_type": "code",
   "execution_count": 58,
   "id": "0f64b47f",
   "metadata": {},
   "outputs": [
    {
     "name": "stdout",
     "output_type": "stream",
     "text": [
      "[1, 2, 3, 4, 5, 2, 3, 4, 5, 6, 3, 4, 5, 6, 45, 4, 5, 23, 6, 3, 8, 7]\n",
      "154\n"
     ]
    }
   ],
   "source": [
    "sum=0\n",
    "l1=[]\n",
    "for i in l:\n",
    "    \n",
    "    if type(i)==list or type(i)==tuple or type(i)==set :\n",
    "        \n",
    "        \n",
    "        for j in i:\n",
    "            if type(j)==int :\n",
    "                sum+=j   \n",
    "                l1.append(j)   \n",
    "                 \n",
    "    elif type(i) ==dict:\n",
    "        for k ,v in i.items():\n",
    "            if type(k)==int or type(v)==int:\n",
    "            \n",
    "                sum+=k\n",
    "                sum+=v\n",
    "                l1.append(v) \n",
    "                l1.append(k)\n",
    "        print(l1)\n",
    "print(sum)\n",
    "                 "
   ]
  },
  {
   "cell_type": "code",
   "execution_count": 42,
   "id": "7c29675c",
   "metadata": {},
   "outputs": [
    {
     "name": "stdout",
     "output_type": "stream",
     "text": [
      "2\n",
      "4\n",
      "2\n",
      "4\n",
      "6\n",
      "4\n",
      "6\n",
      "4\n"
     ]
    }
   ],
   "source": [
    "for i in l:\n",
    "    if type(i)==list or type(i)==tuple or type(i)==set or type(i)==dict:\n",
    "        for j in i:\n",
    "            if type(j)==int:\n",
    "                if j%2==0:\n",
    "                    print(j)\n",
    "                    "
   ]
  },
  {
   "cell_type": "code",
   "execution_count": 59,
   "id": "557eb0d0",
   "metadata": {},
   "outputs": [
    {
     "data": {
      "text/plain": [
       "[[1, 2, 3, 4, 5],\n",
       " (2, 3, 4, 5, 6),\n",
       " (3, 4, 5, 6),\n",
       " {4, 5, 23, 45},\n",
       " {'k1': 'sudh', 'k2': 'ineuron', 'k3': 'kumar', 3: 6, 7: 8},\n",
       " ['ineuron', 'datscience']]"
      ]
     },
     "execution_count": 59,
     "metadata": {},
     "output_type": "execute_result"
    }
   ],
   "source": [
    "l"
   ]
  },
  {
   "cell_type": "code",
   "execution_count": 77,
   "id": "c85c1086",
   "metadata": {},
   "outputs": [
    {
     "name": "stdout",
     "output_type": "stream",
     "text": [
      "ineuron\n",
      "ineuron\n"
     ]
    }
   ],
   "source": [
    "for i in l:\n",
    "    if type(i)==list:\n",
    "        for j in i:\n",
    "            if j==\"ineuron\":\n",
    "                print(j)\n",
    "    elif type(i) ==dict:\n",
    "        for k in i.values():\n",
    "            if k==\"ineuron\":\n",
    "                print(k)"
   ]
  },
  {
   "cell_type": "code",
   "execution_count": 94,
   "id": "a9de5456",
   "metadata": {},
   "outputs": [
    {
     "name": "stdout",
     "output_type": "stream",
     "text": [
      "k1 : sudh\n",
      "k2 : ineuron\n",
      "k3 : kumar\n",
      "ineuron\n",
      "datscience\n"
     ]
    }
   ],
   "source": [
    "for i in l:\n",
    "    if type(i)==dict :\n",
    "        for j,k in i.items():\n",
    "            if type(j)==str:\n",
    "\n",
    "                print(j,\":\",k)\n",
    "    elif type(i) ==list:\n",
    "        for j in i:\n",
    "            if type(j)==str:\n",
    "                print(j)\n",
    "               "
   ]
  },
  {
   "cell_type": "code",
   "execution_count": 129,
   "id": "961f93ce",
   "metadata": {},
   "outputs": [
    {
     "data": {
      "text/plain": [
       "[[1, 2, 3, 4, 5],\n",
       " (2, 3, 4, 5, 6),\n",
       " (3, 4, 5, 6),\n",
       " {4, 5, 23, 45},\n",
       " {'k1': 'sudh', 'k2': 'ineuron', 'k3': 'kumar', 3: 6, 7: 8},\n",
       " ['ineuron', 'datscience']]"
      ]
     },
     "execution_count": 129,
     "metadata": {},
     "output_type": "execute_result"
    }
   ],
   "source": [
    "l"
   ]
  },
  {
   "cell_type": "code",
   "execution_count": 140,
   "id": "9800ca25",
   "metadata": {},
   "outputs": [
    {
     "name": "stdout",
     "output_type": "stream",
     "text": [
      "1\n",
      "2\n",
      "3\n",
      "4\n",
      "5\n",
      "2\n",
      "3\n",
      "4\n",
      "5\n",
      "6\n",
      "3\n",
      "4\n",
      "5\n",
      "6\n",
      "45\n",
      "4\n",
      "5\n",
      "23\n",
      "3\n",
      "6\n",
      "7\n",
      "8\n",
      "multiplication of all numeric data is  649003622400000\n"
     ]
    }
   ],
   "source": [
    "\n",
    "m1=1\n",
    "for i in l:\n",
    "    if type(i)==list or type(i)==tuple or type(i)==set:\n",
    "        for j in i:\n",
    "            if type(j)==int:\n",
    "                m1*=j\n",
    "                print(j)\n",
    "                \n",
    "    elif type(i) ==dict:\n",
    "        for k , v in i.items():\n",
    "            if type(k)==int:\n",
    "                m1*=k\n",
    "                m1*=v\n",
    "                print(k)\n",
    "                print(v)\n",
    "                \n",
    "\n",
    "print(\"multiplication of all numeric data is \",m1)                "
   ]
  },
  {
   "cell_type": "code",
   "execution_count": 150,
   "id": "6386b044",
   "metadata": {},
   "outputs": [
    {
     "name": "stdout",
     "output_type": "stream",
     "text": [
      "[1, 2, 3, 4, 5, 2, 3, 4, 5, 6, 3, 4, 5, 6, 45, 4, 5, 23, 'k1', 'sudh', 'k2', 'ineuron', 'k3', 'kumar', 3, 6, 7, 8, 'ineuron', 'datscience']\n"
     ]
    }
   ],
   "source": [
    "l1=[]\n",
    "for i in l:\n",
    "    if type(i)==list or type(i)==tuple or type(i)==set:\n",
    "        for j in i:\n",
    "            \n",
    "            l1.append(j)\n",
    "    elif  type(i)==dict:\n",
    "        for k ,v in i.items():\n",
    "            \n",
    "    \n",
    "            l1.append(k)\n",
    "            l1.append(v)\n",
    "print(l1) \n",
    "s=[]\n",
    "for i in l1:\n",
    "    if type(i)==str:\n",
    "        s.append(i)"
   ]
  },
  {
   "cell_type": "code",
   "execution_count": 151,
   "id": "e97ae15e",
   "metadata": {},
   "outputs": [
    {
     "data": {
      "text/plain": [
       "['k1', 'sudh', 'k2', 'ineuron', 'k3', 'kumar', 'ineuron', 'datscience']"
      ]
     },
     "execution_count": 151,
     "metadata": {},
     "output_type": "execute_result"
    }
   ],
   "source": [
    "s"
   ]
  },
  {
   "cell_type": "code",
   "execution_count": 164,
   "id": "a4931ad0",
   "metadata": {},
   "outputs": [
    {
     "name": "stdout",
     "output_type": "stream",
     "text": [
      "its not alphanum\n"
     ]
    }
   ],
   "source": [
    "s=str(s)\n",
    "if s.isalnum()==True:\n",
    "        print(i)\n",
    "else:\n",
    "        print(\"its not alphanum\")"
   ]
  },
  {
   "cell_type": "code",
   "execution_count": 159,
   "id": "57eecedd",
   "metadata": {},
   "outputs": [
    {
     "data": {
      "text/plain": [
       "\"['k1', 'sudh', 'k2', 'ineuron', 'k3', 'kumar', 'ineuron', 'datscience']\""
      ]
     },
     "execution_count": 159,
     "metadata": {},
     "output_type": "execute_result"
    }
   ],
   "source": []
  },
  {
   "cell_type": "code",
   "execution_count": 169,
   "id": "68e96a99",
   "metadata": {},
   "outputs": [
    {
     "data": {
      "text/plain": [
       "True"
      ]
     },
     "execution_count": 169,
     "metadata": {},
     "output_type": "execute_result"
    }
   ],
   "source": [
    "s=\"k1\"\n",
    "s.isalnum()"
   ]
  },
  {
   "cell_type": "code",
   "execution_count": 170,
   "id": "392adc70",
   "metadata": {},
   "outputs": [
    {
     "data": {
      "text/plain": [
       "[[1, 2, 3, 4, 5],\n",
       " (2, 3, 4, 5, 6),\n",
       " (3, 4, 5, 6),\n",
       " {4, 5, 23, 45},\n",
       " {'k1': 'sudh', 'k2': 'ineuron', 'k3': 'kumar', 3: 6, 7: 8},\n",
       " ['ineuron', 'datscience']]"
      ]
     },
     "execution_count": 170,
     "metadata": {},
     "output_type": "execute_result"
    }
   ],
   "source": [
    "l"
   ]
  },
  {
   "cell_type": "code",
   "execution_count": 197,
   "id": "a53fa3d5",
   "metadata": {},
   "outputs": [],
   "source": [
    "s=str(list(l))   "
   ]
  },
  {
   "cell_type": "code",
   "execution_count": 198,
   "id": "be648955",
   "metadata": {},
   "outputs": [
    {
     "data": {
      "text/plain": [
       "\"[[1, 2, 3, 4, 5], (2, 3, 4, 5, 6), (3, 4, 5, 6), {45, 4, 5, 23}, {'k1': 'sudh', 'k2': 'ineuron', 'k3': 'kumar', 3: 6, 7: 8}, ['ineuron', 'datscience']]\""
      ]
     },
     "execution_count": 198,
     "metadata": {},
     "output_type": "execute_result"
    }
   ],
   "source": [
    "s"
   ]
  },
  {
   "cell_type": "code",
   "execution_count": 216,
   "id": "b9bdb18a",
   "metadata": {},
   "outputs": [
    {
     "name": "stdout",
     "output_type": "stream",
     "text": [
      "[\n",
      "[\n",
      "1\n",
      ",\n",
      " \n",
      "2\n",
      ",\n",
      " \n",
      "3\n",
      ",\n",
      " \n",
      "4\n",
      ",\n",
      " \n",
      "5\n",
      "]\n",
      ",\n",
      " \n",
      "(\n",
      "2\n",
      ",\n",
      " \n",
      "3\n",
      ",\n",
      " \n",
      "4\n",
      ",\n",
      " \n",
      "5\n",
      ",\n",
      " \n",
      "6\n",
      ")\n",
      ",\n",
      " \n",
      "(\n",
      "3\n",
      ",\n",
      " \n",
      "4\n",
      ",\n",
      " \n",
      "5\n",
      ",\n",
      " \n",
      "6\n",
      ")\n",
      ",\n",
      " \n",
      "{\n",
      "4\n",
      "5\n",
      ",\n",
      " \n",
      "4\n",
      ",\n",
      " \n",
      "5\n",
      ",\n",
      " \n",
      "2\n",
      "3\n",
      "}\n",
      ",\n",
      " \n",
      "{\n",
      "'\n",
      "k\n",
      "1\n",
      "'\n",
      ":\n",
      " \n",
      "'\n",
      "s\n",
      "u\n",
      "d\n",
      "h\n",
      "'\n",
      ",\n",
      " \n",
      "'\n",
      "k\n",
      "2\n",
      "'\n",
      ":\n",
      " \n",
      "'\n",
      "i\n",
      "n\n",
      "e\n",
      "u\n",
      "r\n",
      "o\n",
      "n\n",
      "'\n",
      ",\n",
      " \n",
      "'\n",
      "k\n",
      "3\n",
      "'\n",
      ":\n",
      " \n",
      "'\n",
      "k\n",
      "u\n",
      "m\n",
      "a\n",
      "r\n",
      "'\n",
      ",\n",
      " \n",
      "3\n",
      ":\n",
      " \n",
      "6\n",
      ",\n",
      " \n",
      "7\n",
      ":\n",
      " \n",
      "8\n",
      "}\n",
      ",\n",
      " \n",
      "[\n",
      "'\n",
      "i\n",
      "n\n",
      "e\n",
      "u\n",
      "r\n",
      "o\n",
      "n\n",
      "'\n",
      ",\n",
      " \n",
      "'\n",
      "d\n",
      "a\n",
      "t\n",
      "s\n",
      "c\n",
      "i\n",
      "e\n",
      "n\n",
      "c\n",
      "e\n",
      "'\n",
      "]\n",
      "]\n"
     ]
    }
   ],
   "source": [
    "\n",
    "for i in list(s):\n",
    "    s.isalnum==True\n",
    "    print(i)\n",
    "        "
   ]
  },
  {
   "cell_type": "code",
   "execution_count": null,
   "id": "2e9e5b34",
   "metadata": {},
   "outputs": [],
   "source": []
  }
 ],
 "metadata": {
  "kernelspec": {
   "display_name": "Python 3 (ipykernel)",
   "language": "python",
   "name": "python3"
  },
  "language_info": {
   "codemirror_mode": {
    "name": "ipython",
    "version": 3
   },
   "file_extension": ".py",
   "mimetype": "text/x-python",
   "name": "python",
   "nbconvert_exporter": "python",
   "pygments_lexer": "ipython3",
   "version": "3.11.4"
  }
 },
 "nbformat": 4,
 "nbformat_minor": 5
}
