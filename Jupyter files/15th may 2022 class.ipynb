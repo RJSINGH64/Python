{
 "cells": [
  {
   "cell_type": "code",
   "execution_count": 1,
   "id": "cf433634",
   "metadata": {},
   "outputs": [],
   "source": [
    "s=\"ineuron\""
   ]
  },
  {
   "cell_type": "code",
   "execution_count": 2,
   "id": "2e82de62",
   "metadata": {},
   "outputs": [
    {
     "data": {
      "text/plain": [
       "str"
      ]
     },
     "execution_count": 2,
     "metadata": {},
     "output_type": "execute_result"
    }
   ],
   "source": [
    "type(s)"
   ]
  },
  {
   "cell_type": "code",
   "execution_count": 3,
   "id": "353b0c92",
   "metadata": {},
   "outputs": [
    {
     "data": {
      "text/plain": [
       "'i'"
      ]
     },
     "execution_count": 3,
     "metadata": {},
     "output_type": "execute_result"
    }
   ],
   "source": [
    "s[0]"
   ]
  },
  {
   "cell_type": "code",
   "execution_count": 4,
   "id": "f6b5d38f",
   "metadata": {},
   "outputs": [
    {
     "data": {
      "text/plain": [
       "'n'"
      ]
     },
     "execution_count": 4,
     "metadata": {},
     "output_type": "execute_result"
    }
   ],
   "source": [
    "s[6]"
   ]
  },
  {
   "cell_type": "code",
   "execution_count": 5,
   "id": "d6608d4f",
   "metadata": {},
   "outputs": [
    {
     "data": {
      "text/plain": [
       "'r'"
      ]
     },
     "execution_count": 5,
     "metadata": {},
     "output_type": "execute_result"
    }
   ],
   "source": [
    "s[-3]"
   ]
  },
  {
   "cell_type": "code",
   "execution_count": 6,
   "id": "430827c7",
   "metadata": {},
   "outputs": [],
   "source": [
    "s1=\"rajat\""
   ]
  },
  {
   "cell_type": "code",
   "execution_count": 7,
   "id": "25a7374a",
   "metadata": {},
   "outputs": [
    {
     "data": {
      "text/plain": [
       "'r'"
      ]
     },
     "execution_count": 7,
     "metadata": {},
     "output_type": "execute_result"
    }
   ],
   "source": [
    "s1[0]"
   ]
  },
  {
   "cell_type": "code",
   "execution_count": 10,
   "id": "21d13dff",
   "metadata": {},
   "outputs": [],
   "source": [
    "s2=\"this is my first programming calss 's'\""
   ]
  },
  {
   "cell_type": "code",
   "execution_count": 11,
   "id": "b9948d4a",
   "metadata": {},
   "outputs": [
    {
     "data": {
      "text/plain": [
       "\"this is my first programming calss 's'\""
      ]
     },
     "execution_count": 11,
     "metadata": {},
     "output_type": "execute_result"
    }
   ],
   "source": [
    "s2"
   ]
  },
  {
   "cell_type": "code",
   "execution_count": 12,
   "id": "ded68a7f",
   "metadata": {},
   "outputs": [
    {
     "data": {
      "text/plain": [
       "'this is '"
      ]
     },
     "execution_count": 12,
     "metadata": {},
     "output_type": "execute_result"
    }
   ],
   "source": [
    "s2[0:8]"
   ]
  },
  {
   "cell_type": "code",
   "execution_count": 15,
   "id": "4b86f26e",
   "metadata": {},
   "outputs": [
    {
     "data": {
      "text/plain": [
       "'ti sm'"
      ]
     },
     "execution_count": 15,
     "metadata": {},
     "output_type": "execute_result"
    }
   ],
   "source": [
    "s2[0:9:2]"
   ]
  },
  {
   "cell_type": "code",
   "execution_count": 16,
   "id": "c1fc195b",
   "metadata": {},
   "outputs": [
    {
     "data": {
      "text/plain": [
       "'s my first programming c'"
      ]
     },
     "execution_count": 16,
     "metadata": {},
     "output_type": "execute_result"
    }
   ],
   "source": [
    "s2[6:30]"
   ]
  },
  {
   "cell_type": "code",
   "execution_count": 17,
   "id": "19266f94",
   "metadata": {},
   "outputs": [
    {
     "data": {
      "text/plain": [
       "'sm is rgamn '"
      ]
     },
     "execution_count": 17,
     "metadata": {},
     "output_type": "execute_result"
    }
   ],
   "source": [
    "s2[6:30:2]"
   ]
  },
  {
   "cell_type": "code",
   "execution_count": 30,
   "id": "93c7831a",
   "metadata": {},
   "outputs": [],
   "source": [
    "s3=\"sudhanshu\""
   ]
  },
  {
   "cell_type": "code",
   "execution_count": 32,
   "id": "6381614c",
   "metadata": {},
   "outputs": [
    {
     "data": {
      "text/plain": [
       "'sdasu'"
      ]
     },
     "execution_count": 32,
     "metadata": {},
     "output_type": "execute_result"
    }
   ],
   "source": [
    "s3[0:9:2]"
   ]
  },
  {
   "cell_type": "code",
   "execution_count": 34,
   "id": "4e587b9e",
   "metadata": {},
   "outputs": [
    {
     "data": {
      "text/plain": [
       "'sudhanshu'"
      ]
     },
     "execution_count": 34,
     "metadata": {},
     "output_type": "execute_result"
    }
   ],
   "source": [
    "s3"
   ]
  },
  {
   "cell_type": "code",
   "execution_count": 35,
   "id": "47c5cac5",
   "metadata": {},
   "outputs": [
    {
     "data": {
      "text/plain": [
       "''"
      ]
     },
     "execution_count": 35,
     "metadata": {},
     "output_type": "execute_result"
    }
   ],
   "source": [
    "s3[0:8:-1]"
   ]
  },
  {
   "cell_type": "code",
   "execution_count": 39,
   "id": "714fcba9",
   "metadata": {},
   "outputs": [
    {
     "data": {
      "text/plain": [
       "'usad'"
      ]
     },
     "execution_count": 39,
     "metadata": {},
     "output_type": "execute_result"
    }
   ],
   "source": [
    "s3[8:0:-2]"
   ]
  },
  {
   "cell_type": "code",
   "execution_count": 40,
   "id": "32ca3687",
   "metadata": {},
   "outputs": [
    {
     "data": {
      "text/plain": [
       "''"
      ]
     },
     "execution_count": 40,
     "metadata": {},
     "output_type": "execute_result"
    }
   ],
   "source": [
    "s3[8:0:1]"
   ]
  },
  {
   "cell_type": "code",
   "execution_count": 41,
   "id": "36a7a4ca",
   "metadata": {},
   "outputs": [
    {
     "data": {
      "text/plain": [
       "'sudhan'"
      ]
     },
     "execution_count": 41,
     "metadata": {},
     "output_type": "execute_result"
    }
   ],
   "source": [
    "s3[:-3]"
   ]
  },
  {
   "cell_type": "code",
   "execution_count": 42,
   "id": "7e2bbcaf",
   "metadata": {},
   "outputs": [
    {
     "data": {
      "text/plain": [
       "'sudhanshu'"
      ]
     },
     "execution_count": 42,
     "metadata": {},
     "output_type": "execute_result"
    }
   ],
   "source": [
    "s3"
   ]
  },
  {
   "cell_type": "code",
   "execution_count": 44,
   "id": "5684acff",
   "metadata": {},
   "outputs": [
    {
     "data": {
      "text/plain": [
       "'hu'"
      ]
     },
     "execution_count": 44,
     "metadata": {},
     "output_type": "execute_result"
    }
   ],
   "source": [
    "s3[-2:]"
   ]
  },
  {
   "cell_type": "code",
   "execution_count": 48,
   "id": "f8555db4",
   "metadata": {},
   "outputs": [
    {
     "data": {
      "text/plain": [
       "'sudhanshu'"
      ]
     },
     "execution_count": 48,
     "metadata": {},
     "output_type": "execute_result"
    }
   ],
   "source": [
    "s3[::1]"
   ]
  },
  {
   "cell_type": "code",
   "execution_count": 50,
   "id": "18b9ac82",
   "metadata": {},
   "outputs": [
    {
     "data": {
      "text/plain": [
       "'uhsnahdus'"
      ]
     },
     "execution_count": 50,
     "metadata": {},
     "output_type": "execute_result"
    }
   ],
   "source": [
    "s3[::-1]"
   ]
  },
  {
   "cell_type": "code",
   "execution_count": 51,
   "id": "446414f1",
   "metadata": {},
   "outputs": [
    {
     "data": {
      "text/plain": [
       "\"this is my first programming calss 's'\""
      ]
     },
     "execution_count": 51,
     "metadata": {},
     "output_type": "execute_result"
    }
   ],
   "source": [
    "s2"
   ]
  },
  {
   "cell_type": "code",
   "execution_count": 52,
   "id": "81f9a9f1",
   "metadata": {},
   "outputs": [
    {
     "data": {
      "text/plain": [
       "\"'s' sslac gnimmargorp tsrif ym si siht\""
      ]
     },
     "execution_count": 52,
     "metadata": {},
     "output_type": "execute_result"
    }
   ],
   "source": [
    "s2[::-1]"
   ]
  },
  {
   "cell_type": "code",
   "execution_count": 56,
   "id": "3d5ff869",
   "metadata": {},
   "outputs": [
    {
     "data": {
      "text/plain": [
       "''"
      ]
     },
     "execution_count": 56,
     "metadata": {},
     "output_type": "execute_result"
    }
   ],
   "source": [
    "s2[0:8:-1]"
   ]
  },
  {
   "cell_type": "code",
   "execution_count": 57,
   "id": "f3fb6cd0",
   "metadata": {},
   "outputs": [
    {
     "data": {
      "text/plain": [
       "'ineuron'"
      ]
     },
     "execution_count": 57,
     "metadata": {},
     "output_type": "execute_result"
    }
   ],
   "source": [
    "s"
   ]
  },
  {
   "cell_type": "code",
   "execution_count": 58,
   "id": "ba0989e0",
   "metadata": {},
   "outputs": [
    {
     "data": {
      "text/plain": [
       "'norueni'"
      ]
     },
     "execution_count": 58,
     "metadata": {},
     "output_type": "execute_result"
    }
   ],
   "source": [
    "s[::-1]"
   ]
  },
  {
   "cell_type": "code",
   "execution_count": 60,
   "id": "479b413e",
   "metadata": {},
   "outputs": [
    {
     "data": {
      "text/plain": [
       "'ineur'"
      ]
     },
     "execution_count": 60,
     "metadata": {},
     "output_type": "execute_result"
    }
   ],
   "source": [
    "s[-7:-2:1]"
   ]
  },
  {
   "cell_type": "code",
   "execution_count": 65,
   "id": "c27ab64d",
   "metadata": {},
   "outputs": [
    {
     "data": {
      "text/plain": [
       "''"
      ]
     },
     "execution_count": 65,
     "metadata": {},
     "output_type": "execute_result"
    }
   ],
   "source": [
    "s[5:0]"
   ]
  },
  {
   "cell_type": "code",
   "execution_count": 66,
   "id": "d84632f6",
   "metadata": {},
   "outputs": [
    {
     "data": {
      "text/plain": [
       "'ineuron'"
      ]
     },
     "execution_count": 66,
     "metadata": {},
     "output_type": "execute_result"
    }
   ],
   "source": [
    "s"
   ]
  },
  {
   "cell_type": "code",
   "execution_count": 80,
   "id": "17373657",
   "metadata": {},
   "outputs": [
    {
     "data": {
      "text/plain": [
       "''"
      ]
     },
     "execution_count": 80,
     "metadata": {},
     "output_type": "execute_result"
    }
   ],
   "source": [
    "s[-7:0]"
   ]
  },
  {
   "cell_type": "code",
   "execution_count": 81,
   "id": "481a498b",
   "metadata": {},
   "outputs": [
    {
     "data": {
      "text/plain": [
       "'sudhanshu'"
      ]
     },
     "execution_count": 81,
     "metadata": {},
     "output_type": "execute_result"
    }
   ],
   "source": [
    "s3"
   ]
  },
  {
   "cell_type": "code",
   "execution_count": 89,
   "id": "32296952",
   "metadata": {},
   "outputs": [
    {
     "data": {
      "text/plain": [
       "'sudhansh'"
      ]
     },
     "execution_count": 89,
     "metadata": {},
     "output_type": "execute_result"
    }
   ],
   "source": [
    "s3[0:-1:1]"
   ]
  },
  {
   "cell_type": "code",
   "execution_count": 91,
   "id": "03cafcab",
   "metadata": {},
   "outputs": [
    {
     "data": {
      "text/plain": [
       "'ineuron1'"
      ]
     },
     "execution_count": 91,
     "metadata": {},
     "output_type": "execute_result"
    }
   ],
   "source": [
    "s+\"1\"\n"
   ]
  },
  {
   "cell_type": "code",
   "execution_count": 92,
   "id": "74d722e4",
   "metadata": {},
   "outputs": [
    {
     "data": {
      "text/plain": [
       "'sudhanshu'"
      ]
     },
     "execution_count": 92,
     "metadata": {},
     "output_type": "execute_result"
    }
   ],
   "source": [
    "s3"
   ]
  },
  {
   "cell_type": "code",
   "execution_count": 94,
   "id": "2ac51ea4",
   "metadata": {},
   "outputs": [
    {
     "data": {
      "text/plain": [
       "'sudhanshu 1'"
      ]
     },
     "execution_count": 94,
     "metadata": {},
     "output_type": "execute_result"
    }
   ],
   "source": [
    "s3+\" 1\""
   ]
  },
  {
   "cell_type": "code",
   "execution_count": 99,
   "id": "0d221805",
   "metadata": {},
   "outputs": [
    {
     "data": {
      "text/plain": [
       "'sudhanshu1'"
      ]
     },
     "execution_count": 99,
     "metadata": {},
     "output_type": "execute_result"
    }
   ],
   "source": [
    "s3+ str(1)"
   ]
  },
  {
   "cell_type": "code",
   "execution_count": 100,
   "id": "5bd0eba3",
   "metadata": {},
   "outputs": [
    {
     "data": {
      "text/plain": [
       "'sudh536383288383'"
      ]
     },
     "execution_count": 100,
     "metadata": {},
     "output_type": "execute_result"
    }
   ],
   "source": [
    "\"sudh\"+\"536383288383\""
   ]
  },
  {
   "cell_type": "code",
   "execution_count": 101,
   "id": "15a3caa1",
   "metadata": {},
   "outputs": [
    {
     "data": {
      "text/plain": [
       "9"
      ]
     },
     "execution_count": 101,
     "metadata": {},
     "output_type": "execute_result"
    }
   ],
   "source": [
    "len(s3)"
   ]
  },
  {
   "cell_type": "code",
   "execution_count": 103,
   "id": "71655069",
   "metadata": {},
   "outputs": [
    {
     "data": {
      "text/plain": [
       "'sudhanshusudhanshu'"
      ]
     },
     "execution_count": 103,
     "metadata": {},
     "output_type": "execute_result"
    }
   ],
   "source": [
    "s3*2"
   ]
  },
  {
   "cell_type": "code",
   "execution_count": 110,
   "id": "f3cb577b",
   "metadata": {},
   "outputs": [
    {
     "data": {
      "text/plain": [
       "0"
      ]
     },
     "execution_count": 110,
     "metadata": {},
     "output_type": "execute_result"
    }
   ],
   "source": [
    "s3.count(\"sum\")"
   ]
  },
  {
   "cell_type": "code",
   "execution_count": 112,
   "id": "454d3832",
   "metadata": {},
   "outputs": [
    {
     "data": {
      "text/plain": [
       "list"
      ]
     },
     "execution_count": 112,
     "metadata": {},
     "output_type": "execute_result"
    }
   ],
   "source": [
    "type(s3.split(\"u\"))"
   ]
  },
  {
   "cell_type": "code",
   "execution_count": 116,
   "id": "0c06a19b",
   "metadata": {},
   "outputs": [],
   "source": [
    "sw=\"\"\"Samsung Group,[3] or simply Samsung (Korean: 삼성; RR: samseong [samsʌŋ]; stylized as SΛMSUNG), is a South Korean multinational manufacturing conglomerate headquartered in Samsung Digital City, Suwon, South Korea.[1] It comprises numerous affiliated businesses,[1] most of them united under the Samsung brand, and is the largest South Korean chaebol (business conglomerate). As of 2020, Samsung has the eighth-highest global brand value.[4]\n",
    "\n",
    "Samsung was founded by Lee Byung-chul in 1938 as a trading company. Over the next three decades, the group diversified into areas including food processing, textiles, insurance, securities, and retail. Samsung entered the electronics industry in the late 1960s and the construction and shipbuilding industries in the mid-1970s; these areas would drive its subsequent growth. Following Lee's death in 1987, Samsung was separated into five business groups – Samsung Group, Shinsegae Group, CJ Group and Hansol Group, and JoongAng Group.\"\"\""
   ]
  },
  {
   "cell_type": "code",
   "execution_count": 117,
   "id": "100d7b21",
   "metadata": {},
   "outputs": [
    {
     "data": {
      "text/plain": [
       "\"Samsung Group,[3] or simply Samsung (Korean: 삼성; RR: samseong [samsʌŋ]; stylized as SΛMSUNG), is a South Korean multinational manufacturing conglomerate headquartered in Samsung Digital City, Suwon, South Korea.[1] It comprises numerous affiliated businesses,[1] most of them united under the Samsung brand, and is the largest South Korean chaebol (business conglomerate). As of 2020, Samsung has the eighth-highest global brand value.[4]\\n\\nSamsung was founded by Lee Byung-chul in 1938 as a trading company. Over the next three decades, the group diversified into areas including food processing, textiles, insurance, securities, and retail. Samsung entered the electronics industry in the late 1960s and the construction and shipbuilding industries in the mid-1970s; these areas would drive its subsequent growth. Following Lee's death in 1987, Samsung was separated into five business groups – Samsung Group, Shinsegae Group, CJ Group and Hansol Group, and JoongAng Group.\""
      ]
     },
     "execution_count": 117,
     "metadata": {},
     "output_type": "execute_result"
    }
   ],
   "source": [
    "sw"
   ]
  },
  {
   "cell_type": "code",
   "execution_count": 118,
   "id": "8150734a",
   "metadata": {},
   "outputs": [
    {
     "data": {
      "text/plain": [
       "['Samsung',\n",
       " 'Group,[3]',\n",
       " 'or',\n",
       " 'simply',\n",
       " 'Samsung',\n",
       " '(Korean:',\n",
       " '삼성;',\n",
       " 'RR:',\n",
       " 'samseong',\n",
       " '[samsʌŋ];',\n",
       " 'stylized',\n",
       " 'as',\n",
       " 'SΛMSUNG),',\n",
       " 'is',\n",
       " 'a',\n",
       " 'South',\n",
       " 'Korean',\n",
       " 'multinational',\n",
       " 'manufacturing',\n",
       " 'conglomerate',\n",
       " 'headquartered',\n",
       " 'in',\n",
       " 'Samsung',\n",
       " 'Digital',\n",
       " 'City,',\n",
       " 'Suwon,',\n",
       " 'South',\n",
       " 'Korea.[1]',\n",
       " 'It',\n",
       " 'comprises',\n",
       " 'numerous',\n",
       " 'affiliated',\n",
       " 'businesses,[1]',\n",
       " 'most',\n",
       " 'of',\n",
       " 'them',\n",
       " 'united',\n",
       " 'under',\n",
       " 'the',\n",
       " 'Samsung',\n",
       " 'brand,',\n",
       " 'and',\n",
       " 'is',\n",
       " 'the',\n",
       " 'largest',\n",
       " 'South',\n",
       " 'Korean',\n",
       " 'chaebol',\n",
       " '(business',\n",
       " 'conglomerate).',\n",
       " 'As',\n",
       " 'of',\n",
       " '2020,',\n",
       " 'Samsung',\n",
       " 'has',\n",
       " 'the',\n",
       " 'eighth-highest',\n",
       " 'global',\n",
       " 'brand',\n",
       " 'value.[4]\\n\\nSamsung',\n",
       " 'was',\n",
       " 'founded',\n",
       " 'by',\n",
       " 'Lee',\n",
       " 'Byung-chul',\n",
       " 'in',\n",
       " '1938',\n",
       " 'as',\n",
       " 'a',\n",
       " 'trading',\n",
       " 'company.',\n",
       " 'Over',\n",
       " 'the',\n",
       " 'next',\n",
       " 'three',\n",
       " 'decades,',\n",
       " 'the',\n",
       " 'group',\n",
       " 'diversified',\n",
       " 'into',\n",
       " 'areas',\n",
       " 'including',\n",
       " 'food',\n",
       " 'processing,',\n",
       " 'textiles,',\n",
       " 'insurance,',\n",
       " 'securities,',\n",
       " 'and',\n",
       " 'retail.',\n",
       " 'Samsung',\n",
       " 'entered',\n",
       " 'the',\n",
       " 'electronics',\n",
       " 'industry',\n",
       " 'in',\n",
       " 'the',\n",
       " 'late',\n",
       " '1960s',\n",
       " 'and',\n",
       " 'the',\n",
       " 'construction',\n",
       " 'and',\n",
       " 'shipbuilding',\n",
       " 'industries',\n",
       " 'in',\n",
       " 'the',\n",
       " 'mid-1970s;',\n",
       " 'these',\n",
       " 'areas',\n",
       " 'would',\n",
       " 'drive',\n",
       " 'its',\n",
       " 'subsequent',\n",
       " 'growth.',\n",
       " 'Following',\n",
       " \"Lee's\",\n",
       " 'death',\n",
       " 'in',\n",
       " '1987,',\n",
       " 'Samsung',\n",
       " 'was',\n",
       " 'separated',\n",
       " 'into',\n",
       " 'five',\n",
       " 'business',\n",
       " 'groups',\n",
       " '–',\n",
       " 'Samsung',\n",
       " 'Group,',\n",
       " 'Shinsegae',\n",
       " 'Group,',\n",
       " 'CJ',\n",
       " 'Group',\n",
       " 'and',\n",
       " 'Hansol',\n",
       " 'Group,',\n",
       " 'and',\n",
       " 'JoongAng',\n",
       " 'Group.']"
      ]
     },
     "execution_count": 118,
     "metadata": {},
     "output_type": "execute_result"
    }
   ],
   "source": [
    "sw.split(\" \")"
   ]
  },
  {
   "cell_type": "code",
   "execution_count": 121,
   "id": "12de4379",
   "metadata": {},
   "outputs": [
    {
     "data": {
      "text/plain": [
       "60"
      ]
     },
     "execution_count": 121,
     "metadata": {},
     "output_type": "execute_result"
    }
   ],
   "source": [
    "sw.count(\"a\")"
   ]
  },
  {
   "cell_type": "code",
   "execution_count": 122,
   "id": "d84aae85",
   "metadata": {},
   "outputs": [
    {
     "data": {
      "text/plain": [
       "\"SAMSUNG GROUP,[3] OR SIMPLY SAMSUNG (KOREAN: 삼성; RR: SAMSEONG [SAMSɅŊ]; STYLIZED AS SΛMSUNG), IS A SOUTH KOREAN MULTINATIONAL MANUFACTURING CONGLOMERATE HEADQUARTERED IN SAMSUNG DIGITAL CITY, SUWON, SOUTH KOREA.[1] IT COMPRISES NUMEROUS AFFILIATED BUSINESSES,[1] MOST OF THEM UNITED UNDER THE SAMSUNG BRAND, AND IS THE LARGEST SOUTH KOREAN CHAEBOL (BUSINESS CONGLOMERATE). AS OF 2020, SAMSUNG HAS THE EIGHTH-HIGHEST GLOBAL BRAND VALUE.[4]\\n\\nSAMSUNG WAS FOUNDED BY LEE BYUNG-CHUL IN 1938 AS A TRADING COMPANY. OVER THE NEXT THREE DECADES, THE GROUP DIVERSIFIED INTO AREAS INCLUDING FOOD PROCESSING, TEXTILES, INSURANCE, SECURITIES, AND RETAIL. SAMSUNG ENTERED THE ELECTRONICS INDUSTRY IN THE LATE 1960S AND THE CONSTRUCTION AND SHIPBUILDING INDUSTRIES IN THE MID-1970S; THESE AREAS WOULD DRIVE ITS SUBSEQUENT GROWTH. FOLLOWING LEE'S DEATH IN 1987, SAMSUNG WAS SEPARATED INTO FIVE BUSINESS GROUPS – SAMSUNG GROUP, SHINSEGAE GROUP, CJ GROUP AND HANSOL GROUP, AND JOONGANG GROUP.\""
      ]
     },
     "execution_count": 122,
     "metadata": {},
     "output_type": "execute_result"
    }
   ],
   "source": [
    "sw.upper()"
   ]
  },
  {
   "cell_type": "code",
   "execution_count": 123,
   "id": "4c7c2175",
   "metadata": {},
   "outputs": [
    {
     "data": {
      "text/plain": [
       "\"Samsung group,[3] or simply samsung (korean: 삼성; rr: samseong [samsʌŋ]; stylized as sλmsung), is a south korean multinational manufacturing conglomerate headquartered in samsung digital city, suwon, south korea.[1] it comprises numerous affiliated businesses,[1] most of them united under the samsung brand, and is the largest south korean chaebol (business conglomerate). as of 2020, samsung has the eighth-highest global brand value.[4]\\n\\nsamsung was founded by lee byung-chul in 1938 as a trading company. over the next three decades, the group diversified into areas including food processing, textiles, insurance, securities, and retail. samsung entered the electronics industry in the late 1960s and the construction and shipbuilding industries in the mid-1970s; these areas would drive its subsequent growth. following lee's death in 1987, samsung was separated into five business groups – samsung group, shinsegae group, cj group and hansol group, and joongang group.\""
      ]
     },
     "execution_count": 123,
     "metadata": {},
     "output_type": "execute_result"
    }
   ],
   "source": [
    "sw.capitalize()"
   ]
  },
  {
   "cell_type": "code",
   "execution_count": 124,
   "id": "fb347091",
   "metadata": {},
   "outputs": [
    {
     "data": {
      "text/plain": [
       "\"Samsung Group,[3] Or Simply Samsung (Korean: 삼성; Rr: Samseong [Samsʌŋ]; Stylized As Sλmsung), Is A South Korean Multinational Manufacturing Conglomerate Headquartered In Samsung Digital City, Suwon, South Korea.[1] It Comprises Numerous Affiliated Businesses,[1] Most Of Them United Under The Samsung Brand, And Is The Largest South Korean Chaebol (Business Conglomerate). As Of 2020, Samsung Has The Eighth-Highest Global Brand Value.[4]\\n\\nSamsung Was Founded By Lee Byung-Chul In 1938 As A Trading Company. Over The Next Three Decades, The Group Diversified Into Areas Including Food Processing, Textiles, Insurance, Securities, And Retail. Samsung Entered The Electronics Industry In The Late 1960S And The Construction And Shipbuilding Industries In The Mid-1970S; These Areas Would Drive Its Subsequent Growth. Following Lee'S Death In 1987, Samsung Was Separated Into Five Business Groups – Samsung Group, Shinsegae Group, Cj Group And Hansol Group, And Joongang Group.\""
      ]
     },
     "execution_count": 124,
     "metadata": {},
     "output_type": "execute_result"
    }
   ],
   "source": [
    "sw.title()"
   ]
  },
  {
   "cell_type": "code",
   "execution_count": 125,
   "id": "1c52dac0",
   "metadata": {},
   "outputs": [],
   "source": [
    "sw=sw.capitalize()"
   ]
  },
  {
   "cell_type": "code",
   "execution_count": 126,
   "id": "42eac9e8",
   "metadata": {},
   "outputs": [
    {
     "data": {
      "text/plain": [
       "\"Samsung group,[3] or simply samsung (korean: 삼성; rr: samseong [samsʌŋ]; stylized as sλmsung), is a south korean multinational manufacturing conglomerate headquartered in samsung digital city, suwon, south korea.[1] it comprises numerous affiliated businesses,[1] most of them united under the samsung brand, and is the largest south korean chaebol (business conglomerate). as of 2020, samsung has the eighth-highest global brand value.[4]\\n\\nsamsung was founded by lee byung-chul in 1938 as a trading company. over the next three decades, the group diversified into areas including food processing, textiles, insurance, securities, and retail. samsung entered the electronics industry in the late 1960s and the construction and shipbuilding industries in the mid-1970s; these areas would drive its subsequent growth. following lee's death in 1987, samsung was separated into five business groups – samsung group, shinsegae group, cj group and hansol group, and joongang group.\""
      ]
     },
     "execution_count": 126,
     "metadata": {},
     "output_type": "execute_result"
    }
   ],
   "source": [
    "sw"
   ]
  },
  {
   "cell_type": "code",
   "execution_count": 127,
   "id": "5e457cb9",
   "metadata": {},
   "outputs": [
    {
     "data": {
      "text/plain": [
       "['Samsung',\n",
       " 'group,[3]',\n",
       " 'or',\n",
       " 'simply',\n",
       " 'samsung',\n",
       " '(korean:',\n",
       " '삼성;',\n",
       " 'rr:',\n",
       " 'samseong',\n",
       " '[samsʌŋ];',\n",
       " 'stylized',\n",
       " 'as',\n",
       " 'sλmsung),',\n",
       " 'is',\n",
       " 'a',\n",
       " 'south',\n",
       " 'korean',\n",
       " 'multinational',\n",
       " 'manufacturing',\n",
       " 'conglomerate',\n",
       " 'headquartered',\n",
       " 'in',\n",
       " 'samsung',\n",
       " 'digital',\n",
       " 'city,',\n",
       " 'suwon,',\n",
       " 'south',\n",
       " 'korea.[1]',\n",
       " 'it',\n",
       " 'comprises',\n",
       " 'numerous',\n",
       " 'affiliated',\n",
       " 'businesses,[1]',\n",
       " 'most',\n",
       " 'of',\n",
       " 'them',\n",
       " 'united',\n",
       " 'under',\n",
       " 'the',\n",
       " 'samsung',\n",
       " 'brand,',\n",
       " 'and',\n",
       " 'is',\n",
       " 'the',\n",
       " 'largest',\n",
       " 'south',\n",
       " 'korean',\n",
       " 'chaebol',\n",
       " '(business',\n",
       " 'conglomerate).',\n",
       " 'as',\n",
       " 'of',\n",
       " '2020,',\n",
       " 'samsung',\n",
       " 'has',\n",
       " 'the',\n",
       " 'eighth-highest',\n",
       " 'global',\n",
       " 'brand',\n",
       " 'value.[4]\\n\\nsamsung',\n",
       " 'was',\n",
       " 'founded',\n",
       " 'by',\n",
       " 'lee',\n",
       " 'byung-chul',\n",
       " 'in',\n",
       " '1938',\n",
       " 'as',\n",
       " 'a',\n",
       " 'trading',\n",
       " 'company.',\n",
       " 'over',\n",
       " 'the',\n",
       " 'next',\n",
       " 'three',\n",
       " 'decades,',\n",
       " 'the',\n",
       " 'group',\n",
       " 'diversified',\n",
       " 'into',\n",
       " 'areas',\n",
       " 'including',\n",
       " 'food',\n",
       " 'processing,',\n",
       " 'textiles,',\n",
       " 'insurance,',\n",
       " 'securities,',\n",
       " 'and',\n",
       " 'retail.',\n",
       " 'samsung',\n",
       " 'entered',\n",
       " 'the',\n",
       " 'electronics',\n",
       " 'industry',\n",
       " 'in',\n",
       " 'the',\n",
       " 'late',\n",
       " '1960s',\n",
       " 'and',\n",
       " 'the',\n",
       " 'construction',\n",
       " 'and',\n",
       " 'shipbuilding',\n",
       " 'industries',\n",
       " 'in',\n",
       " 'the',\n",
       " 'mid-1970s;',\n",
       " 'these',\n",
       " 'areas',\n",
       " 'would',\n",
       " 'drive',\n",
       " 'its',\n",
       " 'subsequent',\n",
       " 'growth.',\n",
       " 'following',\n",
       " \"lee's\",\n",
       " 'death',\n",
       " 'in',\n",
       " '1987,',\n",
       " 'samsung',\n",
       " 'was',\n",
       " 'separated',\n",
       " 'into',\n",
       " 'five',\n",
       " 'business',\n",
       " 'groups',\n",
       " '–',\n",
       " 'samsung',\n",
       " 'group,',\n",
       " 'shinsegae',\n",
       " 'group,',\n",
       " 'cj',\n",
       " 'group',\n",
       " 'and',\n",
       " 'hansol',\n",
       " 'group,',\n",
       " 'and',\n",
       " 'joongang',\n",
       " 'group.']"
      ]
     },
     "execution_count": 127,
     "metadata": {},
     "output_type": "execute_result"
    }
   ],
   "source": [
    "sw.split(\" \")"
   ]
  },
  {
   "cell_type": "code",
   "execution_count": 128,
   "id": "28211c60",
   "metadata": {},
   "outputs": [
    {
     "data": {
      "text/plain": [
       "'sudhanshu'"
      ]
     },
     "execution_count": 128,
     "metadata": {},
     "output_type": "execute_result"
    }
   ],
   "source": [
    "s3"
   ]
  },
  {
   "cell_type": "code",
   "execution_count": 129,
   "id": "1df6b3bd",
   "metadata": {},
   "outputs": [],
   "source": [
    "s=s3"
   ]
  },
  {
   "cell_type": "code",
   "execution_count": 130,
   "id": "61cd53dd",
   "metadata": {},
   "outputs": [
    {
     "data": {
      "text/plain": [
       "'sudhanshu'"
      ]
     },
     "execution_count": 130,
     "metadata": {},
     "output_type": "execute_result"
    }
   ],
   "source": [
    "s"
   ]
  },
  {
   "cell_type": "code",
   "execution_count": 131,
   "id": "f9ac319f",
   "metadata": {},
   "outputs": [
    {
     "data": {
      "text/plain": [
       "'Sudhanshu'"
      ]
     },
     "execution_count": 131,
     "metadata": {},
     "output_type": "execute_result"
    }
   ],
   "source": [
    "s.title()"
   ]
  },
  {
   "cell_type": "code",
   "execution_count": 136,
   "id": "0b194c09",
   "metadata": {},
   "outputs": [
    {
     "data": {
      "text/plain": [
       "'Sudhanshu kumar'"
      ]
     },
     "execution_count": 136,
     "metadata": {},
     "output_type": "execute_result"
    }
   ],
   "source": [
    "s.capitalize()"
   ]
  },
  {
   "cell_type": "code",
   "execution_count": 133,
   "id": "10555ab4",
   "metadata": {},
   "outputs": [],
   "source": [
    "s=\"Sudhanshu kuMar\""
   ]
  },
  {
   "cell_type": "code",
   "execution_count": 134,
   "id": "900da108",
   "metadata": {},
   "outputs": [
    {
     "data": {
      "text/plain": [
       "'Sudhanshu kuMar'"
      ]
     },
     "execution_count": 134,
     "metadata": {},
     "output_type": "execute_result"
    }
   ],
   "source": [
    "s"
   ]
  },
  {
   "cell_type": "code",
   "execution_count": 135,
   "id": "a9f1961b",
   "metadata": {},
   "outputs": [
    {
     "data": {
      "text/plain": [
       "'sUDHANSHU KUmAR'"
      ]
     },
     "execution_count": 135,
     "metadata": {},
     "output_type": "execute_result"
    }
   ],
   "source": [
    "s.swapcase()"
   ]
  },
  {
   "cell_type": "code",
   "execution_count": 138,
   "id": "7ea1796a",
   "metadata": {},
   "outputs": [
    {
     "data": {
      "text/plain": [
       "'raMuk uhsnahduS'"
      ]
     },
     "execution_count": 138,
     "metadata": {},
     "output_type": "execute_result"
    }
   ],
   "source": [
    "\"\".join(reversed(s))"
   ]
  },
  {
   "cell_type": "code",
   "execution_count": 139,
   "id": "373e3265",
   "metadata": {},
   "outputs": [
    {
     "data": {
      "text/plain": [
       "'raMuk uhsnahduS'"
      ]
     },
     "execution_count": 139,
     "metadata": {},
     "output_type": "execute_result"
    }
   ],
   "source": [
    "s[::-1]"
   ]
  },
  {
   "cell_type": "code",
   "execution_count": 143,
   "id": "3e5cb7a5",
   "metadata": {},
   "outputs": [],
   "source": [
    "s=\"   su dh   \""
   ]
  },
  {
   "cell_type": "code",
   "execution_count": 144,
   "id": "31c5e631",
   "metadata": {},
   "outputs": [
    {
     "data": {
      "text/plain": [
       "'   su dh   '"
      ]
     },
     "execution_count": 144,
     "metadata": {},
     "output_type": "execute_result"
    }
   ],
   "source": [
    "s"
   ]
  },
  {
   "cell_type": "code",
   "execution_count": 146,
   "id": "e361ceb4",
   "metadata": {},
   "outputs": [
    {
     "data": {
      "text/plain": [
       "'su dh   '"
      ]
     },
     "execution_count": 146,
     "metadata": {},
     "output_type": "execute_result"
    }
   ],
   "source": [
    "s.lstrip()"
   ]
  },
  {
   "cell_type": "code",
   "execution_count": 147,
   "id": "0f3dfef6",
   "metadata": {},
   "outputs": [
    {
     "data": {
      "text/plain": [
       "'   su dh'"
      ]
     },
     "execution_count": 147,
     "metadata": {},
     "output_type": "execute_result"
    }
   ],
   "source": [
    "s.rstrip()"
   ]
  },
  {
   "cell_type": "code",
   "execution_count": 148,
   "id": "08613423",
   "metadata": {},
   "outputs": [
    {
     "data": {
      "text/plain": [
       "'su dh'"
      ]
     },
     "execution_count": 148,
     "metadata": {},
     "output_type": "execute_result"
    }
   ],
   "source": [
    "s.strip()"
   ]
  },
  {
   "cell_type": "code",
   "execution_count": 149,
   "id": "49b0bbb9",
   "metadata": {},
   "outputs": [
    {
     "data": {
      "text/plain": [
       "'s u d h a n s h u'"
      ]
     },
     "execution_count": 149,
     "metadata": {},
     "output_type": "execute_result"
    }
   ],
   "source": [
    "\" \".join(\"sudhanshu\")"
   ]
  },
  {
   "cell_type": "code",
   "execution_count": 150,
   "id": "50362089",
   "metadata": {},
   "outputs": [],
   "source": [
    "s=\"sudh\""
   ]
  },
  {
   "cell_type": "code",
   "execution_count": 152,
   "id": "22b50795",
   "metadata": {},
   "outputs": [
    {
     "data": {
      "text/plain": [
       "'***sudh***'"
      ]
     },
     "execution_count": 152,
     "metadata": {},
     "output_type": "execute_result"
    }
   ],
   "source": [
    "s.center(10,\"*\")"
   ]
  },
  {
   "cell_type": "code",
   "execution_count": 153,
   "id": "c68bfbfb",
   "metadata": {},
   "outputs": [
    {
     "data": {
      "text/plain": [
       "False"
      ]
     },
     "execution_count": 153,
     "metadata": {},
     "output_type": "execute_result"
    }
   ],
   "source": [
    "s.isupper()"
   ]
  },
  {
   "cell_type": "code",
   "execution_count": 154,
   "id": "6cd598da",
   "metadata": {},
   "outputs": [],
   "source": [
    "s1=\"SUDHANSHU\""
   ]
  },
  {
   "cell_type": "code",
   "execution_count": 156,
   "id": "7a49b5cd",
   "metadata": {},
   "outputs": [
    {
     "data": {
      "text/plain": [
       "True"
      ]
     },
     "execution_count": 156,
     "metadata": {},
     "output_type": "execute_result"
    }
   ],
   "source": [
    "s1.isupper()"
   ]
  },
  {
   "cell_type": "code",
   "execution_count": 157,
   "id": "464a4b0f",
   "metadata": {},
   "outputs": [
    {
     "data": {
      "text/plain": [
       "True"
      ]
     },
     "execution_count": 157,
     "metadata": {},
     "output_type": "execute_result"
    }
   ],
   "source": [
    "s.islower()"
   ]
  },
  {
   "cell_type": "code",
   "execution_count": 158,
   "id": "2db1a4a1",
   "metadata": {},
   "outputs": [
    {
     "data": {
      "text/plain": [
       "False"
      ]
     },
     "execution_count": 158,
     "metadata": {},
     "output_type": "execute_result"
    }
   ],
   "source": [
    "s1.islower()"
   ]
  },
  {
   "cell_type": "code",
   "execution_count": 159,
   "id": "13a5888e",
   "metadata": {},
   "outputs": [
    {
     "data": {
      "text/plain": [
       "False"
      ]
     },
     "execution_count": 159,
     "metadata": {},
     "output_type": "execute_result"
    }
   ],
   "source": [
    "s.isspace()"
   ]
  },
  {
   "cell_type": "code",
   "execution_count": 160,
   "id": "9a066e13",
   "metadata": {},
   "outputs": [],
   "source": [
    "s4=\" \""
   ]
  },
  {
   "cell_type": "code",
   "execution_count": 161,
   "id": "d6f50a7f",
   "metadata": {},
   "outputs": [
    {
     "data": {
      "text/plain": [
       "True"
      ]
     },
     "execution_count": 161,
     "metadata": {},
     "output_type": "execute_result"
    }
   ],
   "source": [
    "s4.isspace()"
   ]
  },
  {
   "cell_type": "code",
   "execution_count": 162,
   "id": "8d525aa6",
   "metadata": {},
   "outputs": [
    {
     "data": {
      "text/plain": [
       "False"
      ]
     },
     "execution_count": 162,
     "metadata": {},
     "output_type": "execute_result"
    }
   ],
   "source": [
    "s4.isdigit()"
   ]
  },
  {
   "cell_type": "code",
   "execution_count": 163,
   "id": "9d699781",
   "metadata": {},
   "outputs": [],
   "source": [
    "s5=\"raghjjaksk6364747\""
   ]
  },
  {
   "cell_type": "code",
   "execution_count": 164,
   "id": "66261256",
   "metadata": {},
   "outputs": [
    {
     "data": {
      "text/plain": [
       "False"
      ]
     },
     "execution_count": 164,
     "metadata": {},
     "output_type": "execute_result"
    }
   ],
   "source": [
    "s5.isdigit()"
   ]
  },
  {
   "cell_type": "code",
   "execution_count": 165,
   "id": "00a78816",
   "metadata": {},
   "outputs": [],
   "source": [
    "s6=\"72648916\""
   ]
  },
  {
   "cell_type": "code",
   "execution_count": 166,
   "id": "e822a2c8",
   "metadata": {},
   "outputs": [
    {
     "data": {
      "text/plain": [
       "True"
      ]
     },
     "execution_count": 166,
     "metadata": {},
     "output_type": "execute_result"
    }
   ],
   "source": [
    "s6.isdigit()"
   ]
  },
  {
   "cell_type": "code",
   "execution_count": 168,
   "id": "f94b5e13",
   "metadata": {},
   "outputs": [
    {
     "data": {
      "text/plain": [
       "True"
      ]
     },
     "execution_count": 168,
     "metadata": {},
     "output_type": "execute_result"
    }
   ],
   "source": [
    "s.isalnum()"
   ]
  },
  {
   "cell_type": "code",
   "execution_count": 172,
   "id": "08264f1a",
   "metadata": {},
   "outputs": [
    {
     "data": {
      "text/plain": [
       "True"
      ]
     },
     "execution_count": 172,
     "metadata": {},
     "output_type": "execute_result"
    }
   ],
   "source": [
    "s.isalpha()"
   ]
  },
  {
   "cell_type": "code",
   "execution_count": 175,
   "id": "3052fd5e",
   "metadata": {},
   "outputs": [
    {
     "data": {
      "text/plain": [
       "True"
      ]
     },
     "execution_count": 175,
     "metadata": {},
     "output_type": "execute_result"
    }
   ],
   "source": [
    "s.startswith(\"s\")"
   ]
  },
  {
   "cell_type": "code",
   "execution_count": 176,
   "id": "e86d26e9",
   "metadata": {},
   "outputs": [
    {
     "data": {
      "text/plain": [
       "False"
      ]
     },
     "execution_count": 176,
     "metadata": {},
     "output_type": "execute_result"
    }
   ],
   "source": [
    "s5.startswith(\"d\")"
   ]
  },
  {
   "cell_type": "code",
   "execution_count": null,
   "id": "818c1f0c",
   "metadata": {},
   "outputs": [],
   "source": []
  }
 ],
 "metadata": {
  "kernelspec": {
   "display_name": "Python 3 (ipykernel)",
   "language": "python",
   "name": "python3"
  },
  "language_info": {
   "codemirror_mode": {
    "name": "ipython",
    "version": 3
   },
   "file_extension": ".py",
   "mimetype": "text/x-python",
   "name": "python",
   "nbconvert_exporter": "python",
   "pygments_lexer": "ipython3",
   "version": "3.11.4"
  }
 },
 "nbformat": 4,
 "nbformat_minor": 5
}
