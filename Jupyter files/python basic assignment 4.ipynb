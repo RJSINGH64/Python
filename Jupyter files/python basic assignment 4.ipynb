{
 "cells": [
  {
   "cell_type": "code",
   "execution_count": null,
   "id": "ae9515c7",
   "metadata": {},
   "outputs": [],
   "source": [
    "# q1.\n",
    "#[] its a list "
   ]
  },
  {
   "cell_type": "code",
   "execution_count": 1,
   "id": "3f446a3a",
   "metadata": {},
   "outputs": [
    {
     "name": "stdout",
     "output_type": "stream",
     "text": [
      "[2, 4, 'hello', 8, 10]\n"
     ]
    }
   ],
   "source": [
    "#q2.\n",
    "spam=[2,4,6,8,10]\n",
    "spam[2]=\"hello\" #by using item assignment we can store another values inside a list.\n",
    "print(spam)\n"
   ]
  },
  {
   "cell_type": "code",
   "execution_count": 6,
   "id": "9fa51601",
   "metadata": {},
   "outputs": [
    {
     "name": "stdout",
     "output_type": "stream",
     "text": [
      "['a', 'b', 'z']\n"
     ]
    }
   ],
   "source": [
    "spam=[\"a\",\"b\",\"c\",\"d\"]\n",
    "values_c=spam[2]\n",
    "spam[2]=\"z\"\n",
    "\n",
    "print(spam[:3])\n"
   ]
  },
  {
   "cell_type": "code",
   "execution_count": 7,
   "id": "7874d375",
   "metadata": {},
   "outputs": [
    {
     "data": {
      "text/plain": [
       "'d'"
      ]
     },
     "execution_count": 7,
     "metadata": {},
     "output_type": "execute_result"
    }
   ],
   "source": [
    "#q2.\n",
    "spam[(int(int(\"3\"*2)/11))]#it will print index 3 values within a list spam mentioned earilier"
   ]
  },
  {
   "cell_type": "code",
   "execution_count": 8,
   "id": "60ee3277",
   "metadata": {},
   "outputs": [
    {
     "data": {
      "text/plain": [
       "'d'"
      ]
     },
     "execution_count": 8,
     "metadata": {},
     "output_type": "execute_result"
    }
   ],
   "source": [
    "spam[int(int(3))]"
   ]
  },
  {
   "cell_type": "code",
   "execution_count": 9,
   "id": "d8f68180",
   "metadata": {},
   "outputs": [
    {
     "data": {
      "text/plain": [
       "'d'"
      ]
     },
     "execution_count": 9,
     "metadata": {},
     "output_type": "execute_result"
    }
   ],
   "source": [
    "#q3.\n",
    "spam[-1] #spam of -1 index contain d "
   ]
  },
  {
   "cell_type": "code",
   "execution_count": 12,
   "id": "17d0c66b",
   "metadata": {},
   "outputs": [
    {
     "data": {
      "text/plain": [
       "['a', 'b']"
      ]
     },
     "execution_count": 12,
     "metadata": {},
     "output_type": "execute_result"
    }
   ],
   "source": [
    "#q4.\n",
    "spam[:2] # if we not mention starting index default will be 0 . it start from 0 index  to excluding upperbound index 2."
   ]
  },
  {
   "cell_type": "code",
   "execution_count": 13,
   "id": "464cfb05",
   "metadata": {},
   "outputs": [
    {
     "data": {
      "text/plain": [
       "1"
      ]
     },
     "execution_count": 13,
     "metadata": {},
     "output_type": "execute_result"
    }
   ],
   "source": [
    "#q5.\n",
    "bacon=[3.14 , \"cat\", 11 , \"cat\", True]\n",
    "bacon.index(\"cat\") #in which index cat is available index 1.if two same values available inside a list then it show before index only,not after that "
   ]
  },
  {
   "cell_type": "code",
   "execution_count": 14,
   "id": "6696498a",
   "metadata": {},
   "outputs": [
    {
     "name": "stdout",
     "output_type": "stream",
     "text": [
      "[3.14, 'cat', 11, 'cat', True, 99]\n"
     ]
    }
   ],
   "source": [
    "#q6.\n",
    "bacon.append(99)# after using append fuction whatever values we mentioned in a append it will  add that values to existing ones.\n",
    "print(bacon)\n"
   ]
  },
  {
   "cell_type": "code",
   "execution_count": 15,
   "id": "2f1feb52",
   "metadata": {},
   "outputs": [
    {
     "data": {
      "text/plain": [
       "[3.14, 'cat', 11, 'cat', True, 99]"
      ]
     },
     "execution_count": 15,
     "metadata": {},
     "output_type": "execute_result"
    }
   ],
   "source": [
    "bacon"
   ]
  },
  {
   "cell_type": "code",
   "execution_count": 17,
   "id": "b72975d4",
   "metadata": {},
   "outputs": [
    {
     "data": {
      "text/plain": [
       "[3.14, 11, True, 99]"
      ]
     },
     "execution_count": 17,
     "metadata": {},
     "output_type": "execute_result"
    }
   ],
   "source": [
    "#q7.\n",
    "bacon.remove(\"cat\")#after using remove funtion it will remove both before and after \"cat\" from list\n",
    "bacon"
   ]
  },
  {
   "cell_type": "code",
   "execution_count": 18,
   "id": "eebadd69",
   "metadata": {},
   "outputs": [],
   "source": [
    "#q8.\n",
    "bacon.insert(2,\"cat\")"
   ]
  },
  {
   "cell_type": "code",
   "execution_count": 19,
   "id": "8321d113",
   "metadata": {},
   "outputs": [
    {
     "data": {
      "text/plain": [
       "[3.14, 11, 'cat', True, 99]"
      ]
     },
     "execution_count": 19,
     "metadata": {},
     "output_type": "execute_result"
    }
   ],
   "source": [
    "bacon"
   ]
  },
  {
   "cell_type": "code",
   "execution_count": null,
   "id": "e7720658",
   "metadata": {},
   "outputs": [],
   "source": []
  },
  {
   "cell_type": "code",
   "execution_count": 20,
   "id": "29844457",
   "metadata": {},
   "outputs": [],
   "source": [
    "bacon.append([12,3,4,5,6])"
   ]
  },
  {
   "cell_type": "code",
   "execution_count": 21,
   "id": "05e6e7fa",
   "metadata": {},
   "outputs": [
    {
     "data": {
      "text/plain": [
       "[3.14, 11, 'cat', True, 99, [12, 3, 4, 5, 6]]"
      ]
     },
     "execution_count": 21,
     "metadata": {},
     "output_type": "execute_result"
    }
   ],
   "source": [
    "bacon"
   ]
  },
  {
   "cell_type": "code",
   "execution_count": 23,
   "id": "af1a02dd",
   "metadata": {},
   "outputs": [],
   "source": [
    "tuple1=(12,3,4,6,7)\n",
    "int(tupe)"
   ]
  },
  {
   "cell_type": "code",
   "execution_count": null,
   "id": "3a5702c7",
   "metadata": {},
   "outputs": [],
   "source": []
  }
 ],
 "metadata": {
  "kernelspec": {
   "display_name": "Python 3 (ipykernel)",
   "language": "python",
   "name": "python3"
  },
  "language_info": {
   "codemirror_mode": {
    "name": "ipython",
    "version": 3
   },
   "file_extension": ".py",
   "mimetype": "text/x-python",
   "name": "python",
   "nbconvert_exporter": "python",
   "pygments_lexer": "ipython3",
   "version": "3.11.4"
  }
 },
 "nbformat": 4,
 "nbformat_minor": 5
}
