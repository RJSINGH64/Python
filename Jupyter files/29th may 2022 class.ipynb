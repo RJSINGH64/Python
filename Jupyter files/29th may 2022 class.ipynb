{
 "cells": [
  {
   "cell_type": "code",
   "execution_count": 1,
   "id": "2fe11099",
   "metadata": {},
   "outputs": [
    {
     "name": "stdout",
     "output_type": "stream",
     "text": [
      "1\n",
      "2\n",
      "3\n",
      "4\n",
      "5\n",
      "6\n",
      "7\n",
      "8\n",
      "9\n",
      "10\n"
     ]
    }
   ],
   "source": [
    "a=1\n",
    "b=10\n",
    "while a<=10:\n",
    "    print(a)\n",
    "    a+=1\n",
    "   "
   ]
  },
  {
   "cell_type": "code",
   "execution_count": 2,
   "id": "8e697e5b",
   "metadata": {},
   "outputs": [
    {
     "name": "stdout",
     "output_type": "stream",
     "text": [
      "else block\n"
     ]
    }
   ],
   "source": [
    "while a<=b:\n",
    "    print(a)\n",
    "    a+=1\n",
    "else:\n",
    "    print(\"else block\")"
   ]
  },
  {
   "cell_type": "code",
   "execution_count": 3,
   "id": "1e416421",
   "metadata": {},
   "outputs": [],
   "source": [
    "a=1"
   ]
  },
  {
   "cell_type": "code",
   "execution_count": 4,
   "id": "9953205e",
   "metadata": {},
   "outputs": [
    {
     "name": "stdout",
     "output_type": "stream",
     "text": [
      "1\n",
      "2\n",
      "3\n",
      "4\n",
      "5\n",
      "6\n",
      "7\n",
      "8\n",
      "9\n",
      "else block\n"
     ]
    }
   ],
   "source": [
    "while a<10:\n",
    "    print(a)\n",
    "    if a==0:\n",
    "        break\n",
    "    a+=1 \n",
    "else: \n",
    "    print(\"else block\")"
   ]
  },
  {
   "cell_type": "code",
   "execution_count": 5,
   "id": "c9acaefb",
   "metadata": {},
   "outputs": [
    {
     "name": "stdout",
     "output_type": "stream",
     "text": [
      "1\n",
      "2\n",
      "3\n",
      "4\n",
      "5\n",
      "6\n",
      "7\n",
      "8\n",
      "9\n"
     ]
    }
   ],
   "source": [
    "a=1\n",
    "b=10\n",
    "while a<b:\n",
    "    print(a)\n",
    "    a+=1\n",
    "    if a==3:\n",
    "        continue\n",
    "       "
   ]
  },
  {
   "cell_type": "code",
   "execution_count": 6,
   "id": "ac21e7c8",
   "metadata": {},
   "outputs": [
    {
     "name": "stdout",
     "output_type": "stream",
     "text": [
      "1\n",
      "2\n",
      "3\n",
      "4\n",
      "5\n",
      "6\n"
     ]
    }
   ],
   "source": [
    "l=(1,2,3,4,5,6)\n",
    "a=0\n",
    "while a<len(l):\n",
    "    print(l[a])\n",
    "    a+=1"
   ]
  },
  {
   "cell_type": "code",
   "execution_count": 7,
   "id": "81aa567c",
   "metadata": {},
   "outputs": [
    {
     "name": "stdout",
     "output_type": "stream",
     "text": [
      "index of   7 is -3\n",
      "index of   6 is -4\n"
     ]
    }
   ],
   "source": [
    "\n",
    "a=0\n",
    "t=(3,45,6,7,8,9)\n",
    "while a>-len(t):\n",
    "    if t[a]==6 or t[a]==7:\n",
    "        print(\"index of  \",t[a],\"is\",a)\n",
    "    a-=1"
   ]
  },
  {
   "cell_type": "code",
   "execution_count": 8,
   "id": "4feefc7d",
   "metadata": {},
   "outputs": [],
   "source": [
    "t=(6,4,5,6,7,8,6)"
   ]
  },
  {
   "cell_type": "code",
   "execution_count": 9,
   "id": "e34c95a3",
   "metadata": {},
   "outputs": [],
   "source": [
    "s=(1,2,4,5,6,7,7)"
   ]
  },
  {
   "cell_type": "code",
   "execution_count": 10,
   "id": "451cfb8b",
   "metadata": {},
   "outputs": [
    {
     "data": {
      "text/plain": [
       "7"
      ]
     },
     "execution_count": 10,
     "metadata": {},
     "output_type": "execute_result"
    }
   ],
   "source": [
    "len(s)"
   ]
  },
  {
   "cell_type": "code",
   "execution_count": 11,
   "id": "5731020c",
   "metadata": {},
   "outputs": [
    {
     "data": {
      "text/plain": [
       "(6, 4, 5, 6, 7, 8, 6)"
      ]
     },
     "execution_count": 11,
     "metadata": {},
     "output_type": "execute_result"
    }
   ],
   "source": [
    "t"
   ]
  },
  {
   "cell_type": "code",
   "execution_count": 12,
   "id": "d1d13bf9",
   "metadata": {},
   "outputs": [
    {
     "name": "stdout",
     "output_type": "stream",
     "text": [
      "index of  6 is -1\n",
      "index of  7 is -3\n",
      "index of  6 is -4\n",
      "index of  6 is -7\n"
     ]
    }
   ],
   "source": [
    "a=-1\n",
    "while a>=-len(t):\n",
    "    if t[a]==6 or t[a]==7:\n",
    "        print( \"index of \",t[a],\"is\" ,a)\n",
    "    a-=1          "
   ]
  },
  {
   "cell_type": "code",
   "execution_count": 13,
   "id": "23227997",
   "metadata": {},
   "outputs": [],
   "source": [
    "d={\"k1\":\"sudh\",\"k2\":[1,2,3,4,5],\"k3\":(2,3,4,5)}"
   ]
  },
  {
   "cell_type": "code",
   "execution_count": 14,
   "id": "1279c8d5",
   "metadata": {},
   "outputs": [
    {
     "data": {
      "text/plain": [
       "{'k1': 'sudh', 'k2': [1, 2, 3, 4, 5], 'k3': (2, 3, 4, 5)}"
      ]
     },
     "execution_count": 14,
     "metadata": {},
     "output_type": "execute_result"
    }
   ],
   "source": [
    "d"
   ]
  },
  {
   "cell_type": "code",
   "execution_count": 15,
   "id": "7e16dc13",
   "metadata": {},
   "outputs": [
    {
     "name": "stdout",
     "output_type": "stream",
     "text": [
      "k1 : sudh\n",
      "k2 : [1, 2, 3, 4, 5]\n",
      "k3 : (2, 3, 4, 5)\n"
     ]
    }
   ],
   "source": [
    "a=0\n",
    "b=list(d.keys())\n",
    "while a<len(d):\n",
    "    \n",
    "        print(b[a],\":\",d[b[a]])\n",
    "        a+=1    "
   ]
  },
  {
   "cell_type": "code",
   "execution_count": 16,
   "id": "d9d73b23",
   "metadata": {},
   "outputs": [
    {
     "data": {
      "text/plain": [
       "'sudh'"
      ]
     },
     "execution_count": 16,
     "metadata": {},
     "output_type": "execute_result"
    }
   ],
   "source": [
    "d[\"k1\"]"
   ]
  },
  {
   "cell_type": "code",
   "execution_count": 17,
   "id": "d964c53c",
   "metadata": {},
   "outputs": [
    {
     "ename": "TypeError",
     "evalue": "len() takes exactly one argument (0 given)",
     "output_type": "error",
     "traceback": [
      "\u001b[1;31m---------------------------------------------------------------------------\u001b[0m",
      "\u001b[1;31mTypeError\u001b[0m                                 Traceback (most recent call last)",
      "Cell \u001b[1;32mIn[17], line 1\u001b[0m\n\u001b[1;32m----> 1\u001b[0m \u001b[38;5;28mlen\u001b[39m()\n\u001b[0;32m      2\u001b[0m \u001b[38;5;28mrange\u001b[39m()\n\u001b[0;32m      3\u001b[0m \u001b[38;5;28mprint\u001b[39m()\n",
      "\u001b[1;31mTypeError\u001b[0m: len() takes exactly one argument (0 given)"
     ]
    }
   ],
   "source": [
    "len()\n",
    "range()\n",
    "print()\n",
    "append()\n",
    "items()\n",
    "keys()\n",
    "insert()\n",
    "pop()\n",
    "remove()\n",
    "extend()\n",
    "values()\n"
   ]
  },
  {
   "cell_type": "code",
   "execution_count": null,
   "id": "6629a8c3",
   "metadata": {},
   "outputs": [],
   "source": [
    "def test1(a):\n",
    "    return\"this is my first function\"\n"
   ]
  },
  {
   "cell_type": "code",
   "execution_count": null,
   "id": "390bfb36",
   "metadata": {},
   "outputs": [],
   "source": [
    "type(test1(a))"
   ]
  },
  {
   "cell_type": "code",
   "execution_count": null,
   "id": "31b616ff",
   "metadata": {},
   "outputs": [],
   "source": [
    "def test1():\n",
    "    return [1,2,23,4,5,6,[1,2,4,5,6]]"
   ]
  },
  {
   "cell_type": "code",
   "execution_count": null,
   "id": "6f0a5027",
   "metadata": {},
   "outputs": [],
   "source": [
    "test1()"
   ]
  },
  {
   "cell_type": "code",
   "execution_count": null,
   "id": "afcf910e",
   "metadata": {},
   "outputs": [],
   "source": [
    "type(test1())"
   ]
  },
  {
   "cell_type": "code",
   "execution_count": null,
   "id": "7d48127c",
   "metadata": {},
   "outputs": [],
   "source": [
    "a,b,c,d,e,f,g=test1()"
   ]
  },
  {
   "cell_type": "code",
   "execution_count": null,
   "id": "b89639f2",
   "metadata": {},
   "outputs": [],
   "source": [
    "g"
   ]
  },
  {
   "cell_type": "code",
   "execution_count": null,
   "id": "3ca523cf",
   "metadata": {},
   "outputs": [],
   "source": [
    "e"
   ]
  },
  {
   "cell_type": "code",
   "execution_count": null,
   "id": "0dab8591",
   "metadata": {},
   "outputs": [],
   "source": [
    "test1()"
   ]
  },
  {
   "cell_type": "code",
   "execution_count": null,
   "id": "0de4ae26",
   "metadata": {},
   "outputs": [],
   "source": [
    "_,_,_a,b,c,s,d=test1()"
   ]
  },
  {
   "cell_type": "code",
   "execution_count": null,
   "id": "884c38d2",
   "metadata": {},
   "outputs": [],
   "source": [
    "_,_,_\n"
   ]
  },
  {
   "cell_type": "code",
   "execution_count": null,
   "id": "122fb85c",
   "metadata": {},
   "outputs": [],
   "source": [
    "def test(a,b):\n",
    "    l1=[]\n",
    "    while a<b:\n",
    "        l1.append(a)\n",
    "        \n",
    "        a+=1\n",
    "        if a==3:\n",
    "            continue\n",
    "        \n",
    "    return l1"
   ]
  },
  {
   "cell_type": "code",
   "execution_count": null,
   "id": "31f4fcf6",
   "metadata": {},
   "outputs": [],
   "source": [
    "test(1,6)"
   ]
  },
  {
   "cell_type": "code",
   "execution_count": null,
   "id": "f031202f",
   "metadata": {},
   "outputs": [],
   "source": [
    "a=5\n",
    "b=5\n",
    "test(a,b)"
   ]
  },
  {
   "cell_type": "code",
   "execution_count": null,
   "id": "0c45f2bf",
   "metadata": {},
   "outputs": [],
   "source": [
    "test(3,56)"
   ]
  },
  {
   "cell_type": "code",
   "execution_count": null,
   "id": "4cd1bde3",
   "metadata": {},
   "outputs": [],
   "source": [
    "a"
   ]
  },
  {
   "cell_type": "code",
   "execution_count": null,
   "id": "06810cfd",
   "metadata": {},
   "outputs": [],
   "source": []
  },
  {
   "cell_type": "code",
   "execution_count": null,
   "id": "4d23342f",
   "metadata": {},
   "outputs": [],
   "source": [
    "l=[4,5,6,7,8,7,8,9,9,9,[3,4,5,6,7,7],\"sudh\"]"
   ]
  },
  {
   "cell_type": "code",
   "execution_count": null,
   "id": "cfd78119",
   "metadata": {},
   "outputs": [],
   "source": [
    "\n",
    "def test6(l):\n",
    "    l2=[]\n",
    "    for i in l:\n",
    "        if type(i)==int:\n",
    "            l2.append(i)\n",
    "    return l2        "
   ]
  },
  {
   "cell_type": "code",
   "execution_count": null,
   "id": "d3d213b1",
   "metadata": {},
   "outputs": [],
   "source": [
    "test6(l)"
   ]
  },
  {
   "cell_type": "code",
   "execution_count": null,
   "id": "20b32ad7",
   "metadata": {},
   "outputs": [],
   "source": [
    "l4=[12,2,3,43,5,6,[12,3,4,54,5,6,6],\"rajat\"]"
   ]
  },
  {
   "cell_type": "code",
   "execution_count": null,
   "id": "da956f19",
   "metadata": {},
   "outputs": [],
   "source": [
    "test6(l4)"
   ]
  },
  {
   "cell_type": "code",
   "execution_count": null,
   "id": "b71e162f",
   "metadata": {},
   "outputs": [],
   "source": [
    "def test8(t):\n",
    "    a=0\n",
    "    while a>-len(t):\n",
    "         if t[a]==6 or t[a]==7:\n",
    "            print(\"index of  \",t[a],\"is\",a)\n",
    "         a-=1"
   ]
  },
  {
   "cell_type": "code",
   "execution_count": null,
   "id": "b8364945",
   "metadata": {},
   "outputs": [],
   "source": [
    "test8((1,2,3,4,5,6,45,7,8,9))"
   ]
  },
  {
   "cell_type": "code",
   "execution_count": null,
   "id": "a8117c7a",
   "metadata": {},
   "outputs": [],
   "source": [
    "a=0\n",
    "while a<10:\n",
    "    print(\"* \"*a,end=\"\")\n",
    "    a+=1\n",
    "    print()    "
   ]
  },
  {
   "cell_type": "code",
   "execution_count": 20,
   "id": "9924075c",
   "metadata": {},
   "outputs": [
    {
     "name": "stdout",
     "output_type": "stream",
     "text": [
      "current time is :  24-02-08 10:45\n"
     ]
    }
   ],
   "source": [
    "from datetime import datetime\n",
    "currenttime=datetime.now().strftime(\"%y-%m-%d %H:%M\")\n",
    "print(\"current time is : \",currenttime)"
   ]
  },
  {
   "cell_type": "code",
   "execution_count": 8,
   "id": "194fcb3b",
   "metadata": {},
   "outputs": [
    {
     "name": "stdout",
     "output_type": "stream",
     "text": [
      "Enter your text : mera naam\n"
     ]
    },
    {
     "data": {
      "text/html": [
       "\n",
       "                <audio  controls=\"controls\" autoplay=\"autoplay\">\n",
       "                    <source src=\"data:audio/mpeg;base64,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\" type=\"audio/mpeg\" />\n",
       "                    Your browser does not support the audio element.\n",
       "                </audio>\n",
       "              "
      ],
      "text/plain": [
       "<IPython.lib.display.Audio object>"
      ]
     },
     "metadata": {},
     "output_type": "display_data"
    }
   ],
   "source": [
    "from gtts import gTTS\n",
    "from IPython.display import Audio, display\n",
    "\n",
    "# Enter the Hindi text you want to convert to speech\n",
    "input_text = input(\"Enter your text : \")\n",
    "\n",
    "# Create gTTS object with Hindi language code ('hi') and save to file\n",
    "tts = gTTS(text=input_text, slow=False)\n",
    "tts.save(\"output.mp3\")\n",
    "\n",
    "# Display and play the audio\n",
    "display(Audio(filename=\"output.mp3\", autoplay=True))"
   ]
  },
  {
   "cell_type": "code",
   "execution_count": 16,
   "id": "059301ab",
   "metadata": {},
   "outputs": [
    {
     "name": "stdout",
     "output_type": "stream",
     "text": [
      "Enter your Text : rajat\n"
     ]
    },
    {
     "data": {
      "text/html": [
       "\n",
       "                <audio  controls=\"controls\" autoplay=\"autoplay\">\n",
       "                    <source src=\"data:audio/mpeg;base64,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\" type=\"audio/mpeg\" />\n",
       "                    Your browser does not support the audio element.\n",
       "                </audio>\n",
       "              "
      ],
      "text/plain": [
       "<IPython.lib.display.Audio object>"
      ]
     },
     "metadata": {},
     "output_type": "display_data"
    }
   ],
   "source": [
    "from gtts import gTTS\n",
    "from IPython.display import Audio,display\n",
    "text1=input(\"Enter your Text : \")\n",
    "text2=gTTS(text=text1, slow=False)\n",
    "text2.save(\"firstfile.mp3\")\n",
    "display(Audio(filename=\"firstfile.mp3\",autoplay=True))"
   ]
  },
  {
   "cell_type": "code",
   "execution_count": 23,
   "id": "f7274ac6",
   "metadata": {},
   "outputs": [
    {
     "name": "stdout",
     "output_type": "stream",
     "text": [
      "Enter the duration of the alarm in seconds: 10\n",
      "Alarm set for 10 seconds.\n",
      "Time's up!\n"
     ]
    }
   ],
   "source": [
    "import time\n",
    "import winsound\n",
    "\n",
    "alarm_duration = int(input(\"Enter the duration of the alarm in seconds: \"))\n",
    "\n",
    "print(f\"Alarm set for {alarm_duration} seconds.\")\n",
    "time.sleep(alarm_duration)\n",
    "winsound.Beep(1000, 500)  # Beep sound (frequency, duration)\n",
    "print(\"Time's up!\")\n"
   ]
  },
  {
   "cell_type": "code",
   "execution_count": 28,
   "id": "7839971d",
   "metadata": {},
   "outputs": [
    {
     "name": "stdout",
     "output_type": "stream",
     "text": [
      "Enter the duration of the alarm in seconds: 10\n",
      "Alarm set for 10 seconds.\n",
      "Time's up!\n"
     ]
    }
   ],
   "source": [
    "import time\n",
    "import winsound\n",
    "\n",
    "alarm_duration = int(input(\"Enter the duration of the alarm in seconds: \"))\n",
    "\n",
    "print(f\"Alarm set for {alarm_duration} seconds.\")\n",
    "start_time = time.time()\n",
    "\n",
    "try:\n",
    "    while time.time() - start_time < alarm_duration:\n",
    "        winsound.Beep(1000, 500)  # Beep sound (frequency, duration)\n",
    "        time.sleep(1)\n",
    "except KeyboardInterrupt:\n",
    "    pass\n",
    "\n",
    "print(\"Time's up!\")\n"
   ]
  },
  {
   "cell_type": "code",
   "execution_count": 30,
   "id": "aed87fa4",
   "metadata": {},
   "outputs": [
    {
     "ename": "KeyboardInterrupt",
     "evalue": "Interrupted by user",
     "output_type": "error",
     "traceback": [
      "\u001b[1;31m---------------------------------------------------------------------------\u001b[0m",
      "\u001b[1;31mKeyboardInterrupt\u001b[0m                         Traceback (most recent call last)",
      "Cell \u001b[1;32mIn[30], line 6\u001b[0m\n\u001b[0;32m      3\u001b[0m \u001b[38;5;28;01mimport\u001b[39;00m \u001b[38;5;21;01mtime\u001b[39;00m\n\u001b[0;32m      5\u001b[0m \u001b[38;5;66;03m# Set the alarm time\u001b[39;00m\n\u001b[1;32m----> 6\u001b[0m alarm_time \u001b[38;5;241m=\u001b[39m \u001b[38;5;28minput\u001b[39m(\u001b[38;5;124m\"\u001b[39m\u001b[38;5;124mEnter the alarm time in HH:MM format: \u001b[39m\u001b[38;5;124m\"\u001b[39m)\n\u001b[0;32m      7\u001b[0m alarm_hour, alarm_minute \u001b[38;5;241m=\u001b[39m \u001b[38;5;28mmap\u001b[39m(\u001b[38;5;28mint\u001b[39m, alarm_time\u001b[38;5;241m.\u001b[39msplit(\u001b[38;5;124m'\u001b[39m\u001b[38;5;124m:\u001b[39m\u001b[38;5;124m'\u001b[39m))\n\u001b[0;32m      9\u001b[0m \u001b[38;5;66;03m# Get the current time\u001b[39;00m\n",
      "File \u001b[1;32mE:\\AnacondaDistribution\\Lib\\site-packages\\ipykernel\\kernelbase.py:1175\u001b[0m, in \u001b[0;36mKernel.raw_input\u001b[1;34m(self, prompt)\u001b[0m\n\u001b[0;32m   1171\u001b[0m \u001b[38;5;28;01mif\u001b[39;00m \u001b[38;5;129;01mnot\u001b[39;00m \u001b[38;5;28mself\u001b[39m\u001b[38;5;241m.\u001b[39m_allow_stdin:\n\u001b[0;32m   1172\u001b[0m     \u001b[38;5;28;01mraise\u001b[39;00m StdinNotImplementedError(\n\u001b[0;32m   1173\u001b[0m         \u001b[38;5;124m\"\u001b[39m\u001b[38;5;124mraw_input was called, but this frontend does not support input requests.\u001b[39m\u001b[38;5;124m\"\u001b[39m\n\u001b[0;32m   1174\u001b[0m     )\n\u001b[1;32m-> 1175\u001b[0m \u001b[38;5;28;01mreturn\u001b[39;00m \u001b[38;5;28mself\u001b[39m\u001b[38;5;241m.\u001b[39m_input_request(\n\u001b[0;32m   1176\u001b[0m     \u001b[38;5;28mstr\u001b[39m(prompt),\n\u001b[0;32m   1177\u001b[0m     \u001b[38;5;28mself\u001b[39m\u001b[38;5;241m.\u001b[39m_parent_ident[\u001b[38;5;124m\"\u001b[39m\u001b[38;5;124mshell\u001b[39m\u001b[38;5;124m\"\u001b[39m],\n\u001b[0;32m   1178\u001b[0m     \u001b[38;5;28mself\u001b[39m\u001b[38;5;241m.\u001b[39mget_parent(\u001b[38;5;124m\"\u001b[39m\u001b[38;5;124mshell\u001b[39m\u001b[38;5;124m\"\u001b[39m),\n\u001b[0;32m   1179\u001b[0m     password\u001b[38;5;241m=\u001b[39m\u001b[38;5;28;01mFalse\u001b[39;00m,\n\u001b[0;32m   1180\u001b[0m )\n",
      "File \u001b[1;32mE:\\AnacondaDistribution\\Lib\\site-packages\\ipykernel\\kernelbase.py:1217\u001b[0m, in \u001b[0;36mKernel._input_request\u001b[1;34m(self, prompt, ident, parent, password)\u001b[0m\n\u001b[0;32m   1214\u001b[0m             \u001b[38;5;28;01mbreak\u001b[39;00m\n\u001b[0;32m   1215\u001b[0m \u001b[38;5;28;01mexcept\u001b[39;00m \u001b[38;5;167;01mKeyboardInterrupt\u001b[39;00m:\n\u001b[0;32m   1216\u001b[0m     \u001b[38;5;66;03m# re-raise KeyboardInterrupt, to truncate traceback\u001b[39;00m\n\u001b[1;32m-> 1217\u001b[0m     \u001b[38;5;28;01mraise\u001b[39;00m \u001b[38;5;167;01mKeyboardInterrupt\u001b[39;00m(\u001b[38;5;124m\"\u001b[39m\u001b[38;5;124mInterrupted by user\u001b[39m\u001b[38;5;124m\"\u001b[39m) \u001b[38;5;28;01mfrom\u001b[39;00m \u001b[38;5;28;01mNone\u001b[39;00m\n\u001b[0;32m   1218\u001b[0m \u001b[38;5;28;01mexcept\u001b[39;00m \u001b[38;5;167;01mException\u001b[39;00m:\n\u001b[0;32m   1219\u001b[0m     \u001b[38;5;28mself\u001b[39m\u001b[38;5;241m.\u001b[39mlog\u001b[38;5;241m.\u001b[39mwarning(\u001b[38;5;124m\"\u001b[39m\u001b[38;5;124mInvalid Message:\u001b[39m\u001b[38;5;124m\"\u001b[39m, exc_info\u001b[38;5;241m=\u001b[39m\u001b[38;5;28;01mTrue\u001b[39;00m)\n",
      "\u001b[1;31mKeyboardInterrupt\u001b[0m: Interrupted by user"
     ]
    }
   ],
   "source": [
    "import winsound\n",
    "import datetime\n",
    "import time\n",
    "\n",
    "# Set the alarm time\n",
    "alarm_time = input(\"Enter the alarm time in HH:MM format: \")\n",
    "alarm_hour, alarm_minute = map(int, alarm_time.split(':'))\n",
    "\n",
    "# Get the current time\n",
    "current_time = datetime.datetime.now().time()\n",
    "current_hour, current_minute = current_time.hour, current_time.minute\n",
    "\n",
    "# Calculate the time difference until the alarm\n",
    "time_difference = datetime.datetime(1, 1, 1, alarm_hour, alarm_minute) - datetime.datetime(1, 1, 1, current_hour, current_minute)\n",
    "\n",
    "# Convert the time difference to seconds\n",
    "seconds_until_alarm = time_difference.total_seconds()\n",
    "\n",
    "if seconds_until_alarm < 0:\n",
    "    print(\"Invalid time. The alarm time should be in the future.\")\n",
    "else:\n",
    "    print(f\"Alarm set for {alarm_time}.\")\n",
    "    time.sleep(seconds_until_alarm)\n",
    "    \n",
    "    # Beep for 10 seconds\n",
    "    for _ in range(10):\n",
    "        winsound.Beep(1000, 1000)  # Beep sound (frequency, duration)\n",
    "\n",
    "    print(\"Time's up!\")\n"
   ]
  },
  {
   "cell_type": "code",
   "execution_count": 35,
   "id": "ca1f4203",
   "metadata": {},
   "outputs": [
    {
     "name": "stdout",
     "output_type": "stream",
     "text": [
      " time in seconds   10\n",
      "times up\n"
     ]
    }
   ],
   "source": [
    "import time\n",
    "import winsound\n",
    "\n",
    "alarm=int(input(\" time in seconds   \"))\n",
    "\n",
    "time.sleep(alarm)\n",
    "winsound.Beep(1000,500)\n",
    "print(\"times up\")"
   ]
  },
  {
   "cell_type": "code",
   "execution_count": 37,
   "id": "97ee30d3",
   "metadata": {},
   "outputs": [
    {
     "data": {
      "text/plain": [
       "datetime.datetime(2024, 2, 8, 11, 52, 32, 67032)"
      ]
     },
     "execution_count": 37,
     "metadata": {},
     "output_type": "execute_result"
    }
   ],
   "source": [
    "from datetime import datetime\n",
    "datetime.now()"
   ]
  },
  {
   "cell_type": "code",
   "execution_count": 39,
   "id": "bc92f481",
   "metadata": {},
   "outputs": [],
   "source": [
    "a=datetime.now()"
   ]
  },
  {
   "cell_type": "code",
   "execution_count": 46,
   "id": "fcd86ffc",
   "metadata": {},
   "outputs": [
    {
     "data": {
      "text/plain": [
       "'24-02-08 11:55'"
      ]
     },
     "execution_count": 46,
     "metadata": {},
     "output_type": "execute_result"
    }
   ],
   "source": [
    "a.strftime(\"%y-%m-%d %H:%M\")"
   ]
  },
  {
   "cell_type": "code",
   "execution_count": 54,
   "id": "bf434f1f",
   "metadata": {},
   "outputs": [],
   "source": [
    "import winsound\n",
    "winsound.Beep(1000,500)"
   ]
  },
  {
   "cell_type": "code",
   "execution_count": 57,
   "id": "69bd4c70",
   "metadata": {},
   "outputs": [],
   "source": [
    "import time\n"
   ]
  },
  {
   "cell_type": "code",
   "execution_count": 65,
   "id": "95c34918",
   "metadata": {},
   "outputs": [],
   "source": [
    "a=list(time.localtime())"
   ]
  },
  {
   "cell_type": "code",
   "execution_count": 66,
   "id": "ee6ae847",
   "metadata": {},
   "outputs": [
    {
     "data": {
      "text/plain": [
       "[2024, 2, 8, 12, 1, 19, 3, 39, 0]"
      ]
     },
     "execution_count": 66,
     "metadata": {},
     "output_type": "execute_result"
    }
   ],
   "source": [
    "a"
   ]
  },
  {
   "cell_type": "code",
   "execution_count": 79,
   "id": "f6c09b07",
   "metadata": {},
   "outputs": [
    {
     "name": "stdout",
     "output_type": "stream",
     "text": [
      "[2024, 2, 8]\n"
     ]
    }
   ],
   "source": [
    "l1=[]\n",
    "for i in a:\n",
    "    if i==2024 or i==2 or i==8:\n",
    "        l1.append(i)\n",
    "print(l1)        "
   ]
  },
  {
   "cell_type": "code",
   "execution_count": 93,
   "id": "81b36c12",
   "metadata": {},
   "outputs": [],
   "source": [
    " from datetime import datetime"
   ]
  },
  {
   "cell_type": "code",
   "execution_count": 94,
   "id": "ed6c7fcd",
   "metadata": {},
   "outputs": [
    {
     "data": {
      "text/plain": [
       "datetime.datetime(2024, 2, 8, 12, 14, 46, 679963)"
      ]
     },
     "execution_count": 94,
     "metadata": {},
     "output_type": "execute_result"
    }
   ],
   "source": [
    "datetime.now()"
   ]
  },
  {
   "cell_type": "code",
   "execution_count": 96,
   "id": "a7e32dfa",
   "metadata": {},
   "outputs": [],
   "source": [
    "t=datetime.date"
   ]
  },
  {
   "cell_type": "code",
   "execution_count": 100,
   "id": "d24fe661",
   "metadata": {},
   "outputs": [
    {
     "data": {
      "text/plain": [
       "<method 'date' of 'datetime.datetime' objects>"
      ]
     },
     "execution_count": 100,
     "metadata": {},
     "output_type": "execute_result"
    }
   ],
   "source": [
    "t"
   ]
  },
  {
   "cell_type": "code",
   "execution_count": 108,
   "id": "d6c1f4c7",
   "metadata": {},
   "outputs": [
    {
     "ename": "AttributeError",
     "evalue": "'method_descriptor' object has no attribute 'strftime'",
     "output_type": "error",
     "traceback": [
      "\u001b[1;31m---------------------------------------------------------------------------\u001b[0m",
      "\u001b[1;31mAttributeError\u001b[0m                            Traceback (most recent call last)",
      "Cell \u001b[1;32mIn[108], line 1\u001b[0m\n\u001b[1;32m----> 1\u001b[0m datetime\u001b[38;5;241m.\u001b[39mdate\u001b[38;5;241m.\u001b[39mstrftime(\u001b[38;5;124m\"\u001b[39m\u001b[38;5;124m%\u001b[39m\u001b[38;5;124my-\u001b[39m\u001b[38;5;124m%\u001b[39m\u001b[38;5;124mm-\u001b[39m\u001b[38;5;132;01m%d\u001b[39;00m\u001b[38;5;124m\"\u001b[39m)\n",
      "\u001b[1;31mAttributeError\u001b[0m: 'method_descriptor' object has no attribute 'strftime'"
     ]
    }
   ],
   "source": [
    "datetime.date.strftime(\"%y-%m-%d\")"
   ]
  },
  {
   "cell_type": "code",
   "execution_count": null,
   "id": "a0238940",
   "metadata": {},
   "outputs": [],
   "source": []
  }
 ],
 "metadata": {
  "kernelspec": {
   "display_name": "Python 3 (ipykernel)",
   "language": "python",
   "name": "python3"
  },
  "language_info": {
   "codemirror_mode": {
    "name": "ipython",
    "version": 3
   },
   "file_extension": ".py",
   "mimetype": "text/x-python",
   "name": "python",
   "nbconvert_exporter": "python",
   "pygments_lexer": "ipython3",
   "version": "3.11.4"
  }
 },
 "nbformat": 4,
 "nbformat_minor": 5
}
